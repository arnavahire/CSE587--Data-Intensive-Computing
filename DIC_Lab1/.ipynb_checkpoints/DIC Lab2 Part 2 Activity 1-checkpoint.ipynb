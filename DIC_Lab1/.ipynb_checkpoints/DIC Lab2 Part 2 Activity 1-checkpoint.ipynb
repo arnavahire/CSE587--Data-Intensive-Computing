{
 "cells": [
  {
   "cell_type": "code",
   "execution_count": 1,
   "metadata": {
    "collapsed": false
   },
   "outputs": [
    {
     "name": "stderr",
     "output_type": "stream",
     "text": [
      "Updating HTML index of packages in '.Library'\n",
      "Making 'packages.html' ... done\n"
     ]
    }
   ],
   "source": [
    "install.packages(\"XML\")"
   ]
  },
  {
   "cell_type": "code",
   "execution_count": 9,
   "metadata": {
    "collapsed": false
   },
   "outputs": [
    {
     "data": {
      "text/html": [
       "'reed.xml'"
      ],
      "text/latex": [
       "'reed.xml'"
      ],
      "text/markdown": [
       "'reed.xml'"
      ],
      "text/plain": [
       "[1] \"reed.xml\""
      ]
     },
     "metadata": {},
     "output_type": "display_data"
    },
    {
     "data": {
      "text/html": [
       "'reed.xml'"
      ],
      "text/latex": [
       "'reed.xml'"
      ],
      "text/markdown": [
       "'reed.xml'"
      ],
      "text/plain": [
       "[1] \"reed.xml\""
      ]
     },
     "metadata": {},
     "output_type": "display_data"
    },
    {
     "ename": "ERROR",
     "evalue": "Error: XML content does not seem to be XML: 'reed.xml'\n",
     "output_type": "error",
     "traceback": [
      "Error: XML content does not seem to be XML: 'reed.xml'\nTraceback:\n",
      "1. xmlToDataFrame(xfile, colClasses = NULL, homogeneous = NA, collectNames = TRUE, \n .     nodes = list(), stringsAsFactors = default.stringsAsFactors())",
      "2. xmlToDataFrame(xfile, colClasses = NULL, homogeneous = NA, collectNames = TRUE, \n .     nodes = list(), stringsAsFactors = default.stringsAsFactors())",
      "3. xmlToDataFrame(xmlParse(doc), colClasses, homogeneous, collectNames, \n .     stringsAsFactors = stringsAsFactors)",
      "4. xmlParse(doc)"
     ]
    }
   ],
   "source": [
    "library(XML)\n",
    "library(dplyr)\n",
    "xfile<-\"reed.xml\"\n",
    "xfile\n",
    "basename(xfile)\n",
    "\n",
    "\n",
    "file_df<-xmlToDataFrame(xfile, colClasses = NULL, homogeneous = NA,\n",
    "collectNames = TRUE, nodes = list(),\n",
    "stringsAsFactors = default.stringsAsFactors())\n",
    "file_df\n",
    "\n",
    "write.csv(file_df,file=\"DIC_Lab2_P1.csv\")\n",
    "count(file_df)"
   ]
  },
  {
   "cell_type": "code",
   "execution_count": 8,
   "metadata": {
    "collapsed": false
   },
   "outputs": [
    {
     "data": {
      "text/html": [
       "'reed.xml'"
      ],
      "text/latex": [
       "'reed.xml'"
      ],
      "text/markdown": [
       "'reed.xml'"
      ],
      "text/plain": [
       "[1] \"reed.xml\""
      ]
     },
     "metadata": {},
     "output_type": "display_data"
    },
    {
     "data": {
      "text/html": [
       "'reed.xml'"
      ],
      "text/latex": [
       "'reed.xml'"
      ],
      "text/markdown": [
       "'reed.xml'"
      ],
      "text/plain": [
       "[1] \"reed.xml\""
      ]
     },
     "metadata": {},
     "output_type": "display_data"
    },
    {
     "ename": "ERROR",
     "evalue": "Error: XML content does not seem to be XML: 'reed.xml'\n",
     "output_type": "error",
     "traceback": [
      "Error: XML content does not seem to be XML: 'reed.xml'\nTraceback:\n",
      "1. xmlToDataFrame(book, colClasses = NULL, homogeneous = NA, collectNames = TRUE, \n .     nodes = list(), stringsAsFactors = default.stringsAsFactors())",
      "2. xmlToDataFrame(book, colClasses = NULL, homogeneous = NA, collectNames = TRUE, \n .     nodes = list(), stringsAsFactors = default.stringsAsFactors())",
      "3. xmlToDataFrame(xmlParse(doc), colClasses, homogeneous, collectNames, \n .     stringsAsFactors = stringsAsFactors)",
      "4. xmlParse(doc)"
     ]
    }
   ],
   "source": [
    "library(\"XML\")\n",
    "library(dplyr)\n",
    "book<-\"reed.xml\"\n",
    "book\n",
    "basename(book)\n",
    "\n",
    "\n",
    "v<-xmlToDataFrame(book, colClasses = NULL, homogeneous = NA,\n",
    "collectNames = TRUE, nodes = list(),\n",
    "stringsAsFactors = default.stringsAsFactors())\n",
    "v\n",
    "\n",
    "write.csv(v,file=\"DIC_Lab2_P1.csv\")\n",
    "count(v)"
   ]
  },
  {
   "cell_type": "code",
   "execution_count": null,
   "metadata": {
    "collapsed": true
   },
   "outputs": [],
   "source": []
  }
 ],
 "metadata": {
  "kernelspec": {
   "display_name": "R",
   "language": "R",
   "name": "ir"
  },
  "language_info": {
   "codemirror_mode": "r",
   "file_extension": ".r",
   "mimetype": "text/x-r-source",
   "name": "R",
   "pygments_lexer": "r",
   "version": "3.3.2"
  }
 },
 "nbformat": 4,
 "nbformat_minor": 2
}
