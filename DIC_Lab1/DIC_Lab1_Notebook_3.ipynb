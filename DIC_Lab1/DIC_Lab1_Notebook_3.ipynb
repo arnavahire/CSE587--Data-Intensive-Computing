{
 "cells": [
  {
   "cell_type": "markdown",
   "metadata": {},
   "source": [
    "Lab1- Problem 2: Summarizing trending topics about a location\n",
    "------------------------------------------------------------------------------------------------------------------------------------"
   ]
  },
  {
   "cell_type": "markdown",
   "metadata": {},
   "source": [
    "My Twitter Credentials"
   ]
  },
  {
   "cell_type": "code",
   "execution_count": null,
   "metadata": {
    "collapsed": true
   },
   "outputs": [],
   "source": [
    "library(twitteR)\n",
    "Consumer_key <- \"RZNszQQgFyaSCmj7MZjcSoiA8\"                     \n",
    "Consumer_secret <- \"9Vhl9klf5jhHPLqmvgizNYPzstcspiD44vnPaK7zSX2qDr0RWb\"\n",
    "Access_token <- \"173808583-auhvsY9unIsuZIVh6z0ULIuyATFGwFi29gl9cZ0e\"\n",
    "Access_secret <- \"iG0EUvLUTr1mdDICaYcvfZm20K4e76qG0Mt1zrEVpoH3S\"\n",
    "setup_twitter_oauth(Consumer_key,Consumer_secret,Access_token,Access_secret)"
   ]
  },
  {
   "cell_type": "markdown",
   "metadata": {},
   "source": [
    "Libraries required"
   ]
  },
  {
   "cell_type": "code",
   "execution_count": 5,
   "metadata": {
    "collapsed": false
   },
   "outputs": [
    {
     "name": "stderr",
     "output_type": "stream",
     "text": [
      "Loading required package: ggplot2\n",
      "Information from URL : http://maps.googleapis.com/maps/api/geocode/json?address=London&sensor=false\n"
     ]
    },
    {
     "data": {
      "text/html": [
       "-0.1277583"
      ],
      "text/latex": [
       "-0.1277583"
      ],
      "text/markdown": [
       "-0.1277583"
      ],
      "text/plain": [
       "[1] -0.1277583"
      ]
     },
     "metadata": {},
     "output_type": "display_data"
    },
    {
     "data": {
      "text/html": [
       "51.5073509"
      ],
      "text/latex": [
       "51.5073509"
      ],
      "text/markdown": [
       "51.5073509"
      ],
      "text/plain": [
       "[1] 51.50735"
      ]
     },
     "metadata": {},
     "output_type": "display_data"
    },
    {
     "data": {
      "text/html": [
       "<table>\n",
       "<thead><tr><th scope=col>name</th><th scope=col>country</th><th scope=col>woeid</th></tr></thead>\n",
       "<tbody>\n",
       "\t<tr><td>London        </td><td>United Kingdom</td><td>44418         </td></tr>\n",
       "</tbody>\n",
       "</table>\n"
      ],
      "text/latex": [
       "\\begin{tabular}{r|lll}\n",
       " name & country & woeid\\\\\n",
       "\\hline\n",
       "\t London         & United Kingdom & 44418         \\\\\n",
       "\\end{tabular}\n"
      ],
      "text/markdown": [
       "\n",
       "name | country | woeid | \n",
       "|---|\n",
       "| London         | United Kingdom | 44418          | \n",
       "\n",
       "\n"
      ],
      "text/plain": [
       "  name   country        woeid\n",
       "1 London United Kingdom 44418"
      ]
     },
     "metadata": {},
     "output_type": "display_data"
    },
    {
     "data": {
      "text/html": [
       "<table>\n",
       "<thead><tr><th scope=col>name</th><th scope=col>url</th><th scope=col>query</th><th scope=col>woeid</th></tr></thead>\n",
       "<tbody>\n",
       "\t<tr><td>#Brighton                                          </td><td>http://twitter.com/search?q=%23Brighton            </td><td>%23Brighton                                        </td><td>44418                                              </td></tr>\n",
       "\t<tr><td>#INPLAY                                            </td><td>http://twitter.com/search?q=%23INPLAY              </td><td>%23INPLAY                                          </td><td>44418                                              </td></tr>\n",
       "\t<tr><td>#GrahamNorton                                      </td><td>http://twitter.com/search?q=%23GrahamNorton        </td><td>%23GrahamNorton                                    </td><td>44418                                              </td></tr>\n",
       "\t<tr><td>#supertrump                                        </td><td>http://twitter.com/search?q=%23supertrump          </td><td>%23supertrump                                      </td><td>44418                                              </td></tr>\n",
       "\t<tr><td>#EgyptASong                                        </td><td>http://twitter.com/search?q=%23EgyptASong          </td><td>%23EgyptASong                                      </td><td>44418                                              </td></tr>\n",
       "\t<tr><td>The Batman                                         </td><td>http://twitter.com/search?q=%22The+Batman%22       </td><td>%22The+Batman%22                                   </td><td>44418                                              </td></tr>\n",
       "\t<tr><td>Bruce Springsteen                                  </td><td>http://twitter.com/search?q=%22Bruce+Springsteen%22</td><td>%22Bruce+Springsteen%22                            </td><td>44418                                              </td></tr>\n",
       "\t<tr><td>Kingsholm                                          </td><td>http://twitter.com/search?q=Kingsholm              </td><td>Kingsholm                                          </td><td>44418                                              </td></tr>\n",
       "\t<tr><td>Shaun of the Dead                                  </td><td>http://twitter.com/search?q=%22Shaun+of+the+Dead%22</td><td>%22Shaun+of+the+Dead%22                            </td><td>44418                                              </td></tr>\n",
       "\t<tr><td>Blair's Brexit                                     </td><td>http://twitter.com/search?q=%22Blair%27s+Brexit%22 </td><td>%22Blair%27s+Brexit%22                             </td><td>44418                                              </td></tr>\n",
       "</tbody>\n",
       "</table>\n"
      ],
      "text/latex": [
       "\\begin{tabular}{r|llll}\n",
       " name & url & query & woeid\\\\\n",
       "\\hline\n",
       "\t \\#Brighton                                           & http://twitter.com/search?q=\\%23Brighton             & \\%23Brighton                                         & 44418                                                \\\\\n",
       "\t \\#INPLAY                                             & http://twitter.com/search?q=\\%23INPLAY               & \\%23INPLAY                                           & 44418                                                \\\\\n",
       "\t \\#GrahamNorton                                       & http://twitter.com/search?q=\\%23GrahamNorton         & \\%23GrahamNorton                                     & 44418                                                \\\\\n",
       "\t \\#supertrump                                         & http://twitter.com/search?q=\\%23supertrump           & \\%23supertrump                                       & 44418                                                \\\\\n",
       "\t \\#EgyptASong                                         & http://twitter.com/search?q=\\%23EgyptASong           & \\%23EgyptASong                                       & 44418                                                \\\\\n",
       "\t The Batman                                              & http://twitter.com/search?q=\\%22The+Batman\\%22        & \\%22The+Batman\\%22                                    & 44418                                                  \\\\\n",
       "\t Bruce Springsteen                                       & http://twitter.com/search?q=\\%22Bruce+Springsteen\\%22 & \\%22Bruce+Springsteen\\%22                             & 44418                                                  \\\\\n",
       "\t Kingsholm                                           & http://twitter.com/search?q=Kingsholm               & Kingsholm                                           & 44418                                              \\\\\n",
       "\t Shaun of the Dead                                       & http://twitter.com/search?q=\\%22Shaun+of+the+Dead\\%22 & \\%22Shaun+of+the+Dead\\%22                             & 44418                                                  \\\\\n",
       "\t Blair's Brexit                                            & http://twitter.com/search?q=\\%22Blair\\%27s+Brexit\\%22  & \\%22Blair\\%27s+Brexit\\%22                              & 44418                                                    \\\\\n",
       "\\end{tabular}\n"
      ],
      "text/markdown": [
       "\n",
       "name | url | query | woeid | \n",
       "|---|---|---|---|---|---|---|---|---|---|\n",
       "| #Brighton                                           | http://twitter.com/search?q=%23Brighton             | %23Brighton                                         | 44418                                               | \n",
       "| #INPLAY                                             | http://twitter.com/search?q=%23INPLAY               | %23INPLAY                                           | 44418                                               | \n",
       "| #GrahamNorton                                       | http://twitter.com/search?q=%23GrahamNorton         | %23GrahamNorton                                     | 44418                                               | \n",
       "| #supertrump                                         | http://twitter.com/search?q=%23supertrump           | %23supertrump                                       | 44418                                               | \n",
       "| #EgyptASong                                         | http://twitter.com/search?q=%23EgyptASong           | %23EgyptASong                                       | 44418                                               | \n",
       "| The Batman                                          | http://twitter.com/search?q=%22The+Batman%22        | %22The+Batman%22                                    | 44418                                               | \n",
       "| Bruce Springsteen                                   | http://twitter.com/search?q=%22Bruce+Springsteen%22 | %22Bruce+Springsteen%22                             | 44418                                               | \n",
       "| Kingsholm                                           | http://twitter.com/search?q=Kingsholm               | Kingsholm                                           | 44418                                               | \n",
       "| Shaun of the Dead                                   | http://twitter.com/search?q=%22Shaun+of+the+Dead%22 | %22Shaun+of+the+Dead%22                             | 44418                                               | \n",
       "| Blair's Brexit                                      | http://twitter.com/search?q=%22Blair%27s+Brexit%22  | %22Blair%27s+Brexit%22                              | 44418                                               | \n",
       "\n",
       "\n"
      ],
      "text/plain": [
       "   name              url                                                \n",
       "1  #Brighton         http://twitter.com/search?q=%23Brighton            \n",
       "2  #INPLAY           http://twitter.com/search?q=%23INPLAY              \n",
       "3  #GrahamNorton     http://twitter.com/search?q=%23GrahamNorton        \n",
       "4  #supertrump       http://twitter.com/search?q=%23supertrump          \n",
       "5  #EgyptASong       http://twitter.com/search?q=%23EgyptASong          \n",
       "6  The Batman        http://twitter.com/search?q=%22The+Batman%22       \n",
       "7  Bruce Springsteen http://twitter.com/search?q=%22Bruce+Springsteen%22\n",
       "8  Kingsholm         http://twitter.com/search?q=Kingsholm              \n",
       "9  Shaun of the Dead http://twitter.com/search?q=%22Shaun+of+the+Dead%22\n",
       "10 Blair's Brexit    http://twitter.com/search?q=%22Blair%27s+Brexit%22 \n",
       "   query                   woeid\n",
       "1  %23Brighton             44418\n",
       "2  %23INPLAY               44418\n",
       "3  %23GrahamNorton         44418\n",
       "4  %23supertrump           44418\n",
       "5  %23EgyptASong           44418\n",
       "6  %22The+Batman%22        44418\n",
       "7  %22Bruce+Springsteen%22 44418\n",
       "8  Kingsholm               44418\n",
       "9  %22Shaun+of+the+Dead%22 44418\n",
       "10 %22Blair%27s+Brexit%22  44418"
      ]
     },
     "metadata": {},
     "output_type": "display_data"
    }
   ],
   "source": [
    "library(twitteR)\n",
    "library(ggmap)  \n",
    "library(ggplot2)"
   ]
  },
  {
   "cell_type": "markdown",
   "metadata": {},
   "source": [
    "Search String"
   ]
  },
  {
   "cell_type": "code",
   "execution_count": null,
   "metadata": {
    "collapsed": true
   },
   "outputs": [],
   "source": [
    "location<-\"London\""
   ]
  },
  {
   "cell_type": "markdown",
   "metadata": {},
   "source": [
    "Obtain the latitude and longitude via geocode function of googleAPI"
   ]
  },
  {
   "cell_type": "code",
   "execution_count": null,
   "metadata": {
    "collapsed": true
   },
   "outputs": [],
   "source": [
    "gcode<-geocode(location)    \n",
    "x<-gcode$lon\n",
    "y<-gcode$lat"
   ]
  },
  {
   "cell_type": "markdown",
   "metadata": {},
   "source": [
    "Find the closest trending location for the specified co-ordinates"
   ]
  },
  {
   "cell_type": "code",
   "execution_count": null,
   "metadata": {
    "collapsed": true
   },
   "outputs": [],
   "source": [
    "wd<-closestTrendLocations(y,x)  "
   ]
  },
  {
   "cell_type": "markdown",
   "metadata": {},
   "source": [
    "In 'wd' we obtain 3 fields for the closest location obtained: Name, Country and WOEID: Where On Earth ID.\n",
    "getTrends(woeid) function is used to obtain Trending topics corresponding to that location."
   ]
  },
  {
   "cell_type": "code",
   "execution_count": null,
   "metadata": {
    "collapsed": true
   },
   "outputs": [],
   "source": [
    "trends<-getTrends(wd$woeid)"
   ]
  },
  {
   "cell_type": "markdown",
   "metadata": {},
   "source": [
    "paste(content to be combined) function is used to concatenate different contents together to display the final output.\n",
    "var[1:10] -- used to obtain data from first 10 locations of the list"
   ]
  },
  {
   "cell_type": "code",
   "execution_count": 21,
   "metadata": {
    "collapsed": false
   },
   "outputs": [
    {
     "data": {
      "text/html": [
       "' The trending topics in London are: '"
      ],
      "text/latex": [
       "' The trending topics in London are: '"
      ],
      "text/markdown": [
       "' The trending topics in London are: '"
      ],
      "text/plain": [
       "[1] \" The trending topics in London are: \""
      ]
     },
     "metadata": {},
     "output_type": "display_data"
    },
    {
     "data": {
      "text/html": [
       "<ol class=list-inline>\n",
       "\t<li>'#Brighton'</li>\n",
       "\t<li>'#INPLAY'</li>\n",
       "\t<li>'#GrahamNorton'</li>\n",
       "\t<li>'#supertrump'</li>\n",
       "\t<li>'#EgyptASong'</li>\n",
       "\t<li>'The Batman'</li>\n",
       "\t<li>'Bruce Springsteen'</li>\n",
       "\t<li>'Kingsholm'</li>\n",
       "\t<li>'Shaun of the Dead'</li>\n",
       "\t<li>'Blair\\'s Brexit'</li>\n",
       "</ol>\n"
      ],
      "text/latex": [
       "\\begin{enumerate*}\n",
       "\\item '\\#Brighton'\n",
       "\\item '\\#INPLAY'\n",
       "\\item '\\#GrahamNorton'\n",
       "\\item '\\#supertrump'\n",
       "\\item '\\#EgyptASong'\n",
       "\\item 'The Batman'\n",
       "\\item 'Bruce Springsteen'\n",
       "\\item 'Kingsholm'\n",
       "\\item 'Shaun of the Dead'\n",
       "\\item 'Blair\\textbackslash{}'s Brexit'\n",
       "\\end{enumerate*}\n"
      ],
      "text/markdown": [
       "1. '#Brighton'\n",
       "2. '#INPLAY'\n",
       "3. '#GrahamNorton'\n",
       "4. '#supertrump'\n",
       "5. '#EgyptASong'\n",
       "6. 'The Batman'\n",
       "7. 'Bruce Springsteen'\n",
       "8. 'Kingsholm'\n",
       "9. 'Shaun of the Dead'\n",
       "10. 'Blair\\'s Brexit'\n",
       "\n",
       "\n"
      ],
      "text/plain": [
       " [1] \"#Brighton\"         \"#INPLAY\"           \"#GrahamNorton\"    \n",
       " [4] \"#supertrump\"       \"#EgyptASong\"       \"The Batman\"       \n",
       " [7] \"Bruce Springsteen\" \"Kingsholm\"         \"Shaun of the Dead\"\n",
       "[10] \"Blair's Brexit\"   "
      ]
     },
     "metadata": {},
     "output_type": "display_data"
    }
   ],
   "source": [
    "paste(\" The trending topics in\",wd$name, \"are: \", sep=\" \")\n",
    "p<-trends$name\n",
    "p[1:10]"
   ]
  },
  {
   "cell_type": "code",
   "execution_count": null,
   "metadata": {
    "collapsed": true
   },
   "outputs": [],
   "source": []
  }
 ],
 "metadata": {
  "kernelspec": {
   "display_name": "R",
   "language": "R",
   "name": "ir"
  },
  "language_info": {
   "codemirror_mode": "r",
   "file_extension": ".r",
   "mimetype": "text/x-r-source",
   "name": "R",
   "pygments_lexer": "r",
   "version": "3.3.2"
  }
 },
 "nbformat": 4,
 "nbformat_minor": 2
}
