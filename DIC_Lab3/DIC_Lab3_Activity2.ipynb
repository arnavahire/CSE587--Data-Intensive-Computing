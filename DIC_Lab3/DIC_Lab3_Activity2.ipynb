{
 "cells": [
  {
   "cell_type": "markdown",
   "metadata": {},
   "source": [
    "DIC Lab3 Activity 2\n",
    "-------"
   ]
  },
  {
   "cell_type": "markdown",
   "metadata": {},
   "source": [
    "##### Read CSV"
   ]
  },
  {
   "cell_type": "code",
   "execution_count": 1,
   "metadata": {
    "collapsed": true
   },
   "outputs": [],
   "source": [
    "input_data=read.csv(file=\"german_credit_data1.csv\", header=TRUE)"
   ]
  },
  {
   "cell_type": "code",
   "execution_count": 2,
   "metadata": {
    "collapsed": false
   },
   "outputs": [
    {
     "data": {
      "text/html": [
       "<table>\n",
       "<thead><tr><th scope=col>X.</th><th scope=col>Age</th><th scope=col>Sex</th><th scope=col>Job</th><th scope=col>Housing</th><th scope=col>Saving.accounts</th><th scope=col>Checking.account</th><th scope=col>Credit.amount</th><th scope=col>Duration</th><th scope=col>Purpose</th><th scope=col>Credit.Risks</th></tr></thead>\n",
       "<tbody>\n",
       "\t<tr><td> 0                 </td><td>67                 </td><td>male               </td><td>2                  </td><td>own                </td><td>NA                 </td><td>little             </td><td> 1169              </td><td> 6                 </td><td>radio/TV           </td><td>1                  </td></tr>\n",
       "\t<tr><td> 1                 </td><td>22                 </td><td>female             </td><td>2                  </td><td>own                </td><td>little             </td><td>moderate           </td><td> 5951              </td><td>48                 </td><td>radio/TV           </td><td>2                  </td></tr>\n",
       "\t<tr><td> 2                 </td><td>49                 </td><td>male               </td><td>1                  </td><td>own                </td><td>little             </td><td>NA                 </td><td> 2096              </td><td>12                 </td><td>education          </td><td>1                  </td></tr>\n",
       "\t<tr><td> 3                 </td><td>45                 </td><td>male               </td><td>2                  </td><td>free               </td><td>little             </td><td>little             </td><td> 7882              </td><td>42                 </td><td>furniture/equipment</td><td>1                  </td></tr>\n",
       "\t<tr><td> 4                 </td><td>53                 </td><td>male               </td><td>2                  </td><td>free               </td><td>little             </td><td>little             </td><td> 4870              </td><td>24                 </td><td>car                </td><td>2                  </td></tr>\n",
       "\t<tr><td> 5                 </td><td>35                 </td><td>male               </td><td>1                  </td><td>free               </td><td>NA                 </td><td>NA                 </td><td> 9055              </td><td>36                 </td><td>education          </td><td>1                  </td></tr>\n",
       "\t<tr><td> 6                 </td><td>53                 </td><td>male               </td><td>2                  </td><td>own                </td><td>quite rich         </td><td>NA                 </td><td> 2835              </td><td>24                 </td><td>furniture/equipment</td><td>1                  </td></tr>\n",
       "\t<tr><td> 7                 </td><td>35                 </td><td>male               </td><td>3                  </td><td>rent               </td><td>little             </td><td>moderate           </td><td> 6948              </td><td>36                 </td><td>car                </td><td>1                  </td></tr>\n",
       "\t<tr><td> 8                 </td><td>61                 </td><td>male               </td><td>1                  </td><td>own                </td><td>rich               </td><td>NA                 </td><td> 3059              </td><td>12                 </td><td>radio/TV           </td><td>1                  </td></tr>\n",
       "\t<tr><td> 9                 </td><td>28                 </td><td>male               </td><td>3                  </td><td>own                </td><td>little             </td><td>moderate           </td><td> 5234              </td><td>30                 </td><td>car                </td><td>2                  </td></tr>\n",
       "\t<tr><td>10                 </td><td>25                 </td><td>female             </td><td>2                  </td><td>rent               </td><td>little             </td><td>moderate           </td><td> 1295              </td><td>12                 </td><td>car                </td><td>2                  </td></tr>\n",
       "\t<tr><td>11                 </td><td>24                 </td><td>female             </td><td>2                  </td><td>rent               </td><td>little             </td><td>little             </td><td> 4308              </td><td>48                 </td><td>business           </td><td>2                  </td></tr>\n",
       "\t<tr><td>12                 </td><td>22                 </td><td>female             </td><td>2                  </td><td>own                </td><td>little             </td><td>moderate           </td><td> 1567              </td><td>12                 </td><td>radio/TV           </td><td>1                  </td></tr>\n",
       "\t<tr><td>13                 </td><td>60                 </td><td>male               </td><td>1                  </td><td>own                </td><td>little             </td><td>little             </td><td> 1199              </td><td>24                 </td><td>car                </td><td>2                  </td></tr>\n",
       "\t<tr><td>14                 </td><td>28                 </td><td>female             </td><td>2                  </td><td>rent               </td><td>little             </td><td>little             </td><td> 1403              </td><td>15                 </td><td>car                </td><td>1                  </td></tr>\n",
       "\t<tr><td>15                 </td><td>32                 </td><td>female             </td><td>1                  </td><td>own                </td><td>moderate           </td><td>little             </td><td> 1282              </td><td>24                 </td><td>radio/TV           </td><td>2                  </td></tr>\n",
       "\t<tr><td>16                 </td><td>53                 </td><td>male               </td><td>2                  </td><td>own                </td><td>NA                 </td><td>NA                 </td><td> 2424              </td><td>24                 </td><td>radio/TV           </td><td>1                  </td></tr>\n",
       "\t<tr><td>17                 </td><td>25                 </td><td>male               </td><td>2                  </td><td>own                </td><td>NA                 </td><td>little             </td><td> 8072              </td><td>30                 </td><td>business           </td><td>1                  </td></tr>\n",
       "\t<tr><td>18                 </td><td>44                 </td><td>female             </td><td>3                  </td><td>free               </td><td>little             </td><td>moderate           </td><td>12579              </td><td>24                 </td><td>car                </td><td>2                  </td></tr>\n",
       "\t<tr><td>19                 </td><td>31                 </td><td>male               </td><td>2                  </td><td>own                </td><td>quite rich         </td><td>NA                 </td><td> 3430              </td><td>24                 </td><td>radio/TV           </td><td>1                  </td></tr>\n",
       "\t<tr><td>20                 </td><td>48                 </td><td>male               </td><td>2                  </td><td>own                </td><td>little             </td><td>NA                 </td><td> 2134              </td><td> 9                 </td><td>car                </td><td>1                  </td></tr>\n",
       "\t<tr><td>21                 </td><td>44                 </td><td>male               </td><td>2                  </td><td>rent               </td><td>quite rich         </td><td>little             </td><td> 2647              </td><td> 6                 </td><td>radio/TV           </td><td>1                  </td></tr>\n",
       "\t<tr><td>22                 </td><td>48                 </td><td>male               </td><td>1                  </td><td>rent               </td><td>little             </td><td>little             </td><td> 2241              </td><td>10                 </td><td>car                </td><td>1                  </td></tr>\n",
       "\t<tr><td>23                 </td><td>44                 </td><td>male               </td><td>2                  </td><td>own                </td><td>moderate           </td><td>moderate           </td><td> 1804              </td><td>12                 </td><td>car                </td><td>1                  </td></tr>\n",
       "\t<tr><td>24                 </td><td>26                 </td><td>male               </td><td>2                  </td><td>own                </td><td>NA                 </td><td>NA                 </td><td> 2069              </td><td>10                 </td><td>furniture/equipment</td><td>1                  </td></tr>\n",
       "\t<tr><td>25                 </td><td>36                 </td><td>male               </td><td>1                  </td><td>own                </td><td>little             </td><td>little             </td><td> 1374              </td><td> 6                 </td><td>furniture/equipment</td><td>1                  </td></tr>\n",
       "\t<tr><td>26                 </td><td>39                 </td><td>male               </td><td>1                  </td><td>own                </td><td>little             </td><td>NA                 </td><td>  426              </td><td> 6                 </td><td>radio/TV           </td><td>1                  </td></tr>\n",
       "\t<tr><td>27                 </td><td>42                 </td><td>female             </td><td>2                  </td><td>rent               </td><td>rich               </td><td>rich               </td><td>  409              </td><td>12                 </td><td>radio/TV           </td><td>1                  </td></tr>\n",
       "\t<tr><td>28                 </td><td>34                 </td><td>male               </td><td>2                  </td><td>own                </td><td>little             </td><td>moderate           </td><td> 2415              </td><td> 7                 </td><td>radio/TV           </td><td>1                  </td></tr>\n",
       "\t<tr><td>29                 </td><td>63                 </td><td>male               </td><td>2                  </td><td>own                </td><td>little             </td><td>little             </td><td> 6836              </td><td>60                 </td><td>business           </td><td>2                  </td></tr>\n",
       "\t<tr><td>⋮</td><td>⋮</td><td>⋮</td><td>⋮</td><td>⋮</td><td>⋮</td><td>⋮</td><td>⋮</td><td>⋮</td><td>⋮</td><td>⋮</td></tr>\n",
       "\t<tr><td>970                </td><td>22                 </td><td>male               </td><td>2                  </td><td>own                </td><td>moderate           </td><td>moderate           </td><td>1514               </td><td>15                 </td><td>repairs            </td><td>1                  </td></tr>\n",
       "\t<tr><td>971                </td><td>43                 </td><td>male               </td><td>1                  </td><td>own                </td><td>little             </td><td>NA                 </td><td>7393               </td><td>24                 </td><td>car                </td><td>1                  </td></tr>\n",
       "\t<tr><td>972                </td><td>29                 </td><td>female             </td><td>0                  </td><td>rent               </td><td>little             </td><td>little             </td><td>1193               </td><td>24                 </td><td>car                </td><td>2                  </td></tr>\n",
       "\t<tr><td>973                </td><td>36                 </td><td>male               </td><td>2                  </td><td>rent               </td><td>little             </td><td>little             </td><td>7297               </td><td>60                 </td><td>business           </td><td>2                  </td></tr>\n",
       "\t<tr><td>974                </td><td>33                 </td><td>female             </td><td>2                  </td><td>own                </td><td>little             </td><td>NA                 </td><td>2831               </td><td>30                 </td><td>radio/TV           </td><td>1                  </td></tr>\n",
       "\t<tr><td>975                </td><td>57                 </td><td>female             </td><td>1                  </td><td>own                </td><td>quite rich         </td><td>rich               </td><td>1258               </td><td>24                 </td><td>radio/TV           </td><td>1                  </td></tr>\n",
       "\t<tr><td>976                </td><td>64                 </td><td>female             </td><td>2                  </td><td>own                </td><td>little             </td><td>moderate           </td><td> 753               </td><td> 6                 </td><td>radio/TV           </td><td>1                  </td></tr>\n",
       "\t<tr><td>977                </td><td>42                 </td><td>male               </td><td>2                  </td><td>own                </td><td>NA                 </td><td>moderate           </td><td>2427               </td><td>18                 </td><td>business           </td><td>1                  </td></tr>\n",
       "\t<tr><td>978                </td><td>47                 </td><td>male               </td><td>1                  </td><td>own                </td><td>little             </td><td>NA                 </td><td>2538               </td><td>24                 </td><td>car                </td><td>2                  </td></tr>\n",
       "\t<tr><td>979                </td><td>25                 </td><td>male               </td><td>2                  </td><td>rent               </td><td>moderate           </td><td>moderate           </td><td>1264               </td><td>15                 </td><td>car                </td><td>2                  </td></tr>\n",
       "\t<tr><td>980                </td><td>49                 </td><td>male               </td><td>2                  </td><td>own                </td><td>little             </td><td>moderate           </td><td>8386               </td><td>30                 </td><td>furniture/equipment</td><td>2                  </td></tr>\n",
       "\t<tr><td>981                </td><td>33                 </td><td>male               </td><td>3                  </td><td>rent               </td><td>little             </td><td>NA                 </td><td>4844               </td><td>48                 </td><td>business           </td><td>2                  </td></tr>\n",
       "\t<tr><td>982                </td><td>28                 </td><td>female             </td><td>3                  </td><td>own                </td><td>moderate           </td><td>rich               </td><td>2923               </td><td>21                 </td><td>car                </td><td>1                  </td></tr>\n",
       "\t<tr><td>983                </td><td>26                 </td><td>male               </td><td>2                  </td><td>own                </td><td>little             </td><td>little             </td><td>8229               </td><td>36                 </td><td>car                </td><td>2                  </td></tr>\n",
       "\t<tr><td>984                </td><td>30                 </td><td>male               </td><td>1                  </td><td>own                </td><td>little             </td><td>NA                 </td><td>2028               </td><td>24                 </td><td>furniture/equipment</td><td>1                  </td></tr>\n",
       "\t<tr><td>985                </td><td>25                 </td><td>female             </td><td>2                  </td><td>rent               </td><td>little             </td><td>little             </td><td>1433               </td><td>15                 </td><td>furniture/equipment</td><td>1                  </td></tr>\n",
       "\t<tr><td>986                </td><td>33                 </td><td>male               </td><td>2                  </td><td>own                </td><td>little             </td><td>rich               </td><td>6289               </td><td>42                 </td><td>business           </td><td>1                  </td></tr>\n",
       "\t<tr><td>987                </td><td>64                 </td><td>female             </td><td>2                  </td><td>own                </td><td>moderate           </td><td>NA                 </td><td>1409               </td><td>13                 </td><td>radio/TV           </td><td>1                  </td></tr>\n",
       "\t<tr><td>988                </td><td>29                 </td><td>male               </td><td>3                  </td><td>free               </td><td>little             </td><td>little             </td><td>6579               </td><td>24                 </td><td>car                </td><td>1                  </td></tr>\n",
       "\t<tr><td>989                </td><td>48                 </td><td>male               </td><td>1                  </td><td>own                </td><td>little             </td><td>moderate           </td><td>1743               </td><td>24                 </td><td>radio/TV           </td><td>1                  </td></tr>\n",
       "\t<tr><td>990                </td><td>37                 </td><td>male               </td><td>1                  </td><td>own                </td><td>NA                 </td><td>NA                 </td><td>3565               </td><td>12                 </td><td>education          </td><td>1                  </td></tr>\n",
       "\t<tr><td>991                </td><td>34                 </td><td>male               </td><td>1                  </td><td>own                </td><td>moderate           </td><td>NA                 </td><td>1569               </td><td>15                 </td><td>radio/TV           </td><td>1                  </td></tr>\n",
       "\t<tr><td>992                </td><td>23                 </td><td>male               </td><td>1                  </td><td>rent               </td><td>NA                 </td><td>little             </td><td>1936               </td><td>18                 </td><td>radio/TV           </td><td>1                  </td></tr>\n",
       "\t<tr><td>993                </td><td>30                 </td><td>male               </td><td>3                  </td><td>own                </td><td>little             </td><td>little             </td><td>3959               </td><td>36                 </td><td>furniture/equipment</td><td>1                  </td></tr>\n",
       "\t<tr><td>994                </td><td>50                 </td><td>male               </td><td>2                  </td><td>own                </td><td>NA                 </td><td>NA                 </td><td>2390               </td><td>12                 </td><td>car                </td><td>1                  </td></tr>\n",
       "\t<tr><td>995                </td><td>31                 </td><td>female             </td><td>1                  </td><td>own                </td><td>little             </td><td>NA                 </td><td>1736               </td><td>12                 </td><td>furniture/equipment</td><td>1                  </td></tr>\n",
       "\t<tr><td>996                </td><td>40                 </td><td>male               </td><td>3                  </td><td>own                </td><td>little             </td><td>little             </td><td>3857               </td><td>30                 </td><td>car                </td><td>1                  </td></tr>\n",
       "\t<tr><td>997                </td><td>38                 </td><td>male               </td><td>2                  </td><td>own                </td><td>little             </td><td>NA                 </td><td> 804               </td><td>12                 </td><td>radio/TV           </td><td>1                  </td></tr>\n",
       "\t<tr><td>998                </td><td>23                 </td><td>male               </td><td>2                  </td><td>free               </td><td>little             </td><td>little             </td><td>1845               </td><td>45                 </td><td>radio/TV           </td><td>2                  </td></tr>\n",
       "\t<tr><td>999                </td><td>27                 </td><td>male               </td><td>2                  </td><td>own                </td><td>moderate           </td><td>moderate           </td><td>4576               </td><td>45                 </td><td>car                </td><td>1                  </td></tr>\n",
       "</tbody>\n",
       "</table>\n"
      ],
      "text/latex": [
       "\\begin{tabular}{r|lllllllllll}\n",
       " X. & Age & Sex & Job & Housing & Saving.accounts & Checking.account & Credit.amount & Duration & Purpose & Credit.Risks\\\\\n",
       "\\hline\n",
       "\t  0                  & 67                  & male                & 2                   & own                 & NA                  & little              &  1169               &  6                  & radio/TV            & 1                  \\\\\n",
       "\t  1                  & 22                  & female              & 2                   & own                 & little              & moderate            &  5951               & 48                  & radio/TV            & 2                  \\\\\n",
       "\t  2                  & 49                  & male                & 1                   & own                 & little              & NA                  &  2096               & 12                  & education           & 1                  \\\\\n",
       "\t  3                  & 45                  & male                & 2                   & free                & little              & little              &  7882               & 42                  & furniture/equipment & 1                  \\\\\n",
       "\t  4                  & 53                  & male                & 2                   & free                & little              & little              &  4870               & 24                  & car                 & 2                  \\\\\n",
       "\t  5                  & 35                  & male                & 1                   & free                & NA                  & NA                  &  9055               & 36                  & education           & 1                  \\\\\n",
       "\t  6                  & 53                  & male                & 2                   & own                 & quite rich          & NA                  &  2835               & 24                  & furniture/equipment & 1                  \\\\\n",
       "\t  7                  & 35                  & male                & 3                   & rent                & little              & moderate            &  6948               & 36                  & car                 & 1                  \\\\\n",
       "\t  8                  & 61                  & male                & 1                   & own                 & rich                & NA                  &  3059               & 12                  & radio/TV            & 1                  \\\\\n",
       "\t  9                  & 28                  & male                & 3                   & own                 & little              & moderate            &  5234               & 30                  & car                 & 2                  \\\\\n",
       "\t 10                  & 25                  & female              & 2                   & rent                & little              & moderate            &  1295               & 12                  & car                 & 2                  \\\\\n",
       "\t 11                  & 24                  & female              & 2                   & rent                & little              & little              &  4308               & 48                  & business            & 2                  \\\\\n",
       "\t 12                  & 22                  & female              & 2                   & own                 & little              & moderate            &  1567               & 12                  & radio/TV            & 1                  \\\\\n",
       "\t 13                  & 60                  & male                & 1                   & own                 & little              & little              &  1199               & 24                  & car                 & 2                  \\\\\n",
       "\t 14                  & 28                  & female              & 2                   & rent                & little              & little              &  1403               & 15                  & car                 & 1                  \\\\\n",
       "\t 15                  & 32                  & female              & 1                   & own                 & moderate            & little              &  1282               & 24                  & radio/TV            & 2                  \\\\\n",
       "\t 16                  & 53                  & male                & 2                   & own                 & NA                  & NA                  &  2424               & 24                  & radio/TV            & 1                  \\\\\n",
       "\t 17                  & 25                  & male                & 2                   & own                 & NA                  & little              &  8072               & 30                  & business            & 1                  \\\\\n",
       "\t 18                  & 44                  & female              & 3                   & free                & little              & moderate            & 12579               & 24                  & car                 & 2                  \\\\\n",
       "\t 19                  & 31                  & male                & 2                   & own                 & quite rich          & NA                  &  3430               & 24                  & radio/TV            & 1                  \\\\\n",
       "\t 20                  & 48                  & male                & 2                   & own                 & little              & NA                  &  2134               &  9                  & car                 & 1                  \\\\\n",
       "\t 21                  & 44                  & male                & 2                   & rent                & quite rich          & little              &  2647               &  6                  & radio/TV            & 1                  \\\\\n",
       "\t 22                  & 48                  & male                & 1                   & rent                & little              & little              &  2241               & 10                  & car                 & 1                  \\\\\n",
       "\t 23                  & 44                  & male                & 2                   & own                 & moderate            & moderate            &  1804               & 12                  & car                 & 1                  \\\\\n",
       "\t 24                  & 26                  & male                & 2                   & own                 & NA                  & NA                  &  2069               & 10                  & furniture/equipment & 1                  \\\\\n",
       "\t 25                  & 36                  & male                & 1                   & own                 & little              & little              &  1374               &  6                  & furniture/equipment & 1                  \\\\\n",
       "\t 26                  & 39                  & male                & 1                   & own                 & little              & NA                  &   426               &  6                  & radio/TV            & 1                  \\\\\n",
       "\t 27                  & 42                  & female              & 2                   & rent                & rich                & rich                &   409               & 12                  & radio/TV            & 1                  \\\\\n",
       "\t 28                  & 34                  & male                & 2                   & own                 & little              & moderate            &  2415               &  7                  & radio/TV            & 1                  \\\\\n",
       "\t 29                  & 63                  & male                & 2                   & own                 & little              & little              &  6836               & 60                  & business            & 2                  \\\\\n",
       "\t ⋮ & ⋮ & ⋮ & ⋮ & ⋮ & ⋮ & ⋮ & ⋮ & ⋮ & ⋮ & ⋮\\\\\n",
       "\t 970                 & 22                  & male                & 2                   & own                 & moderate            & moderate            & 1514                & 15                  & repairs             & 1                  \\\\\n",
       "\t 971                 & 43                  & male                & 1                   & own                 & little              & NA                  & 7393                & 24                  & car                 & 1                  \\\\\n",
       "\t 972                 & 29                  & female              & 0                   & rent                & little              & little              & 1193                & 24                  & car                 & 2                  \\\\\n",
       "\t 973                 & 36                  & male                & 2                   & rent                & little              & little              & 7297                & 60                  & business            & 2                  \\\\\n",
       "\t 974                 & 33                  & female              & 2                   & own                 & little              & NA                  & 2831                & 30                  & radio/TV            & 1                  \\\\\n",
       "\t 975                 & 57                  & female              & 1                   & own                 & quite rich          & rich                & 1258                & 24                  & radio/TV            & 1                  \\\\\n",
       "\t 976                 & 64                  & female              & 2                   & own                 & little              & moderate            &  753                &  6                  & radio/TV            & 1                  \\\\\n",
       "\t 977                 & 42                  & male                & 2                   & own                 & NA                  & moderate            & 2427                & 18                  & business            & 1                  \\\\\n",
       "\t 978                 & 47                  & male                & 1                   & own                 & little              & NA                  & 2538                & 24                  & car                 & 2                  \\\\\n",
       "\t 979                 & 25                  & male                & 2                   & rent                & moderate            & moderate            & 1264                & 15                  & car                 & 2                  \\\\\n",
       "\t 980                 & 49                  & male                & 2                   & own                 & little              & moderate            & 8386                & 30                  & furniture/equipment & 2                  \\\\\n",
       "\t 981                 & 33                  & male                & 3                   & rent                & little              & NA                  & 4844                & 48                  & business            & 2                  \\\\\n",
       "\t 982                 & 28                  & female              & 3                   & own                 & moderate            & rich                & 2923                & 21                  & car                 & 1                  \\\\\n",
       "\t 983                 & 26                  & male                & 2                   & own                 & little              & little              & 8229                & 36                  & car                 & 2                  \\\\\n",
       "\t 984                 & 30                  & male                & 1                   & own                 & little              & NA                  & 2028                & 24                  & furniture/equipment & 1                  \\\\\n",
       "\t 985                 & 25                  & female              & 2                   & rent                & little              & little              & 1433                & 15                  & furniture/equipment & 1                  \\\\\n",
       "\t 986                 & 33                  & male                & 2                   & own                 & little              & rich                & 6289                & 42                  & business            & 1                  \\\\\n",
       "\t 987                 & 64                  & female              & 2                   & own                 & moderate            & NA                  & 1409                & 13                  & radio/TV            & 1                  \\\\\n",
       "\t 988                 & 29                  & male                & 3                   & free                & little              & little              & 6579                & 24                  & car                 & 1                  \\\\\n",
       "\t 989                 & 48                  & male                & 1                   & own                 & little              & moderate            & 1743                & 24                  & radio/TV            & 1                  \\\\\n",
       "\t 990                 & 37                  & male                & 1                   & own                 & NA                  & NA                  & 3565                & 12                  & education           & 1                  \\\\\n",
       "\t 991                 & 34                  & male                & 1                   & own                 & moderate            & NA                  & 1569                & 15                  & radio/TV            & 1                  \\\\\n",
       "\t 992                 & 23                  & male                & 1                   & rent                & NA                  & little              & 1936                & 18                  & radio/TV            & 1                  \\\\\n",
       "\t 993                 & 30                  & male                & 3                   & own                 & little              & little              & 3959                & 36                  & furniture/equipment & 1                  \\\\\n",
       "\t 994                 & 50                  & male                & 2                   & own                 & NA                  & NA                  & 2390                & 12                  & car                 & 1                  \\\\\n",
       "\t 995                 & 31                  & female              & 1                   & own                 & little              & NA                  & 1736                & 12                  & furniture/equipment & 1                  \\\\\n",
       "\t 996                 & 40                  & male                & 3                   & own                 & little              & little              & 3857                & 30                  & car                 & 1                  \\\\\n",
       "\t 997                 & 38                  & male                & 2                   & own                 & little              & NA                  &  804                & 12                  & radio/TV            & 1                  \\\\\n",
       "\t 998                 & 23                  & male                & 2                   & free                & little              & little              & 1845                & 45                  & radio/TV            & 2                  \\\\\n",
       "\t 999                 & 27                  & male                & 2                   & own                 & moderate            & moderate            & 4576                & 45                  & car                 & 1                  \\\\\n",
       "\\end{tabular}\n"
      ],
      "text/markdown": [
       "\n",
       "X. | Age | Sex | Job | Housing | Saving.accounts | Checking.account | Credit.amount | Duration | Purpose | Credit.Risks | \n",
       "|---|---|---|---|---|---|---|---|---|---|---|---|---|---|---|---|---|---|---|---|---|---|---|---|---|---|---|---|---|---|---|---|---|---|---|---|---|---|---|---|---|---|---|---|---|---|---|---|---|---|---|---|---|---|---|---|---|---|---|---|---|\n",
       "|  0                  | 67                  | male                | 2                   | own                 | NA                  | little              |  1169               |  6                  | radio/TV            | 1                   | \n",
       "|  1                  | 22                  | female              | 2                   | own                 | little              | moderate            |  5951               | 48                  | radio/TV            | 2                   | \n",
       "|  2                  | 49                  | male                | 1                   | own                 | little              | NA                  |  2096               | 12                  | education           | 1                   | \n",
       "|  3                  | 45                  | male                | 2                   | free                | little              | little              |  7882               | 42                  | furniture/equipment | 1                   | \n",
       "|  4                  | 53                  | male                | 2                   | free                | little              | little              |  4870               | 24                  | car                 | 2                   | \n",
       "|  5                  | 35                  | male                | 1                   | free                | NA                  | NA                  |  9055               | 36                  | education           | 1                   | \n",
       "|  6                  | 53                  | male                | 2                   | own                 | quite rich          | NA                  |  2835               | 24                  | furniture/equipment | 1                   | \n",
       "|  7                  | 35                  | male                | 3                   | rent                | little              | moderate            |  6948               | 36                  | car                 | 1                   | \n",
       "|  8                  | 61                  | male                | 1                   | own                 | rich                | NA                  |  3059               | 12                  | radio/TV            | 1                   | \n",
       "|  9                  | 28                  | male                | 3                   | own                 | little              | moderate            |  5234               | 30                  | car                 | 2                   | \n",
       "| 10                  | 25                  | female              | 2                   | rent                | little              | moderate            |  1295               | 12                  | car                 | 2                   | \n",
       "| 11                  | 24                  | female              | 2                   | rent                | little              | little              |  4308               | 48                  | business            | 2                   | \n",
       "| 12                  | 22                  | female              | 2                   | own                 | little              | moderate            |  1567               | 12                  | radio/TV            | 1                   | \n",
       "| 13                  | 60                  | male                | 1                   | own                 | little              | little              |  1199               | 24                  | car                 | 2                   | \n",
       "| 14                  | 28                  | female              | 2                   | rent                | little              | little              |  1403               | 15                  | car                 | 1                   | \n",
       "| 15                  | 32                  | female              | 1                   | own                 | moderate            | little              |  1282               | 24                  | radio/TV            | 2                   | \n",
       "| 16                  | 53                  | male                | 2                   | own                 | NA                  | NA                  |  2424               | 24                  | radio/TV            | 1                   | \n",
       "| 17                  | 25                  | male                | 2                   | own                 | NA                  | little              |  8072               | 30                  | business            | 1                   | \n",
       "| 18                  | 44                  | female              | 3                   | free                | little              | moderate            | 12579               | 24                  | car                 | 2                   | \n",
       "| 19                  | 31                  | male                | 2                   | own                 | quite rich          | NA                  |  3430               | 24                  | radio/TV            | 1                   | \n",
       "| 20                  | 48                  | male                | 2                   | own                 | little              | NA                  |  2134               |  9                  | car                 | 1                   | \n",
       "| 21                  | 44                  | male                | 2                   | rent                | quite rich          | little              |  2647               |  6                  | radio/TV            | 1                   | \n",
       "| 22                  | 48                  | male                | 1                   | rent                | little              | little              |  2241               | 10                  | car                 | 1                   | \n",
       "| 23                  | 44                  | male                | 2                   | own                 | moderate            | moderate            |  1804               | 12                  | car                 | 1                   | \n",
       "| 24                  | 26                  | male                | 2                   | own                 | NA                  | NA                  |  2069               | 10                  | furniture/equipment | 1                   | \n",
       "| 25                  | 36                  | male                | 1                   | own                 | little              | little              |  1374               |  6                  | furniture/equipment | 1                   | \n",
       "| 26                  | 39                  | male                | 1                   | own                 | little              | NA                  |   426               |  6                  | radio/TV            | 1                   | \n",
       "| 27                  | 42                  | female              | 2                   | rent                | rich                | rich                |   409               | 12                  | radio/TV            | 1                   | \n",
       "| 28                  | 34                  | male                | 2                   | own                 | little              | moderate            |  2415               |  7                  | radio/TV            | 1                   | \n",
       "| 29                  | 63                  | male                | 2                   | own                 | little              | little              |  6836               | 60                  | business            | 2                   | \n",
       "| ⋮ | ⋮ | ⋮ | ⋮ | ⋮ | ⋮ | ⋮ | ⋮ | ⋮ | ⋮ | ⋮ | \n",
       "| 970                 | 22                  | male                | 2                   | own                 | moderate            | moderate            | 1514                | 15                  | repairs             | 1                   | \n",
       "| 971                 | 43                  | male                | 1                   | own                 | little              | NA                  | 7393                | 24                  | car                 | 1                   | \n",
       "| 972                 | 29                  | female              | 0                   | rent                | little              | little              | 1193                | 24                  | car                 | 2                   | \n",
       "| 973                 | 36                  | male                | 2                   | rent                | little              | little              | 7297                | 60                  | business            | 2                   | \n",
       "| 974                 | 33                  | female              | 2                   | own                 | little              | NA                  | 2831                | 30                  | radio/TV            | 1                   | \n",
       "| 975                 | 57                  | female              | 1                   | own                 | quite rich          | rich                | 1258                | 24                  | radio/TV            | 1                   | \n",
       "| 976                 | 64                  | female              | 2                   | own                 | little              | moderate            |  753                |  6                  | radio/TV            | 1                   | \n",
       "| 977                 | 42                  | male                | 2                   | own                 | NA                  | moderate            | 2427                | 18                  | business            | 1                   | \n",
       "| 978                 | 47                  | male                | 1                   | own                 | little              | NA                  | 2538                | 24                  | car                 | 2                   | \n",
       "| 979                 | 25                  | male                | 2                   | rent                | moderate            | moderate            | 1264                | 15                  | car                 | 2                   | \n",
       "| 980                 | 49                  | male                | 2                   | own                 | little              | moderate            | 8386                | 30                  | furniture/equipment | 2                   | \n",
       "| 981                 | 33                  | male                | 3                   | rent                | little              | NA                  | 4844                | 48                  | business            | 2                   | \n",
       "| 982                 | 28                  | female              | 3                   | own                 | moderate            | rich                | 2923                | 21                  | car                 | 1                   | \n",
       "| 983                 | 26                  | male                | 2                   | own                 | little              | little              | 8229                | 36                  | car                 | 2                   | \n",
       "| 984                 | 30                  | male                | 1                   | own                 | little              | NA                  | 2028                | 24                  | furniture/equipment | 1                   | \n",
       "| 985                 | 25                  | female              | 2                   | rent                | little              | little              | 1433                | 15                  | furniture/equipment | 1                   | \n",
       "| 986                 | 33                  | male                | 2                   | own                 | little              | rich                | 6289                | 42                  | business            | 1                   | \n",
       "| 987                 | 64                  | female              | 2                   | own                 | moderate            | NA                  | 1409                | 13                  | radio/TV            | 1                   | \n",
       "| 988                 | 29                  | male                | 3                   | free                | little              | little              | 6579                | 24                  | car                 | 1                   | \n",
       "| 989                 | 48                  | male                | 1                   | own                 | little              | moderate            | 1743                | 24                  | radio/TV            | 1                   | \n",
       "| 990                 | 37                  | male                | 1                   | own                 | NA                  | NA                  | 3565                | 12                  | education           | 1                   | \n",
       "| 991                 | 34                  | male                | 1                   | own                 | moderate            | NA                  | 1569                | 15                  | radio/TV            | 1                   | \n",
       "| 992                 | 23                  | male                | 1                   | rent                | NA                  | little              | 1936                | 18                  | radio/TV            | 1                   | \n",
       "| 993                 | 30                  | male                | 3                   | own                 | little              | little              | 3959                | 36                  | furniture/equipment | 1                   | \n",
       "| 994                 | 50                  | male                | 2                   | own                 | NA                  | NA                  | 2390                | 12                  | car                 | 1                   | \n",
       "| 995                 | 31                  | female              | 1                   | own                 | little              | NA                  | 1736                | 12                  | furniture/equipment | 1                   | \n",
       "| 996                 | 40                  | male                | 3                   | own                 | little              | little              | 3857                | 30                  | car                 | 1                   | \n",
       "| 997                 | 38                  | male                | 2                   | own                 | little              | NA                  |  804                | 12                  | radio/TV            | 1                   | \n",
       "| 998                 | 23                  | male                | 2                   | free                | little              | little              | 1845                | 45                  | radio/TV            | 2                   | \n",
       "| 999                 | 27                  | male                | 2                   | own                 | moderate            | moderate            | 4576                | 45                  | car                 | 1                   | \n",
       "\n",
       "\n"
      ],
      "text/plain": [
       "     X.  Age Sex    Job Housing Saving.accounts Checking.account Credit.amount\n",
       "1     0  67  male   2   own     NA              little            1169        \n",
       "2     1  22  female 2   own     little          moderate          5951        \n",
       "3     2  49  male   1   own     little          NA                2096        \n",
       "4     3  45  male   2   free    little          little            7882        \n",
       "5     4  53  male   2   free    little          little            4870        \n",
       "6     5  35  male   1   free    NA              NA                9055        \n",
       "7     6  53  male   2   own     quite rich      NA                2835        \n",
       "8     7  35  male   3   rent    little          moderate          6948        \n",
       "9     8  61  male   1   own     rich            NA                3059        \n",
       "10    9  28  male   3   own     little          moderate          5234        \n",
       "11   10  25  female 2   rent    little          moderate          1295        \n",
       "12   11  24  female 2   rent    little          little            4308        \n",
       "13   12  22  female 2   own     little          moderate          1567        \n",
       "14   13  60  male   1   own     little          little            1199        \n",
       "15   14  28  female 2   rent    little          little            1403        \n",
       "16   15  32  female 1   own     moderate        little            1282        \n",
       "17   16  53  male   2   own     NA              NA                2424        \n",
       "18   17  25  male   2   own     NA              little            8072        \n",
       "19   18  44  female 3   free    little          moderate         12579        \n",
       "20   19  31  male   2   own     quite rich      NA                3430        \n",
       "21   20  48  male   2   own     little          NA                2134        \n",
       "22   21  44  male   2   rent    quite rich      little            2647        \n",
       "23   22  48  male   1   rent    little          little            2241        \n",
       "24   23  44  male   2   own     moderate        moderate          1804        \n",
       "25   24  26  male   2   own     NA              NA                2069        \n",
       "26   25  36  male   1   own     little          little            1374        \n",
       "27   26  39  male   1   own     little          NA                 426        \n",
       "28   27  42  female 2   rent    rich            rich               409        \n",
       "29   28  34  male   2   own     little          moderate          2415        \n",
       "30   29  63  male   2   own     little          little            6836        \n",
       "⋮    ⋮   ⋮   ⋮      ⋮   ⋮       ⋮               ⋮                ⋮            \n",
       "971  970 22  male   2   own     moderate        moderate         1514         \n",
       "972  971 43  male   1   own     little          NA               7393         \n",
       "973  972 29  female 0   rent    little          little           1193         \n",
       "974  973 36  male   2   rent    little          little           7297         \n",
       "975  974 33  female 2   own     little          NA               2831         \n",
       "976  975 57  female 1   own     quite rich      rich             1258         \n",
       "977  976 64  female 2   own     little          moderate          753         \n",
       "978  977 42  male   2   own     NA              moderate         2427         \n",
       "979  978 47  male   1   own     little          NA               2538         \n",
       "980  979 25  male   2   rent    moderate        moderate         1264         \n",
       "981  980 49  male   2   own     little          moderate         8386         \n",
       "982  981 33  male   3   rent    little          NA               4844         \n",
       "983  982 28  female 3   own     moderate        rich             2923         \n",
       "984  983 26  male   2   own     little          little           8229         \n",
       "985  984 30  male   1   own     little          NA               2028         \n",
       "986  985 25  female 2   rent    little          little           1433         \n",
       "987  986 33  male   2   own     little          rich             6289         \n",
       "988  987 64  female 2   own     moderate        NA               1409         \n",
       "989  988 29  male   3   free    little          little           6579         \n",
       "990  989 48  male   1   own     little          moderate         1743         \n",
       "991  990 37  male   1   own     NA              NA               3565         \n",
       "992  991 34  male   1   own     moderate        NA               1569         \n",
       "993  992 23  male   1   rent    NA              little           1936         \n",
       "994  993 30  male   3   own     little          little           3959         \n",
       "995  994 50  male   2   own     NA              NA               2390         \n",
       "996  995 31  female 1   own     little          NA               1736         \n",
       "997  996 40  male   3   own     little          little           3857         \n",
       "998  997 38  male   2   own     little          NA                804         \n",
       "999  998 23  male   2   free    little          little           1845         \n",
       "1000 999 27  male   2   own     moderate        moderate         4576         \n",
       "     Duration Purpose             Credit.Risks\n",
       "1     6       radio/TV            1           \n",
       "2    48       radio/TV            2           \n",
       "3    12       education           1           \n",
       "4    42       furniture/equipment 1           \n",
       "5    24       car                 2           \n",
       "6    36       education           1           \n",
       "7    24       furniture/equipment 1           \n",
       "8    36       car                 1           \n",
       "9    12       radio/TV            1           \n",
       "10   30       car                 2           \n",
       "11   12       car                 2           \n",
       "12   48       business            2           \n",
       "13   12       radio/TV            1           \n",
       "14   24       car                 2           \n",
       "15   15       car                 1           \n",
       "16   24       radio/TV            2           \n",
       "17   24       radio/TV            1           \n",
       "18   30       business            1           \n",
       "19   24       car                 2           \n",
       "20   24       radio/TV            1           \n",
       "21    9       car                 1           \n",
       "22    6       radio/TV            1           \n",
       "23   10       car                 1           \n",
       "24   12       car                 1           \n",
       "25   10       furniture/equipment 1           \n",
       "26    6       furniture/equipment 1           \n",
       "27    6       radio/TV            1           \n",
       "28   12       radio/TV            1           \n",
       "29    7       radio/TV            1           \n",
       "30   60       business            2           \n",
       "⋮    ⋮        ⋮                   ⋮           \n",
       "971  15       repairs             1           \n",
       "972  24       car                 1           \n",
       "973  24       car                 2           \n",
       "974  60       business            2           \n",
       "975  30       radio/TV            1           \n",
       "976  24       radio/TV            1           \n",
       "977   6       radio/TV            1           \n",
       "978  18       business            1           \n",
       "979  24       car                 2           \n",
       "980  15       car                 2           \n",
       "981  30       furniture/equipment 2           \n",
       "982  48       business            2           \n",
       "983  21       car                 1           \n",
       "984  36       car                 2           \n",
       "985  24       furniture/equipment 1           \n",
       "986  15       furniture/equipment 1           \n",
       "987  42       business            1           \n",
       "988  13       radio/TV            1           \n",
       "989  24       car                 1           \n",
       "990  24       radio/TV            1           \n",
       "991  12       education           1           \n",
       "992  15       radio/TV            1           \n",
       "993  18       radio/TV            1           \n",
       "994  36       furniture/equipment 1           \n",
       "995  12       car                 1           \n",
       "996  12       furniture/equipment 1           \n",
       "997  30       car                 1           \n",
       "998  12       radio/TV            1           \n",
       "999  45       radio/TV            2           \n",
       "1000 45       car                 1           "
      ]
     },
     "metadata": {},
     "output_type": "display_data"
    }
   ],
   "source": [
    "input_data"
   ]
  },
  {
   "cell_type": "code",
   "execution_count": 4,
   "metadata": {
    "collapsed": false
   },
   "outputs": [
    {
     "name": "stdout",
     "output_type": "stream",
     "text": [
      "'data.frame':\t1000 obs. of  11 variables:\n",
      " $ X.              : int  0 1 2 3 4 5 6 7 8 9 ...\n",
      " $ Age             : int  67 22 49 45 53 35 53 35 61 28 ...\n",
      " $ Sex             : Factor w/ 2 levels \"female\",\"male\": 2 1 2 2 2 2 2 2 2 2 ...\n",
      " $ Job             : int  2 2 1 2 2 1 2 3 1 3 ...\n",
      " $ Housing         : Factor w/ 3 levels \"free\",\"own\",\"rent\": 2 2 2 1 1 1 2 3 2 2 ...\n",
      " $ Saving.accounts : Factor w/ 4 levels \"little\",\"moderate\",..: NA 1 1 1 1 NA 3 1 4 1 ...\n",
      " $ Checking.account: Factor w/ 3 levels \"little\",\"moderate\",..: 1 2 NA 1 1 NA NA 2 NA 2 ...\n",
      " $ Credit.amount   : int  1169 5951 2096 7882 4870 9055 2835 6948 3059 5234 ...\n",
      " $ Duration        : int  6 48 12 42 24 36 24 36 12 30 ...\n",
      " $ Purpose         : Factor w/ 8 levels \"business\",\"car\",..: 6 6 4 5 2 4 5 2 6 2 ...\n",
      " $ Credit.Risks    : int  1 2 1 1 2 1 1 1 1 2 ...\n"
     ]
    }
   ],
   "source": [
    "str(input_data) #Gives the structure of dataframe"
   ]
  },
  {
   "cell_type": "markdown",
   "metadata": {},
   "source": [
    "##### Convert Categorical data into numeric data for training and test data comparison"
   ]
  },
  {
   "cell_type": "code",
   "execution_count": 45,
   "metadata": {
    "collapsed": false
   },
   "outputs": [
    {
     "name": "stdout",
     "output_type": "stream",
     "text": [
      "'data.frame':\t1000 obs. of  11 variables:\n",
      " $ X.              : int  930 936 914 867 553 579 752 74 795 676 ...\n",
      " $ Age             : int  24 28 31 42 27 27 23 40 22 33 ...\n",
      " $ Sex             : num  2 1 2 2 2 2 1 2 1 2 ...\n",
      " $ Job             : int  1 1 2 2 2 1 1 3 2 2 ...\n",
      " $ Housing         : num  2 2 3 2 2 2 3 2 3 2 ...\n",
      " $ Saving.accounts : num  1 1 1 1 2 1 2 NA 2 1 ...\n",
      " $ Checking.account: num  1 3 1 NA 2 NA 2 1 NA NA ...\n",
      " $ Credit.amount   : int  1747 745 3161 3331 1995 937 841 1977 2301 5150 ...\n",
      " $ Duration        : int  24 9 24 12 12 24 12 36 9 24 ...\n",
      " $ Purpose         : num  5 6 1 5 2 4 1 4 5 5 ...\n",
      " $ Credit.Risks    : int  1 2 2 1 1 1 1 2 1 1 ...\n"
     ]
    }
   ],
   "source": [
    "#Converting Categorical data to numeric data for classifying data. Why ? Because that's the requirement of Lab. We have to consider categorical fields too for classification.\n",
    "input_data$Sex<-as.numeric(input_data$Sex)\n",
    "input_data$Housing<-as.numeric(input_data$Housing)\n",
    "input_data$Saving.accounts<-as.numeric(input_data$Saving.accounts)\n",
    "input_data$Checking.account<-as.numeric(input_data$Checking.account)\n",
    "input_data$Purpose<-as.numeric(input_data$Purpose)\n",
    "\n",
    "str(input_data)"
   ]
  },
  {
   "cell_type": "code",
   "execution_count": 46,
   "metadata": {
    "collapsed": false
   },
   "outputs": [
    {
     "data": {
      "text/plain": [
       "\n",
       "  1   2   3   4   5   6   7   8 \n",
       " 97 337  12  59 181 280  22  12 "
      ]
     },
     "metadata": {},
     "output_type": "display_data"
    }
   ],
   "source": [
    "table(input_data$Purpose)"
   ]
  },
  {
   "cell_type": "markdown",
   "metadata": {},
   "source": [
    "##### Randomise the records so that records with different class labels come up"
   ]
  },
  {
   "cell_type": "code",
   "execution_count": 47,
   "metadata": {
    "collapsed": true
   },
   "outputs": [],
   "source": [
    "set.seed(9850)  # Set randomising factor"
   ]
  },
  {
   "cell_type": "code",
   "execution_count": 48,
   "metadata": {
    "collapsed": false
   },
   "outputs": [],
   "source": [
    "dp<-runif(nrow(input_data)) "
   ]
  },
  {
   "cell_type": "code",
   "execution_count": 49,
   "metadata": {
    "collapsed": false
   },
   "outputs": [],
   "source": [
    "input_data=input_data[order(dp),]  # Order randomly"
   ]
  },
  {
   "cell_type": "code",
   "execution_count": 50,
   "metadata": {
    "collapsed": false
   },
   "outputs": [
    {
     "data": {
      "text/html": [
       "<table>\n",
       "<thead><tr><th></th><th scope=col>X.</th><th scope=col>Age</th><th scope=col>Sex</th><th scope=col>Job</th><th scope=col>Housing</th><th scope=col>Saving.accounts</th><th scope=col>Checking.account</th><th scope=col>Credit.amount</th><th scope=col>Duration</th><th scope=col>Purpose</th><th scope=col>Credit.Risks</th></tr></thead>\n",
       "<tbody>\n",
       "\t<tr><th scope=row>426</th><td>425 </td><td>21  </td><td>2   </td><td>2   </td><td>3   </td><td> 1  </td><td> 2  </td><td>2779</td><td>18  </td><td>2   </td><td>1   </td></tr>\n",
       "\t<tr><th scope=row>562</th><td>561 </td><td>24  </td><td>2   </td><td>1   </td><td>3   </td><td> 1  </td><td> 1  </td><td>1546</td><td>24  </td><td>6   </td><td>2   </td></tr>\n",
       "\t<tr><th scope=row>671</th><td>670 </td><td>27  </td><td>2   </td><td>1   </td><td>2   </td><td> 2  </td><td>NA  </td><td>4139</td><td>24  </td><td>1   </td><td>1   </td></tr>\n",
       "\t<tr><th scope=row>716</th><td>715 </td><td>63  </td><td>2   </td><td>2   </td><td>2   </td><td>NA  </td><td>NA  </td><td>7596</td><td>30  </td><td>2   </td><td>1   </td></tr>\n",
       "\t<tr><th scope=row>202</th><td>201 </td><td>27  </td><td>2   </td><td>1   </td><td>2   </td><td> 1  </td><td> 1  </td><td>1168</td><td>12  </td><td>2   </td><td>1   </td></tr>\n",
       "\t<tr><th scope=row>854</th><td>853 </td><td>32  </td><td>2   </td><td>1   </td><td>1   </td><td> 1  </td><td> 1  </td><td>1442</td><td>18  </td><td>2   </td><td>2   </td></tr>\n",
       "</tbody>\n",
       "</table>\n"
      ],
      "text/latex": [
       "\\begin{tabular}{r|lllllllllll}\n",
       "  & X. & Age & Sex & Job & Housing & Saving.accounts & Checking.account & Credit.amount & Duration & Purpose & Credit.Risks\\\\\n",
       "\\hline\n",
       "\t426 & 425  & 21   & 2    & 2    & 3    &  1   &  2   & 2779 & 18   & 2    & 1   \\\\\n",
       "\t562 & 561  & 24   & 2    & 1    & 3    &  1   &  1   & 1546 & 24   & 6    & 2   \\\\\n",
       "\t671 & 670  & 27   & 2    & 1    & 2    &  2   & NA   & 4139 & 24   & 1    & 1   \\\\\n",
       "\t716 & 715  & 63   & 2    & 2    & 2    & NA   & NA   & 7596 & 30   & 2    & 1   \\\\\n",
       "\t202 & 201  & 27   & 2    & 1    & 2    &  1   &  1   & 1168 & 12   & 2    & 1   \\\\\n",
       "\t854 & 853  & 32   & 2    & 1    & 1    &  1   &  1   & 1442 & 18   & 2    & 2   \\\\\n",
       "\\end{tabular}\n"
      ],
      "text/markdown": [
       "\n",
       "| <!--/--> | X. | Age | Sex | Job | Housing | Saving.accounts | Checking.account | Credit.amount | Duration | Purpose | Credit.Risks | \n",
       "|---|---|---|---|---|---|\n",
       "| 426 | 425  | 21   | 2    | 2    | 3    |  1   |  2   | 2779 | 18   | 2    | 1    | \n",
       "| 562 | 561  | 24   | 2    | 1    | 3    |  1   |  1   | 1546 | 24   | 6    | 2    | \n",
       "| 671 | 670  | 27   | 2    | 1    | 2    |  2   | NA   | 4139 | 24   | 1    | 1    | \n",
       "| 716 | 715  | 63   | 2    | 2    | 2    | NA   | NA   | 7596 | 30   | 2    | 1    | \n",
       "| 202 | 201  | 27   | 2    | 1    | 2    |  1   |  1   | 1168 | 12   | 2    | 1    | \n",
       "| 854 | 853  | 32   | 2    | 1    | 1    |  1   |  1   | 1442 | 18   | 2    | 2    | \n",
       "\n",
       "\n"
      ],
      "text/plain": [
       "    X.  Age Sex Job Housing Saving.accounts Checking.account Credit.amount\n",
       "426 425 21  2   2   3        1               2               2779         \n",
       "562 561 24  2   1   3        1               1               1546         \n",
       "671 670 27  2   1   2        2              NA               4139         \n",
       "716 715 63  2   2   2       NA              NA               7596         \n",
       "202 201 27  2   1   2        1               1               1168         \n",
       "854 853 32  2   1   1        1               1               1442         \n",
       "    Duration Purpose Credit.Risks\n",
       "426 18       2       1           \n",
       "562 24       6       2           \n",
       "671 24       1       1           \n",
       "716 30       2       1           \n",
       "202 12       2       1           \n",
       "854 18       2       2           "
      ]
     },
     "metadata": {},
     "output_type": "display_data"
    }
   ],
   "source": [
    "head(input_data)\n",
    "\n",
    "input_data[is.na(input_data)] <- 0   #Setting null records as zero(0).\n"
   ]
  },
  {
   "cell_type": "code",
   "execution_count": 51,
   "metadata": {
    "collapsed": false
   },
   "outputs": [
    {
     "data": {
      "text/plain": [
       "       X.             Age             Sex            Job           Housing     \n",
       " Min.   :  0.0   Min.   :19.00   Min.   :1.00   Min.   :0.000   Min.   :1.000  \n",
       " 1st Qu.:249.8   1st Qu.:27.00   1st Qu.:1.00   1st Qu.:2.000   1st Qu.:2.000  \n",
       " Median :499.5   Median :33.00   Median :2.00   Median :2.000   Median :2.000  \n",
       " Mean   :499.5   Mean   :35.55   Mean   :1.69   Mean   :1.904   Mean   :2.071  \n",
       " 3rd Qu.:749.2   3rd Qu.:42.00   3rd Qu.:2.00   3rd Qu.:2.000   3rd Qu.:2.000  \n",
       " Max.   :999.0   Max.   :75.00   Max.   :2.00   Max.   :3.000   Max.   :3.000  \n",
       " Saving.accounts Checking.account Credit.amount      Duration   \n",
       " Min.   :0.00    Min.   :0.000    Min.   :  250   Min.   : 4.0  \n",
       " 1st Qu.:1.00    1st Qu.:0.000    1st Qu.: 1366   1st Qu.:12.0  \n",
       " Median :1.00    Median :1.000    Median : 2320   Median :18.0  \n",
       " Mean   :1.19    Mean   :1.001    Mean   : 3271   Mean   :20.9  \n",
       " 3rd Qu.:1.00    3rd Qu.:2.000    3rd Qu.: 3972   3rd Qu.:24.0  \n",
       " Max.   :4.00    Max.   :3.000    Max.   :18424   Max.   :72.0  \n",
       "    Purpose       Credit.Risks\n",
       " Min.   :1.000   Min.   :1.0  \n",
       " 1st Qu.:2.000   1st Qu.:1.0  \n",
       " Median :4.000   Median :1.0  \n",
       " Mean   :3.878   Mean   :1.3  \n",
       " 3rd Qu.:6.000   3rd Qu.:2.0  \n",
       " Max.   :8.000   Max.   :2.0  "
      ]
     },
     "metadata": {},
     "output_type": "display_data"
    }
   ],
   "source": [
    "summary(input_data[],c(1,2,3,4,5,6,7,8,9,10))  #Check the data for min and max values. Greater difference between min and max values indicate presence of outliers."
   ]
  },
  {
   "cell_type": "markdown",
   "metadata": {},
   "source": [
    "##### Features with larger max values influence the prediction of target class, hence to avoid that, we normalize the values."
   ]
  },
  {
   "cell_type": "code",
   "execution_count": 52,
   "metadata": {
    "collapsed": true
   },
   "outputs": [],
   "source": [
    "#Normalization function\n",
    "\n",
    "normalize<-function(x){\n",
    "    + return((x-min(x))/(max(x)-min(x)))\n",
    "}"
   ]
  },
  {
   "cell_type": "code",
   "execution_count": 63,
   "metadata": {
    "collapsed": false
   },
   "outputs": [
    {
     "name": "stdout",
     "output_type": "stream",
     "text": [
      "'data.frame':\t1000 obs. of  10 variables:\n",
      " $ X.              : num  0.425 0.562 0.671 0.716 0.201 ...\n",
      " $ Age             : num  0.0357 0.0893 0.1429 0.7857 0.1429 ...\n",
      " $ Sex             : num  1 1 1 1 1 1 0 1 0 1 ...\n",
      " $ Job             : num  0.667 0.333 0.333 0.667 0.333 ...\n",
      " $ Housing         : num  1 1 0.5 0.5 0.5 0 0.5 1 1 0.5 ...\n",
      " $ Saving.accounts : num  0.25 0.25 0.5 0 0.25 0.25 0.25 0.25 0.5 0.25 ...\n",
      " $ Checking.account: num  0.667 0.333 0 0 0.333 ...\n",
      " $ Credit.amount   : num  0.1392 0.0713 0.214 0.4042 0.0505 ...\n",
      " $ Duration        : num  0.206 0.294 0.294 0.382 0.118 ...\n",
      " $ Purpose         : num  0.143 0.714 0 0.143 0.143 ...\n"
     ]
    }
   ],
   "source": [
    "# We apply normalization to all the rows for columns 1 to 10. We don't do it on 11th since 11th is our target class to be predicted. Hence we won't include it.\n",
    "\n",
    "new_data<-as.data.frame(lapply(input_data[,c(1,2,3,4,5,6,7,8,9,10)],normalize))\n",
    "str(new_data)"
   ]
  },
  {
   "cell_type": "code",
   "execution_count": 69,
   "metadata": {
    "collapsed": false
   },
   "outputs": [
    {
     "data": {
      "text/plain": [
       "       X.            Age              Sex            Job        \n",
       " Min.   :0.00   Min.   :0.0000   Min.   :0.00   Min.   :0.0000  \n",
       " 1st Qu.:0.25   1st Qu.:0.1429   1st Qu.:0.00   1st Qu.:0.6667  \n",
       " Median :0.50   Median :0.2500   Median :1.00   Median :0.6667  \n",
       " Mean   :0.50   Mean   :0.2955   Mean   :0.69   Mean   :0.6347  \n",
       " 3rd Qu.:0.75   3rd Qu.:0.4107   3rd Qu.:1.00   3rd Qu.:0.6667  \n",
       " Max.   :1.00   Max.   :1.0000   Max.   :1.00   Max.   :1.0000  \n",
       "    Housing       Saving.accounts  Checking.account Credit.amount    \n",
       " Min.   :0.0000   Min.   :0.0000   Min.   :0.0000   Min.   :0.00000  \n",
       " 1st Qu.:0.5000   1st Qu.:0.2500   1st Qu.:0.0000   1st Qu.:0.06138  \n",
       " Median :0.5000   Median :0.2500   Median :0.3333   Median :0.11387  \n",
       " Mean   :0.5355   Mean   :0.2975   Mean   :0.3337   Mean   :0.16624  \n",
       " 3rd Qu.:0.5000   3rd Qu.:0.2500   3rd Qu.:0.6667   3rd Qu.:0.20481  \n",
       " Max.   :1.0000   Max.   :1.0000   Max.   :1.0000   Max.   :1.00000  \n",
       "    Duration         Purpose      \n",
       " Min.   :0.0000   Min.   :0.0000  \n",
       " 1st Qu.:0.1176   1st Qu.:0.1429  \n",
       " Median :0.2059   Median :0.4286  \n",
       " Mean   :0.2486   Mean   :0.4111  \n",
       " 3rd Qu.:0.2941   3rd Qu.:0.7143  \n",
       " Max.   :1.0000   Max.   :1.0000  "
      ]
     },
     "metadata": {},
     "output_type": "display_data"
    }
   ],
   "source": [
    "summary(new_data)\n"
   ]
  },
  {
   "cell_type": "markdown",
   "metadata": {},
   "source": [
    "##### Create training data set, test data set and set training and test target class. Then perform 'knn'"
   ]
  },
  {
   "cell_type": "code",
   "execution_count": 180,
   "metadata": {
    "collapsed": true
   },
   "outputs": [],
   "source": [
    "new_data_train<-new_data[1:900,]    # Training data\n",
    "new_data_test<-new_data[901:1000,]  # Test data\n",
    "new_data_train_target_class<-input_data[1:900,11]  # Training target class ----Credit risks is our target class\n",
    "new_data_test_target_class<-input_data[901:1000,11] # Test target class"
   ]
  },
  {
   "cell_type": "code",
   "execution_count": 189,
   "metadata": {
    "collapsed": false
   },
   "outputs": [
    {
     "data": {
      "text/html": [
       "<ol class=list-inline>\n",
       "\t<li>2</li>\n",
       "\t<li>1</li>\n",
       "\t<li>2</li>\n",
       "\t<li>2</li>\n",
       "\t<li>1</li>\n",
       "\t<li>2</li>\n",
       "\t<li>1</li>\n",
       "\t<li>1</li>\n",
       "\t<li>1</li>\n",
       "\t<li>2</li>\n",
       "\t<li>2</li>\n",
       "\t<li>1</li>\n",
       "\t<li>1</li>\n",
       "\t<li>2</li>\n",
       "\t<li>1</li>\n",
       "\t<li>1</li>\n",
       "\t<li>1</li>\n",
       "\t<li>2</li>\n",
       "\t<li>1</li>\n",
       "\t<li>1</li>\n",
       "\t<li>2</li>\n",
       "\t<li>1</li>\n",
       "\t<li>2</li>\n",
       "\t<li>1</li>\n",
       "\t<li>2</li>\n",
       "\t<li>1</li>\n",
       "\t<li>1</li>\n",
       "\t<li>1</li>\n",
       "\t<li>2</li>\n",
       "\t<li>2</li>\n",
       "\t<li>1</li>\n",
       "\t<li>1</li>\n",
       "\t<li>1</li>\n",
       "\t<li>1</li>\n",
       "\t<li>1</li>\n",
       "\t<li>1</li>\n",
       "\t<li>2</li>\n",
       "\t<li>1</li>\n",
       "\t<li>1</li>\n",
       "\t<li>1</li>\n",
       "\t<li>2</li>\n",
       "\t<li>2</li>\n",
       "\t<li>2</li>\n",
       "\t<li>1</li>\n",
       "\t<li>1</li>\n",
       "\t<li>1</li>\n",
       "\t<li>1</li>\n",
       "\t<li>1</li>\n",
       "\t<li>1</li>\n",
       "\t<li>1</li>\n",
       "\t<li>1</li>\n",
       "\t<li>1</li>\n",
       "\t<li>1</li>\n",
       "\t<li>1</li>\n",
       "\t<li>1</li>\n",
       "\t<li>1</li>\n",
       "\t<li>1</li>\n",
       "\t<li>1</li>\n",
       "\t<li>1</li>\n",
       "\t<li>1</li>\n",
       "\t<li>1</li>\n",
       "\t<li>1</li>\n",
       "\t<li>1</li>\n",
       "\t<li>1</li>\n",
       "\t<li>1</li>\n",
       "\t<li>2</li>\n",
       "\t<li>2</li>\n",
       "\t<li>1</li>\n",
       "\t<li>2</li>\n",
       "\t<li>1</li>\n",
       "\t<li>2</li>\n",
       "\t<li>1</li>\n",
       "\t<li>1</li>\n",
       "\t<li>1</li>\n",
       "\t<li>1</li>\n",
       "\t<li>2</li>\n",
       "\t<li>2</li>\n",
       "\t<li>2</li>\n",
       "\t<li>1</li>\n",
       "\t<li>1</li>\n",
       "\t<li>1</li>\n",
       "\t<li>1</li>\n",
       "\t<li>1</li>\n",
       "\t<li>1</li>\n",
       "\t<li>2</li>\n",
       "\t<li>1</li>\n",
       "\t<li>1</li>\n",
       "\t<li>1</li>\n",
       "\t<li>2</li>\n",
       "\t<li>1</li>\n",
       "\t<li>1</li>\n",
       "\t<li>1</li>\n",
       "\t<li>1</li>\n",
       "\t<li>1</li>\n",
       "\t<li>1</li>\n",
       "\t<li>1</li>\n",
       "\t<li>2</li>\n",
       "\t<li>2</li>\n",
       "\t<li>1</li>\n",
       "\t<li>1</li>\n",
       "</ol>\n"
      ],
      "text/latex": [
       "\\begin{enumerate*}\n",
       "\\item 2\n",
       "\\item 1\n",
       "\\item 2\n",
       "\\item 2\n",
       "\\item 1\n",
       "\\item 2\n",
       "\\item 1\n",
       "\\item 1\n",
       "\\item 1\n",
       "\\item 2\n",
       "\\item 2\n",
       "\\item 1\n",
       "\\item 1\n",
       "\\item 2\n",
       "\\item 1\n",
       "\\item 1\n",
       "\\item 1\n",
       "\\item 2\n",
       "\\item 1\n",
       "\\item 1\n",
       "\\item 2\n",
       "\\item 1\n",
       "\\item 2\n",
       "\\item 1\n",
       "\\item 2\n",
       "\\item 1\n",
       "\\item 1\n",
       "\\item 1\n",
       "\\item 2\n",
       "\\item 2\n",
       "\\item 1\n",
       "\\item 1\n",
       "\\item 1\n",
       "\\item 1\n",
       "\\item 1\n",
       "\\item 1\n",
       "\\item 2\n",
       "\\item 1\n",
       "\\item 1\n",
       "\\item 1\n",
       "\\item 2\n",
       "\\item 2\n",
       "\\item 2\n",
       "\\item 1\n",
       "\\item 1\n",
       "\\item 1\n",
       "\\item 1\n",
       "\\item 1\n",
       "\\item 1\n",
       "\\item 1\n",
       "\\item 1\n",
       "\\item 1\n",
       "\\item 1\n",
       "\\item 1\n",
       "\\item 1\n",
       "\\item 1\n",
       "\\item 1\n",
       "\\item 1\n",
       "\\item 1\n",
       "\\item 1\n",
       "\\item 1\n",
       "\\item 1\n",
       "\\item 1\n",
       "\\item 1\n",
       "\\item 1\n",
       "\\item 2\n",
       "\\item 2\n",
       "\\item 1\n",
       "\\item 2\n",
       "\\item 1\n",
       "\\item 2\n",
       "\\item 1\n",
       "\\item 1\n",
       "\\item 1\n",
       "\\item 1\n",
       "\\item 2\n",
       "\\item 2\n",
       "\\item 2\n",
       "\\item 1\n",
       "\\item 1\n",
       "\\item 1\n",
       "\\item 1\n",
       "\\item 1\n",
       "\\item 1\n",
       "\\item 2\n",
       "\\item 1\n",
       "\\item 1\n",
       "\\item 1\n",
       "\\item 2\n",
       "\\item 1\n",
       "\\item 1\n",
       "\\item 1\n",
       "\\item 1\n",
       "\\item 1\n",
       "\\item 1\n",
       "\\item 1\n",
       "\\item 2\n",
       "\\item 2\n",
       "\\item 1\n",
       "\\item 1\n",
       "\\end{enumerate*}\n"
      ],
      "text/markdown": [
       "1. 2\n",
       "2. 1\n",
       "3. 2\n",
       "4. 2\n",
       "5. 1\n",
       "6. 2\n",
       "7. 1\n",
       "8. 1\n",
       "9. 1\n",
       "10. 2\n",
       "11. 2\n",
       "12. 1\n",
       "13. 1\n",
       "14. 2\n",
       "15. 1\n",
       "16. 1\n",
       "17. 1\n",
       "18. 2\n",
       "19. 1\n",
       "20. 1\n",
       "21. 2\n",
       "22. 1\n",
       "23. 2\n",
       "24. 1\n",
       "25. 2\n",
       "26. 1\n",
       "27. 1\n",
       "28. 1\n",
       "29. 2\n",
       "30. 2\n",
       "31. 1\n",
       "32. 1\n",
       "33. 1\n",
       "34. 1\n",
       "35. 1\n",
       "36. 1\n",
       "37. 2\n",
       "38. 1\n",
       "39. 1\n",
       "40. 1\n",
       "41. 2\n",
       "42. 2\n",
       "43. 2\n",
       "44. 1\n",
       "45. 1\n",
       "46. 1\n",
       "47. 1\n",
       "48. 1\n",
       "49. 1\n",
       "50. 1\n",
       "51. 1\n",
       "52. 1\n",
       "53. 1\n",
       "54. 1\n",
       "55. 1\n",
       "56. 1\n",
       "57. 1\n",
       "58. 1\n",
       "59. 1\n",
       "60. 1\n",
       "61. 1\n",
       "62. 1\n",
       "63. 1\n",
       "64. 1\n",
       "65. 1\n",
       "66. 2\n",
       "67. 2\n",
       "68. 1\n",
       "69. 2\n",
       "70. 1\n",
       "71. 2\n",
       "72. 1\n",
       "73. 1\n",
       "74. 1\n",
       "75. 1\n",
       "76. 2\n",
       "77. 2\n",
       "78. 2\n",
       "79. 1\n",
       "80. 1\n",
       "81. 1\n",
       "82. 1\n",
       "83. 1\n",
       "84. 1\n",
       "85. 2\n",
       "86. 1\n",
       "87. 1\n",
       "88. 1\n",
       "89. 2\n",
       "90. 1\n",
       "91. 1\n",
       "92. 1\n",
       "93. 1\n",
       "94. 1\n",
       "95. 1\n",
       "96. 1\n",
       "97. 2\n",
       "98. 2\n",
       "99. 1\n",
       "100. 1\n",
       "\n",
       "\n"
      ],
      "text/plain": [
       "  [1] 2 1 2 2 1 2 1 1 1 2 2 1 1 2 1 1 1 2 1 1 2 1 2 1 2 1 1 1 2 2 1 1 1 1 1 1 2\n",
       " [38] 1 1 1 2 2 2 1 1 1 1 1 1 1 1 1 1 1 1 1 1 1 1 1 1 1 1 1 1 2 2 1 2 1 2 1 1 1\n",
       " [75] 1 2 2 2 1 1 1 1 1 1 2 1 1 1 2 1 1 1 1 1 1 1 2 2 1 1\n",
       "Levels: 1 2"
      ]
     },
     "metadata": {},
     "output_type": "display_data"
    }
   ],
   "source": [
    "library(class)  # Required to perform 'knn'\n",
    "\n",
    "output<-knn(train=new_data_train,test=new_data_test,cl=new_data_train_target_class,k=1)\n",
    "output"
   ]
  },
  {
   "cell_type": "code",
   "execution_count": 190,
   "metadata": {
    "collapsed": false
   },
   "outputs": [
    {
     "data": {
      "text/plain": [
       "                          output\n",
       "new_data_test_target_class  1  2\n",
       "                         1 57 15\n",
       "                         2 15 13"
      ]
     },
     "metadata": {},
     "output_type": "display_data"
    }
   ],
   "source": [
    "# We create a new table where we compare the actual target class with the class generated by our output \n",
    "# to see whether the classification (labeling) done by our knn algorithm is correct\n",
    "\n",
    "table(new_data_test_target_class,output)\n",
    "\n",
    "# Target class is given by rows, and Predicted class is given by columns\n",
    "# Diagonal classification (upper left to lower right) is the correct classification."
   ]
  },
  {
   "cell_type": "markdown",
   "metadata": {},
   "source": [
    "##### All the computed results are as below"
   ]
  },
  {
   "cell_type": "code",
   "execution_count": 192,
   "metadata": {
    "collapsed": false
   },
   "outputs": [
    {
     "data": {
      "text/html": [
       "<table>\n",
       "<thead><tr><th scope=col>K_Value</th><th scope=col>Accuracy_When_Train_data:60%</th><th scope=col>Accuracy_When_Train_data:70%</th><th scope=col>Accuracy_When_Train_data:80%</th><th scope=col>Accuracy_When_Train_data:90%</th></tr></thead>\n",
       "<tbody>\n",
       "\t<tr><td>1    </td><td>67   </td><td>67.66</td><td>67.5 </td><td>70   </td></tr>\n",
       "</tbody>\n",
       "</table>\n"
      ],
      "text/latex": [
       "\\begin{tabular}{r|lllll}\n",
       " K\\_Value & Accuracy\\_When\\_Train\\_data:60\\% & Accuracy\\_When\\_Train\\_data:70\\% & Accuracy\\_When\\_Train\\_data:80\\% & Accuracy\\_When\\_Train\\_data:90\\%\\\\\n",
       "\\hline\n",
       "\t 1     & 67    & 67.66 & 67.5  & 70   \\\\\n",
       "\\end{tabular}\n"
      ],
      "text/markdown": [
       "\n",
       "K_Value | Accuracy_When_Train_data:60% | Accuracy_When_Train_data:70% | Accuracy_When_Train_data:80% | Accuracy_When_Train_data:90% | \n",
       "|---|\n",
       "| 1     | 67    | 67.66 | 67.5  | 70    | \n",
       "\n",
       "\n"
      ],
      "text/plain": [
       "  K_Value Accuracy_When_Train_data:60% Accuracy_When_Train_data:70%\n",
       "1 1       67                           67.66                       \n",
       "  Accuracy_When_Train_data:80% Accuracy_When_Train_data:90%\n",
       "1 67.5                         70                          "
      ]
     },
     "metadata": {},
     "output_type": "display_data"
    }
   ],
   "source": [
    "r1<-data.frame(1,67,67.66,67.5,70)\n",
    "colnames(r1)<-c(\"K_Value\",\"Accuracy_When_Train_data:60%\",\"Accuracy_When_Train_data:70%\",\"Accuracy_When_Train_data:80%\",\"Accuracy_When_Train_data:90%\")\n",
    "r1"
   ]
  },
  {
   "cell_type": "code",
   "execution_count": 197,
   "metadata": {
    "collapsed": false
   },
   "outputs": [],
   "source": [
    "r2<-data.frame(2,66.25,68.66,65,67)\n",
    "colnames(r2)<-c(\"K_Value\",\"Accuracy_When_Train_data:60%\",\"Accuracy_When_Train_data:70%\",\"Accuracy_When_Train_data:80%\",\"Accuracy_When_Train_data:90%\")\n",
    "r3<-data.frame(3,69.5,68,70,71)\n",
    "colnames(r3)<-c(\"K_Value\",\"Accuracy_When_Train_data:60%\",\"Accuracy_When_Train_data:70%\",\"Accuracy_When_Train_data:80%\",\"Accuracy_When_Train_data:90%\")\n",
    "r4<-data.frame(4,67.75,68,67.5,62)\n",
    "colnames(r4)<-c(\"K_Value\",\"Accuracy_When_Train_data:60%\",\"Accuracy_When_Train_data:70%\",\"Accuracy_When_Train_data:80%\",\"Accuracy_When_Train_data:90%\")\n",
    "r5<-data.frame(5,69,69,70,70)\n",
    "colnames(r5)<-c(\"K_Value\",\"Accuracy_When_Train_data:60%\",\"Accuracy_When_Train_data:70%\",\"Accuracy_When_Train_data:80%\",\"Accuracy_When_Train_data:90%\")"
   ]
  },
  {
   "cell_type": "markdown",
   "metadata": {},
   "source": [
    "##### Final Readings"
   ]
  },
  {
   "cell_type": "code",
   "execution_count": 198,
   "metadata": {
    "collapsed": false
   },
   "outputs": [
    {
     "data": {
      "text/html": [
       "<table>\n",
       "<thead><tr><th scope=col>K_Value</th><th scope=col>Accuracy_When_Train_data:60%</th><th scope=col>Accuracy_When_Train_data:70%</th><th scope=col>Accuracy_When_Train_data:80%</th><th scope=col>Accuracy_When_Train_data:90%</th></tr></thead>\n",
       "<tbody>\n",
       "\t<tr><td>1    </td><td>67.00</td><td>67.66</td><td>67.5 </td><td>70   </td></tr>\n",
       "\t<tr><td>2    </td><td>66.25</td><td>68.66</td><td>65.0 </td><td>67   </td></tr>\n",
       "\t<tr><td>3    </td><td>69.50</td><td>68.00</td><td>70.0 </td><td>71   </td></tr>\n",
       "\t<tr><td>4    </td><td>67.75</td><td>68.00</td><td>67.5 </td><td>62   </td></tr>\n",
       "\t<tr><td>5    </td><td>69.00</td><td>69.00</td><td>70.0 </td><td>70   </td></tr>\n",
       "</tbody>\n",
       "</table>\n"
      ],
      "text/latex": [
       "\\begin{tabular}{r|lllll}\n",
       " K\\_Value & Accuracy\\_When\\_Train\\_data:60\\% & Accuracy\\_When\\_Train\\_data:70\\% & Accuracy\\_When\\_Train\\_data:80\\% & Accuracy\\_When\\_Train\\_data:90\\%\\\\\n",
       "\\hline\n",
       "\t 1     & 67.00 & 67.66 & 67.5  & 70   \\\\\n",
       "\t 2     & 66.25 & 68.66 & 65.0  & 67   \\\\\n",
       "\t 3     & 69.50 & 68.00 & 70.0  & 71   \\\\\n",
       "\t 4     & 67.75 & 68.00 & 67.5  & 62   \\\\\n",
       "\t 5     & 69.00 & 69.00 & 70.0  & 70   \\\\\n",
       "\\end{tabular}\n"
      ],
      "text/markdown": [
       "\n",
       "K_Value | Accuracy_When_Train_data:60% | Accuracy_When_Train_data:70% | Accuracy_When_Train_data:80% | Accuracy_When_Train_data:90% | \n",
       "|---|---|---|---|---|\n",
       "| 1     | 67.00 | 67.66 | 67.5  | 70    | \n",
       "| 2     | 66.25 | 68.66 | 65.0  | 67    | \n",
       "| 3     | 69.50 | 68.00 | 70.0  | 71    | \n",
       "| 4     | 67.75 | 68.00 | 67.5  | 62    | \n",
       "| 5     | 69.00 | 69.00 | 70.0  | 70    | \n",
       "\n",
       "\n"
      ],
      "text/plain": [
       "  K_Value Accuracy_When_Train_data:60% Accuracy_When_Train_data:70%\n",
       "1 1       67.00                        67.66                       \n",
       "2 2       66.25                        68.66                       \n",
       "3 3       69.50                        68.00                       \n",
       "4 4       67.75                        68.00                       \n",
       "5 5       69.00                        69.00                       \n",
       "  Accuracy_When_Train_data:80% Accuracy_When_Train_data:90%\n",
       "1 67.5                         70                          \n",
       "2 65.0                         67                          \n",
       "3 70.0                         71                          \n",
       "4 67.5                         62                          \n",
       "5 70.0                         70                          "
      ]
     },
     "metadata": {},
     "output_type": "display_data"
    }
   ],
   "source": [
    "final_reading<-rbind(r1,r2,r3,r4,r5)\n",
    "final_reading"
   ]
  },
  {
   "cell_type": "markdown",
   "metadata": {},
   "source": [
    "##### Storing the final readings in 'DIC_Lab3_Activity2.csv'"
   ]
  },
  {
   "cell_type": "code",
   "execution_count": 201,
   "metadata": {
    "collapsed": true
   },
   "outputs": [],
   "source": [
    "write.csv(file=\"DIC_Lab3_Activity2.csv\",final_reading)"
   ]
  }
 ],
 "metadata": {
  "kernelspec": {
   "display_name": "R",
   "language": "R",
   "name": "ir"
  },
  "language_info": {
   "codemirror_mode": "r",
   "file_extension": ".r",
   "mimetype": "text/x-r-source",
   "name": "R",
   "pygments_lexer": "r",
   "version": "3.3.2"
  }
 },
 "nbformat": 4,
 "nbformat_minor": 2
}
