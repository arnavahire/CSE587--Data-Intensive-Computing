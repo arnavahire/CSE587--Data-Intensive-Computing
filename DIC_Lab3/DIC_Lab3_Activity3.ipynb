{
 "cells": [
  {
   "cell_type": "markdown",
   "metadata": {},
   "source": [
    "DIC Lab3 Activity 3\n",
    "--"
   ]
  },
  {
   "cell_type": "markdown",
   "metadata": {},
   "source": [
    "##### Read CSV"
   ]
  },
  {
   "cell_type": "code",
   "execution_count": 38,
   "metadata": {
    "collapsed": true
   },
   "outputs": [],
   "source": [
    "data<-read.csv(file=\"June 10-July 12, 2015 - Gaming, Jobs and Broadband - CSV.csv\", header=TRUE)"
   ]
  },
  {
   "cell_type": "code",
   "execution_count": 39,
   "metadata": {
    "collapsed": false
   },
   "outputs": [
    {
     "name": "stdout",
     "output_type": "stream",
     "text": [
      "'data.frame':\t2001 obs. of  140 variables:\n",
      " $ psraid    : int  100006 100009 100011 100039 100040 100043 100049 100051 100058 100059 ...\n",
      " $ sample    : int  1 1 1 1 1 1 1 1 1 1 ...\n",
      " $ int_date  : int  61015 61015 61015 61015 61015 62215 61015 61915 61015 61015 ...\n",
      " $ lang      : int  1 1 1 1 1 1 1 1 1 1 ...\n",
      " $ usr       : Factor w/ 3 levels \"R\",\"S\",\"U\": 2 3 2 2 3 1 1 1 1 3 ...\n",
      " $ cregion   : int  3 3 2 3 3 2 1 2 3 1 ...\n",
      " $ state     : int  51 24 39 37 21 20 42 26 40 23 ...\n",
      " $ form      : int  1 2 2 2 1 1 1 1 2 1 ...\n",
      " $ sex       : int  2 2 2 2 2 2 1 1 1 1 ...\n",
      " $ q1        : int  1 2 1 1 1 1 1 1 2 3 ...\n",
      " $ q3        : int  2 3 2 2 2 2 4 2 2 4 ...\n",
      " $ eminuse   : int  1 1 2 1 1 1 2 2 1 2 ...\n",
      " $ intmob    : int  1 1 2 1 2 1 2 2 1 2 ...\n",
      " $ intfreq   : int  1 5 NA 2 3 4 NA NA 3 NA ...\n",
      " $ home4nw   : int  1 1 NA 1 1 1 NA NA 1 NA ...\n",
      " $ bbhome1   : int  2 1 NA 2 2 2 NA NA 2 NA ...\n",
      " $ bbhome2   : int  NA 1 NA NA NA NA NA NA NA NA ...\n",
      " $ bbhome3a  : int  3 3 3 3 3 1 3 2 3 2 ...\n",
      " $ bbhome3b  : int  3 3 9 3 3 1 2 1 3 1 ...\n",
      " $ bbhome3c  : int  3 3 3 3 3 1 2 1 2 1 ...\n",
      " $ bbhome3d  : int  3 3 3 3 3 2 2 2 3 1 ...\n",
      " $ bbhome3e  : int  2 3 3 3 3 2 3 1 2 1 ...\n",
      " $ device1a  : int  1 1 1 1 2 1 1 1 1 1 ...\n",
      " $ smart1    : int  1 1 2 1 NA 1 2 2 1 8 ...\n",
      " $ q4        : int  NA NA 1 NA NA NA 8 9 NA 1 ...\n",
      " $ bbsmart1  : int  NA 8 2 NA NA NA 2 2 NA 2 ...\n",
      " $ bbsmart2  : int  NA 2 2 NA NA NA 2 2 NA 2 ...\n",
      " $ bbsmart3a : int  NA 8 2 NA NA NA 2 2 NA 2 ...\n",
      " $ bbsmart3b : int  NA 2 2 NA NA NA 1 2 NA 2 ...\n",
      " $ bbsmart3c : int  NA 1 NA NA NA NA NA NA NA NA ...\n",
      " $ bbsmart3d : int  NA 2 2 NA NA NA 1 1 NA 2 ...\n",
      " $ bbsmart3e : int  NA 2 2 NA NA NA 2 2 NA 2 ...\n",
      " $ bbsmart3f : int  NA 2 1 NA NA NA 1 2 NA 2 ...\n",
      " $ bbsmart4  : int  NA NA NA NA NA NA 6 NA NA NA ...\n",
      " $ cable1    : int  1 1 1 1 1 1 1 1 1 1 ...\n",
      " $ cable2    : int  NA NA NA NA NA NA NA NA NA NA ...\n",
      " $ cable3a   : int  NA NA NA NA NA NA NA NA NA NA ...\n",
      " $ cable3b   : int  NA NA NA NA NA NA NA NA NA NA ...\n",
      " $ cable3c   : int  NA NA NA NA NA NA NA NA NA NA ...\n",
      " $ act19     : int  1 1 NA 2 2 2 NA NA 2 NA ...\n",
      " $ act87a    : int  1 NA NA NA 1 1 NA NA NA NA ...\n",
      " $ act87b    : int  NA 2 NA 1 NA NA NA NA 1 NA ...\n",
      " $ act137    : int  1 2 NA 2 2 2 NA NA 2 NA ...\n",
      " $ q5a       : int  2 NA NA NA NA 2 2 2 NA 2 ...\n",
      " $ q5b       : int  2 NA NA NA NA 2 2 2 NA 2 ...\n",
      " $ q5c       : int  1 NA NA NA NA 1 2 2 NA 2 ...\n",
      " $ q5d       : int  NA 2 2 2 NA NA NA NA 1 NA ...\n",
      " $ q5e       : int  NA 2 2 1 NA NA NA NA 2 NA ...\n",
      " $ q5f       : int  NA 1 2 1 NA NA NA NA 1 NA ...\n",
      " $ date1a    : int  2 2 NA 2 2 2 NA NA 2 NA ...\n",
      " $ date2a    : int  2 2 NA 2 NA 2 NA NA 2 NA ...\n",
      " $ date3a    : int  2 2 2 1 2 2 2 2 1 2 ...\n",
      " $ date3b    : int  2 2 2 1 1 2 2 2 2 2 ...\n",
      " $ date4a    : int  2 2 2 2 2 2 2 1 2 2 ...\n",
      " $ date4b    : int  2 2 2 2 2 1 2 1 2 2 ...\n",
      " $ date4c    : int  2 2 8 2 2 2 9 2 1 2 ...\n",
      " $ date4d    : int  2 1 2 2 2 1 1 2 1 1 ...\n",
      " $ date4e    : int  1 1 2 1 2 1 2 1 2 2 ...\n",
      " $ date4f    : int  1 1 1 1 1 2 1 2 1 1 ...\n",
      " $ game1     : int  2 1 9 2 1 2 2 2 2 2 ...\n",
      " $ game2a    : int  2 1 8 2 3 3 3 2 1 8 ...\n",
      " $ game2b    : int  1 3 8 1 8 1 1 2 2 1 ...\n",
      " $ game2c    : int  8 3 8 2 3 1 8 1 1 3 ...\n",
      " $ game2d    : int  3 3 8 2 3 3 3 8 8 3 ...\n",
      " $ game2e    : int  8 3 8 2 3 8 8 2 1 3 ...\n",
      " $ game2f    : int  3 3 3 3 2 8 8 8 8 1 ...\n",
      " $ game3a    : int  2 1 2 1 2 2 1 1 2 2 ...\n",
      " $ game3b    : int  1 1 1 2 9 1 1 2 1 2 ...\n",
      " $ game4     : int  NA 2 NA NA 2 NA NA NA NA NA ...\n",
      " $ emplnw    : int  4 3 3 1 3 2 3 3 3 3 ...\n",
      " $ emptype1  : int  NA NA NA 1 NA 5 NA NA NA NA ...\n",
      " $ emptype2  : int  NA NA NA 1 NA 2 NA NA NA NA ...\n",
      " $ emptype3  : int  NA NA NA NA NA 4 NA NA NA NA ...\n",
      " $ stud      : int  3 3 3 3 3 3 3 3 3 3 ...\n",
      " $ job1a     : int  1 NA NA 2 NA 1 NA NA NA NA ...\n",
      " $ job1b     : int  1 NA NA 1 NA 1 NA NA NA NA ...\n",
      " $ job1c     : int  1 NA NA 1 NA 1 NA NA NA NA ...\n",
      " $ job1d     : int  1 NA NA 1 NA 2 NA NA NA NA ...\n",
      " $ job1e     : int  1 NA NA 2 NA 2 NA NA NA NA ...\n",
      " $ job1f     : int  1 NA NA 1 NA 1 NA NA NA NA ...\n",
      " $ job2      : int  2 2 2 2 2 2 2 2 2 2 ...\n",
      " $ job3a     : int  NA NA NA NA NA NA NA NA NA NA ...\n",
      " $ job3b     : int  NA NA NA NA NA NA NA NA NA NA ...\n",
      " $ job3c     : int  NA NA NA NA NA NA NA NA NA NA ...\n",
      " $ job3d     : int  NA NA NA NA NA NA NA NA NA NA ...\n",
      " $ job3e     : int  NA NA NA NA NA NA NA NA NA NA ...\n",
      " $ job3f     : int  NA NA NA NA NA NA NA NA NA NA ...\n",
      " $ job3g     : int  NA NA NA NA NA NA NA NA NA NA ...\n",
      " $ job3h     : int  NA NA NA NA NA NA NA NA NA NA ...\n",
      " $ job4      : int  NA NA NA NA NA NA NA NA NA NA ...\n",
      " $ smjob1    : int  2 2 NA 2 NA 2 NA NA 2 NA ...\n",
      " $ smjob2a   : int  NA NA NA NA NA NA NA NA NA NA ...\n",
      " $ smjob2b   : int  NA NA NA NA NA NA NA NA NA NA ...\n",
      " $ smjob2c   : int  NA NA NA NA NA NA NA NA NA NA ...\n",
      " $ smjob2d   : int  NA NA NA NA NA NA NA NA NA NA ...\n",
      " $ smjob2e   : int  NA NA NA NA NA NA NA NA NA NA ...\n",
      " $ smjob3    : int  NA NA NA NA NA NA NA NA NA NA ...\n",
      " $ smjob4a   : int  NA NA NA NA NA NA NA NA NA NA ...\n",
      " $ smjob4b   : int  NA NA NA NA NA NA NA NA NA NA ...\n",
      "  [list output truncated]\n"
     ]
    }
   ],
   "source": [
    "str(data)"
   ]
  },
  {
   "cell_type": "markdown",
   "metadata": {},
   "source": [
    "##### Setting null values as zeros"
   ]
  },
  {
   "cell_type": "code",
   "execution_count": 43,
   "metadata": {
    "collapsed": false
   },
   "outputs": [
    {
     "data": {
      "text/html": [
       "'integer'"
      ],
      "text/latex": [
       "'integer'"
      ],
      "text/markdown": [
       "'integer'"
      ],
      "text/plain": [
       "[1] \"integer\""
      ]
     },
     "metadata": {},
     "output_type": "display_data"
    }
   ],
   "source": [
    "data[is.na(data)] <- 0"
   ]
  },
  {
   "cell_type": "markdown",
   "metadata": {},
   "source": [
    "##### Filtering data and selecting 5 relevant columns"
   ]
  },
  {
   "cell_type": "markdown",
   "metadata": {},
   "source": [
    "I have selected sex,age,inc,eminuse and device1a as the variables for clustering.\n",
    "sex - Gender\n",
    "age - Age\n",
    "inc - Income\n",
    "eminuse - Is the person an internet user ?\n",
    "device1a - is the person a cellphone user ?\n",
    "\n",
    "So basically, I will cluster all the people belonging to a particular gender, having a particular age and income who may/ may not be an internet user and also who may/may not be a cellphone owner."
   ]
  },
  {
   "cell_type": "code",
   "execution_count": 77,
   "metadata": {
    "collapsed": false
   },
   "outputs": [
    {
     "data": {
      "text/html": [
       "<table>\n",
       "<thead><tr><th scope=col>sex</th><th scope=col>age</th><th scope=col>inc</th><th scope=col>eminuse</th><th scope=col>device1a</th></tr></thead>\n",
       "<tbody>\n",
       "\t<tr><td>2 </td><td>47</td><td>99</td><td>1 </td><td>1 </td></tr>\n",
       "\t<tr><td>2 </td><td>63</td><td> 6</td><td>1 </td><td>1 </td></tr>\n",
       "\t<tr><td>2 </td><td>86</td><td> 3</td><td>2 </td><td>1 </td></tr>\n",
       "\t<tr><td>2 </td><td>40</td><td> 6</td><td>1 </td><td>1 </td></tr>\n",
       "\t<tr><td>2 </td><td>65</td><td> 3</td><td>1 </td><td>2 </td></tr>\n",
       "\t<tr><td>2 </td><td>69</td><td> 8</td><td>1 </td><td>1 </td></tr>\n",
       "\t<tr><td>1 </td><td>72</td><td>99</td><td>2 </td><td>1 </td></tr>\n",
       "\t<tr><td>1 </td><td>70</td><td> 7</td><td>2 </td><td>1 </td></tr>\n",
       "\t<tr><td>1 </td><td>77</td><td> 6</td><td>1 </td><td>1 </td></tr>\n",
       "\t<tr><td>1 </td><td>73</td><td> 3</td><td>2 </td><td>1 </td></tr>\n",
       "\t<tr><td>2 </td><td>81</td><td>99</td><td>1 </td><td>1 </td></tr>\n",
       "\t<tr><td>2 </td><td>77</td><td>99</td><td>1 </td><td>1 </td></tr>\n",
       "\t<tr><td>1 </td><td>52</td><td> 8</td><td>1 </td><td>1 </td></tr>\n",
       "\t<tr><td>2 </td><td>74</td><td> 6</td><td>1 </td><td>1 </td></tr>\n",
       "\t<tr><td>2 </td><td>43</td><td>98</td><td>1 </td><td>1 </td></tr>\n",
       "\t<tr><td>2 </td><td>44</td><td> 7</td><td>1 </td><td>1 </td></tr>\n",
       "\t<tr><td>1 </td><td>68</td><td> 4</td><td>2 </td><td>1 </td></tr>\n",
       "\t<tr><td>1 </td><td>87</td><td> 4</td><td>1 </td><td>1 </td></tr>\n",
       "\t<tr><td>2 </td><td>68</td><td>99</td><td>1 </td><td>1 </td></tr>\n",
       "\t<tr><td>1 </td><td>58</td><td> 7</td><td>1 </td><td>1 </td></tr>\n",
       "\t<tr><td>2 </td><td>31</td><td> 2</td><td>1 </td><td>2 </td></tr>\n",
       "\t<tr><td>1 </td><td>85</td><td> 6</td><td>2 </td><td>1 </td></tr>\n",
       "\t<tr><td>2 </td><td>93</td><td> 1</td><td>2 </td><td>2 </td></tr>\n",
       "\t<tr><td>1 </td><td>57</td><td> 6</td><td>2 </td><td>1 </td></tr>\n",
       "\t<tr><td>1 </td><td>70</td><td> 9</td><td>1 </td><td>1 </td></tr>\n",
       "\t<tr><td>2 </td><td>36</td><td> 7</td><td>1 </td><td>1 </td></tr>\n",
       "\t<tr><td>2 </td><td>39</td><td> 6</td><td>1 </td><td>1 </td></tr>\n",
       "\t<tr><td>2 </td><td>85</td><td> 1</td><td>1 </td><td>1 </td></tr>\n",
       "\t<tr><td>2 </td><td>76</td><td> 6</td><td>1 </td><td>1 </td></tr>\n",
       "\t<tr><td>2 </td><td>63</td><td> 6</td><td>1 </td><td>1 </td></tr>\n",
       "\t<tr><td>⋮</td><td>⋮</td><td>⋮</td><td>⋮</td><td>⋮</td></tr>\n",
       "\t<tr><td>2 </td><td>27</td><td> 1</td><td>2 </td><td>0 </td></tr>\n",
       "\t<tr><td>2 </td><td>66</td><td> 5</td><td>1 </td><td>0 </td></tr>\n",
       "\t<tr><td>1 </td><td>23</td><td> 4</td><td>1 </td><td>0 </td></tr>\n",
       "\t<tr><td>1 </td><td>79</td><td> 4</td><td>2 </td><td>0 </td></tr>\n",
       "\t<tr><td>2 </td><td>29</td><td> 5</td><td>1 </td><td>0 </td></tr>\n",
       "\t<tr><td>2 </td><td>65</td><td>99</td><td>1 </td><td>0 </td></tr>\n",
       "\t<tr><td>2 </td><td>35</td><td> 5</td><td>1 </td><td>0 </td></tr>\n",
       "\t<tr><td>1 </td><td>26</td><td> 1</td><td>1 </td><td>0 </td></tr>\n",
       "\t<tr><td>1 </td><td>60</td><td> 9</td><td>1 </td><td>0 </td></tr>\n",
       "\t<tr><td>2 </td><td>51</td><td> 1</td><td>1 </td><td>0 </td></tr>\n",
       "\t<tr><td>1 </td><td>27</td><td> 1</td><td>1 </td><td>0 </td></tr>\n",
       "\t<tr><td>2 </td><td>60</td><td>99</td><td>1 </td><td>0 </td></tr>\n",
       "\t<tr><td>1 </td><td>43</td><td> 3</td><td>1 </td><td>0 </td></tr>\n",
       "\t<tr><td>2 </td><td>19</td><td> 6</td><td>1 </td><td>0 </td></tr>\n",
       "\t<tr><td>2 </td><td>36</td><td> 1</td><td>1 </td><td>0 </td></tr>\n",
       "\t<tr><td>1 </td><td>62</td><td> 8</td><td>1 </td><td>0 </td></tr>\n",
       "\t<tr><td>1 </td><td>59</td><td> 8</td><td>1 </td><td>0 </td></tr>\n",
       "\t<tr><td>2 </td><td>34</td><td> 6</td><td>1 </td><td>0 </td></tr>\n",
       "\t<tr><td>1 </td><td>56</td><td> 5</td><td>1 </td><td>0 </td></tr>\n",
       "\t<tr><td>1 </td><td>63</td><td> 3</td><td>1 </td><td>0 </td></tr>\n",
       "\t<tr><td>1 </td><td>50</td><td> 3</td><td>2 </td><td>0 </td></tr>\n",
       "\t<tr><td>2 </td><td>47</td><td> 5</td><td>1 </td><td>0 </td></tr>\n",
       "\t<tr><td>1 </td><td>72</td><td> 5</td><td>1 </td><td>0 </td></tr>\n",
       "\t<tr><td>2 </td><td>70</td><td> 4</td><td>1 </td><td>0 </td></tr>\n",
       "\t<tr><td>1 </td><td>35</td><td> 1</td><td>1 </td><td>0 </td></tr>\n",
       "\t<tr><td>2 </td><td>39</td><td> 9</td><td>1 </td><td>0 </td></tr>\n",
       "\t<tr><td>2 </td><td>77</td><td> 3</td><td>1 </td><td>0 </td></tr>\n",
       "\t<tr><td>2 </td><td>40</td><td> 6</td><td>1 </td><td>0 </td></tr>\n",
       "\t<tr><td>2 </td><td>54</td><td> 4</td><td>1 </td><td>0 </td></tr>\n",
       "\t<tr><td>2 </td><td>31</td><td> 5</td><td>1 </td><td>0 </td></tr>\n",
       "</tbody>\n",
       "</table>\n"
      ],
      "text/latex": [
       "\\begin{tabular}{r|lllll}\n",
       " sex & age & inc & eminuse & device1a\\\\\n",
       "\\hline\n",
       "\t 2  & 47 & 99 & 1  & 1 \\\\\n",
       "\t 2  & 63 &  6 & 1  & 1 \\\\\n",
       "\t 2  & 86 &  3 & 2  & 1 \\\\\n",
       "\t 2  & 40 &  6 & 1  & 1 \\\\\n",
       "\t 2  & 65 &  3 & 1  & 2 \\\\\n",
       "\t 2  & 69 &  8 & 1  & 1 \\\\\n",
       "\t 1  & 72 & 99 & 2  & 1 \\\\\n",
       "\t 1  & 70 &  7 & 2  & 1 \\\\\n",
       "\t 1  & 77 &  6 & 1  & 1 \\\\\n",
       "\t 1  & 73 &  3 & 2  & 1 \\\\\n",
       "\t 2  & 81 & 99 & 1  & 1 \\\\\n",
       "\t 2  & 77 & 99 & 1  & 1 \\\\\n",
       "\t 1  & 52 &  8 & 1  & 1 \\\\\n",
       "\t 2  & 74 &  6 & 1  & 1 \\\\\n",
       "\t 2  & 43 & 98 & 1  & 1 \\\\\n",
       "\t 2  & 44 &  7 & 1  & 1 \\\\\n",
       "\t 1  & 68 &  4 & 2  & 1 \\\\\n",
       "\t 1  & 87 &  4 & 1  & 1 \\\\\n",
       "\t 2  & 68 & 99 & 1  & 1 \\\\\n",
       "\t 1  & 58 &  7 & 1  & 1 \\\\\n",
       "\t 2  & 31 &  2 & 1  & 2 \\\\\n",
       "\t 1  & 85 &  6 & 2  & 1 \\\\\n",
       "\t 2  & 93 &  1 & 2  & 2 \\\\\n",
       "\t 1  & 57 &  6 & 2  & 1 \\\\\n",
       "\t 1  & 70 &  9 & 1  & 1 \\\\\n",
       "\t 2  & 36 &  7 & 1  & 1 \\\\\n",
       "\t 2  & 39 &  6 & 1  & 1 \\\\\n",
       "\t 2  & 85 &  1 & 1  & 1 \\\\\n",
       "\t 2  & 76 &  6 & 1  & 1 \\\\\n",
       "\t 2  & 63 &  6 & 1  & 1 \\\\\n",
       "\t ⋮ & ⋮ & ⋮ & ⋮ & ⋮\\\\\n",
       "\t 2  & 27 &  1 & 2  & 0 \\\\\n",
       "\t 2  & 66 &  5 & 1  & 0 \\\\\n",
       "\t 1  & 23 &  4 & 1  & 0 \\\\\n",
       "\t 1  & 79 &  4 & 2  & 0 \\\\\n",
       "\t 2  & 29 &  5 & 1  & 0 \\\\\n",
       "\t 2  & 65 & 99 & 1  & 0 \\\\\n",
       "\t 2  & 35 &  5 & 1  & 0 \\\\\n",
       "\t 1  & 26 &  1 & 1  & 0 \\\\\n",
       "\t 1  & 60 &  9 & 1  & 0 \\\\\n",
       "\t 2  & 51 &  1 & 1  & 0 \\\\\n",
       "\t 1  & 27 &  1 & 1  & 0 \\\\\n",
       "\t 2  & 60 & 99 & 1  & 0 \\\\\n",
       "\t 1  & 43 &  3 & 1  & 0 \\\\\n",
       "\t 2  & 19 &  6 & 1  & 0 \\\\\n",
       "\t 2  & 36 &  1 & 1  & 0 \\\\\n",
       "\t 1  & 62 &  8 & 1  & 0 \\\\\n",
       "\t 1  & 59 &  8 & 1  & 0 \\\\\n",
       "\t 2  & 34 &  6 & 1  & 0 \\\\\n",
       "\t 1  & 56 &  5 & 1  & 0 \\\\\n",
       "\t 1  & 63 &  3 & 1  & 0 \\\\\n",
       "\t 1  & 50 &  3 & 2  & 0 \\\\\n",
       "\t 2  & 47 &  5 & 1  & 0 \\\\\n",
       "\t 1  & 72 &  5 & 1  & 0 \\\\\n",
       "\t 2  & 70 &  4 & 1  & 0 \\\\\n",
       "\t 1  & 35 &  1 & 1  & 0 \\\\\n",
       "\t 2  & 39 &  9 & 1  & 0 \\\\\n",
       "\t 2  & 77 &  3 & 1  & 0 \\\\\n",
       "\t 2  & 40 &  6 & 1  & 0 \\\\\n",
       "\t 2  & 54 &  4 & 1  & 0 \\\\\n",
       "\t 2  & 31 &  5 & 1  & 0 \\\\\n",
       "\\end{tabular}\n"
      ],
      "text/markdown": [
       "\n",
       "sex | age | inc | eminuse | device1a | \n",
       "|---|---|---|---|---|---|---|---|---|---|---|---|---|---|---|---|---|---|---|---|---|---|---|---|---|---|---|---|---|---|---|---|---|---|---|---|---|---|---|---|---|---|---|---|---|---|---|---|---|---|---|---|---|---|---|---|---|---|---|---|---|\n",
       "| 2  | 47 | 99 | 1  | 1  | \n",
       "| 2  | 63 |  6 | 1  | 1  | \n",
       "| 2  | 86 |  3 | 2  | 1  | \n",
       "| 2  | 40 |  6 | 1  | 1  | \n",
       "| 2  | 65 |  3 | 1  | 2  | \n",
       "| 2  | 69 |  8 | 1  | 1  | \n",
       "| 1  | 72 | 99 | 2  | 1  | \n",
       "| 1  | 70 |  7 | 2  | 1  | \n",
       "| 1  | 77 |  6 | 1  | 1  | \n",
       "| 1  | 73 |  3 | 2  | 1  | \n",
       "| 2  | 81 | 99 | 1  | 1  | \n",
       "| 2  | 77 | 99 | 1  | 1  | \n",
       "| 1  | 52 |  8 | 1  | 1  | \n",
       "| 2  | 74 |  6 | 1  | 1  | \n",
       "| 2  | 43 | 98 | 1  | 1  | \n",
       "| 2  | 44 |  7 | 1  | 1  | \n",
       "| 1  | 68 |  4 | 2  | 1  | \n",
       "| 1  | 87 |  4 | 1  | 1  | \n",
       "| 2  | 68 | 99 | 1  | 1  | \n",
       "| 1  | 58 |  7 | 1  | 1  | \n",
       "| 2  | 31 |  2 | 1  | 2  | \n",
       "| 1  | 85 |  6 | 2  | 1  | \n",
       "| 2  | 93 |  1 | 2  | 2  | \n",
       "| 1  | 57 |  6 | 2  | 1  | \n",
       "| 1  | 70 |  9 | 1  | 1  | \n",
       "| 2  | 36 |  7 | 1  | 1  | \n",
       "| 2  | 39 |  6 | 1  | 1  | \n",
       "| 2  | 85 |  1 | 1  | 1  | \n",
       "| 2  | 76 |  6 | 1  | 1  | \n",
       "| 2  | 63 |  6 | 1  | 1  | \n",
       "| ⋮ | ⋮ | ⋮ | ⋮ | ⋮ | \n",
       "| 2  | 27 |  1 | 2  | 0  | \n",
       "| 2  | 66 |  5 | 1  | 0  | \n",
       "| 1  | 23 |  4 | 1  | 0  | \n",
       "| 1  | 79 |  4 | 2  | 0  | \n",
       "| 2  | 29 |  5 | 1  | 0  | \n",
       "| 2  | 65 | 99 | 1  | 0  | \n",
       "| 2  | 35 |  5 | 1  | 0  | \n",
       "| 1  | 26 |  1 | 1  | 0  | \n",
       "| 1  | 60 |  9 | 1  | 0  | \n",
       "| 2  | 51 |  1 | 1  | 0  | \n",
       "| 1  | 27 |  1 | 1  | 0  | \n",
       "| 2  | 60 | 99 | 1  | 0  | \n",
       "| 1  | 43 |  3 | 1  | 0  | \n",
       "| 2  | 19 |  6 | 1  | 0  | \n",
       "| 2  | 36 |  1 | 1  | 0  | \n",
       "| 1  | 62 |  8 | 1  | 0  | \n",
       "| 1  | 59 |  8 | 1  | 0  | \n",
       "| 2  | 34 |  6 | 1  | 0  | \n",
       "| 1  | 56 |  5 | 1  | 0  | \n",
       "| 1  | 63 |  3 | 1  | 0  | \n",
       "| 1  | 50 |  3 | 2  | 0  | \n",
       "| 2  | 47 |  5 | 1  | 0  | \n",
       "| 1  | 72 |  5 | 1  | 0  | \n",
       "| 2  | 70 |  4 | 1  | 0  | \n",
       "| 1  | 35 |  1 | 1  | 0  | \n",
       "| 2  | 39 |  9 | 1  | 0  | \n",
       "| 2  | 77 |  3 | 1  | 0  | \n",
       "| 2  | 40 |  6 | 1  | 0  | \n",
       "| 2  | 54 |  4 | 1  | 0  | \n",
       "| 2  | 31 |  5 | 1  | 0  | \n",
       "\n",
       "\n"
      ],
      "text/plain": [
       "     sex age inc eminuse device1a\n",
       "1    2   47  99  1       1       \n",
       "2    2   63   6  1       1       \n",
       "3    2   86   3  2       1       \n",
       "4    2   40   6  1       1       \n",
       "5    2   65   3  1       2       \n",
       "6    2   69   8  1       1       \n",
       "7    1   72  99  2       1       \n",
       "8    1   70   7  2       1       \n",
       "9    1   77   6  1       1       \n",
       "10   1   73   3  2       1       \n",
       "11   2   81  99  1       1       \n",
       "12   2   77  99  1       1       \n",
       "13   1   52   8  1       1       \n",
       "14   2   74   6  1       1       \n",
       "15   2   43  98  1       1       \n",
       "16   2   44   7  1       1       \n",
       "17   1   68   4  2       1       \n",
       "18   1   87   4  1       1       \n",
       "19   2   68  99  1       1       \n",
       "20   1   58   7  1       1       \n",
       "21   2   31   2  1       2       \n",
       "22   1   85   6  2       1       \n",
       "23   2   93   1  2       2       \n",
       "24   1   57   6  2       1       \n",
       "25   1   70   9  1       1       \n",
       "26   2   36   7  1       1       \n",
       "27   2   39   6  1       1       \n",
       "28   2   85   1  1       1       \n",
       "29   2   76   6  1       1       \n",
       "30   2   63   6  1       1       \n",
       "⋮    ⋮   ⋮   ⋮   ⋮       ⋮       \n",
       "1972 2   27   1  2       0       \n",
       "1973 2   66   5  1       0       \n",
       "1974 1   23   4  1       0       \n",
       "1975 1   79   4  2       0       \n",
       "1976 2   29   5  1       0       \n",
       "1977 2   65  99  1       0       \n",
       "1978 2   35   5  1       0       \n",
       "1979 1   26   1  1       0       \n",
       "1980 1   60   9  1       0       \n",
       "1981 2   51   1  1       0       \n",
       "1982 1   27   1  1       0       \n",
       "1983 2   60  99  1       0       \n",
       "1984 1   43   3  1       0       \n",
       "1985 2   19   6  1       0       \n",
       "1986 2   36   1  1       0       \n",
       "1987 1   62   8  1       0       \n",
       "1988 1   59   8  1       0       \n",
       "1989 2   34   6  1       0       \n",
       "1990 1   56   5  1       0       \n",
       "1991 1   63   3  1       0       \n",
       "1992 1   50   3  2       0       \n",
       "1993 2   47   5  1       0       \n",
       "1994 1   72   5  1       0       \n",
       "1995 2   70   4  1       0       \n",
       "1996 1   35   1  1       0       \n",
       "1997 2   39   9  1       0       \n",
       "1998 2   77   3  1       0       \n",
       "1999 2   40   6  1       0       \n",
       "2000 2   54   4  1       0       \n",
       "2001 2   31   5  1       0       "
      ]
     },
     "metadata": {},
     "output_type": "display_data"
    }
   ],
   "source": [
    "extracted_data<- data[,c(\"sex\",\"age\",\"inc\",\"eminuse\",\"device1a\")]\n",
    "extracted_data"
   ]
  },
  {
   "cell_type": "markdown",
   "metadata": {},
   "source": [
    "##### Normalizing values so that we can get a good SS value"
   ]
  },
  {
   "cell_type": "code",
   "execution_count": 79,
   "metadata": {
    "collapsed": true
   },
   "outputs": [],
   "source": [
    "#Normalization function\n",
    "\n",
    "normalize<-function(x){\n",
    "    + return((x-min(x))/(max(x)-min(x)))\n",
    "}"
   ]
  },
  {
   "cell_type": "code",
   "execution_count": 80,
   "metadata": {
    "collapsed": false
   },
   "outputs": [
    {
     "name": "stdout",
     "output_type": "stream",
     "text": [
      "'data.frame':\t2001 obs. of  5 variables:\n",
      " $ sex     : num  1 1 1 1 1 1 0 0 0 0 ...\n",
      " $ age     : num  0.358 0.556 0.84 0.272 0.58 ...\n",
      " $ inc     : num  1 0.051 0.0204 0.051 0.0204 ...\n",
      " $ eminuse : num  0 0 0.125 0 0 0 0.125 0.125 0 0.125 ...\n",
      " $ device1a: num  0.111 0.111 0.111 0.111 0.222 ...\n"
     ]
    }
   ],
   "source": [
    "new_data<-as.data.frame(lapply(extracted_data[,c(1,2,3,4,5)],normalize))\n",
    "str(new_data)"
   ]
  },
  {
   "cell_type": "markdown",
   "metadata": {},
   "source": [
    "###### K-Means clustering"
   ]
  },
  {
   "cell_type": "markdown",
   "metadata": {},
   "source": [
    "K=3"
   ]
  },
  {
   "cell_type": "code",
   "execution_count": 91,
   "metadata": {
    "collapsed": false
   },
   "outputs": [
    {
     "data": {
      "text/plain": [
       "K-means clustering with 3 clusters of sizes 857, 132, 1012\n",
       "\n",
       "Cluster means:\n",
       "  sex       age        inc    eminuse   device1a\n",
       "1   0 0.3841278 0.04469793 0.01969078 0.03357967\n",
       "2   0 0.4916760 0.99628942 0.02935606 0.05218855\n",
       "3   1 0.4431757 0.20302291 0.02124506 0.05456741\n",
       "\n",
       "Clustering vector:\n",
       "   [1] 3 3 3 3 3 3 2 1 1 1 3 3 1 3 3 3 1 1 3 1 3 1 3 1 1 3 3 3 3 3 3 3 1 1 3 3 3\n",
       "  [38] 1 3 1 3 3 3 3 1 2 1 3 1 3 3 1 3 3 3 3 1 3 3 3 3 3 1 1 1 3 3 1 3 3 3 3 1 2\n",
       "  [75] 2 3 1 3 3 3 3 1 3 3 1 3 1 1 1 1 3 1 3 3 3 1 1 3 3 1 3 3 3 1 3 2 3 1 1 3 3\n",
       " [112] 3 3 3 3 2 1 3 2 3 1 1 3 3 3 1 3 3 2 1 3 1 1 3 2 1 3 3 3 3 3 3 1 3 1 3 3 3\n",
       " [149] 2 1 3 1 3 3 1 1 3 3 1 3 1 1 3 3 3 3 3 3 3 3 3 3 1 3 2 3 2 3 2 1 3 3 3 3 1\n",
       " [186] 2 2 3 3 2 3 1 3 1 2 3 2 3 1 3 3 1 3 2 3 3 3 1 3 3 1 3 1 3 3 1 3 1 1 3 1 3\n",
       " [223] 2 3 1 1 2 1 3 3 1 3 1 2 3 3 3 1 3 2 3 3 3 1 2 3 3 3 3 1 3 1 3 1 3 2 2 1 1\n",
       " [260] 3 1 2 1 3 1 3 3 3 3 3 1 3 1 3 1 1 1 1 3 1 2 1 3 3 3 3 3 3 3 3 1 3 1 1 3 3\n",
       " [297] 3 1 1 3 3 3 1 2 1 3 3 3 3 3 2 3 3 3 1 2 3 3 3 2 1 1 1 1 1 3 1 1 3 3 1 3 3\n",
       " [334] 2 1 3 1 1 3 3 1 3 2 3 3 3 3 3 3 3 1 1 1 3 1 2 3 3 3 1 1 3 1 3 1 1 3 3 1 3\n",
       " [371] 1 3 1 3 3 3 3 1 3 3 3 3 3 3 3 3 3 1 3 1 3 1 3 3 3 3 3 3 1 3 1 1 3 3 1 3 3\n",
       " [408] 1 2 1 3 1 1 1 3 3 3 1 3 3 1 1 3 1 1 3 3 1 3 3 1 3 2 3 3 1 3 3 3 3 1 1 3 3\n",
       " [445] 3 2 3 3 1 1 2 3 3 1 1 3 3 2 1 1 3 3 1 3 3 3 1 3 3 3 3 3 1 3 3 3 1 3 3 3 3\n",
       " [482] 3 3 1 3 1 3 1 3 3 1 3 3 2 3 1 3 3 3 1 3 3 1 3 3 1 1 3 3 3 3 3 3 3 3 3 1 3\n",
       " [519] 3 3 2 1 3 3 1 3 3 3 3 1 3 1 3 1 3 3 3 2 3 1 3 3 1 3 3 3 2 3 3 1 1 2 1 3 3\n",
       " [556] 3 3 2 3 3 3 3 3 1 3 3 1 1 1 1 1 1 1 3 3 1 3 3 1 3 3 1 1 3 1 3 3 1 1 3 3 3\n",
       " [593] 3 3 3 3 3 1 2 1 3 2 3 3 3 3 3 3 1 1 1 3 3 1 3 3 1 1 1 1 3 1 3 1 3 3 3 1 3\n",
       " [630] 2 3 3 3 3 3 3 3 3 3 1 3 3 3 1 1 3 3 3 3 1 3 1 3 3 1 3 3 3 3 3 3 3 3 3 1 1\n",
       " [667] 1 3 1 3 1 3 1 3 3 3 3 1 1 1 1 2 3 1 2 3 3 3 1 1 1 3 3 3 1 3 1 3 3 1 3 1 1\n",
       " [704] 1 1 3 3 3 1 3 1 3 1 3 1 1 1 1 3 2 1 1 1 1 1 1 1 1 1 3 1 1 1 1 1 3 1 1 1 3\n",
       " [741] 3 3 3 1 1 1 1 1 3 3 1 1 1 1 3 1 3 2 3 3 3 2 3 3 3 3 3 3 1 1 1 3 1 3 3 1 1\n",
       " [778] 1 1 3 3 3 1 1 3 1 1 1 3 1 1 1 1 1 1 1 3 1 1 3 1 1 3 1 3 3 3 1 1 1 1 3 1 2\n",
       " [815] 2 3 3 3 2 3 1 1 3 3 1 3 1 3 1 1 2 3 3 1 3 3 1 1 3 3 3 1 1 1 1 1 3 2 3 1 1\n",
       " [852] 3 1 3 1 2 3 1 1 1 1 1 3 3 3 1 3 1 1 1 3 1 1 2 3 2 1 1 3 3 3 3 1 3 1 1 1 3\n",
       " [889] 1 1 3 3 3 1 1 3 3 1 2 1 3 1 1 1 1 3 3 1 3 1 1 3 1 1 1 1 3 3 3 3 3 1 3 3 3\n",
       " [926] 3 2 1 2 1 3 1 1 3 1 1 3 1 3 3 1 1 3 1 3 1 1 1 3 2 3 3 3 3 1 1 1 1 2 3 3 1\n",
       " [963] 3 3 1 3 2 1 2 3 3 3 3 1 1 1 2 3 1 3 3 1 1 1 1 3 1 1 1 1 3 3 1 1 1 3 3 3 1\n",
       "[1000] 1 3 1 3 3 1 1 3 3 3 1 1 3 1 1 3 1 3 1 1 1 1 1 2 3 3 3 3 1 1 1 3 3 1 3 3 2\n",
       "[1037] 1 3 1 3 3 1 3 3 3 1 1 1 3 1 1 1 1 1 3 2 3 3 3 3 1 3 3 1 1 2 1 1 1 2 3 1 3\n",
       "[1074] 3 3 1 1 1 3 1 3 3 1 3 3 1 1 3 1 2 3 3 2 1 3 3 3 1 3 1 1 1 1 1 1 3 1 1 3 1\n",
       "[1111] 1 1 1 3 1 1 3 1 3 3 1 3 3 3 1 1 1 3 1 3 1 1 3 1 3 3 1 1 3 3 3 3 3 3 3 3 3\n",
       "[1148] 1 3 1 1 1 3 3 3 1 2 1 3 1 2 1 1 3 3 1 3 3 1 3 1 1 3 1 1 1 2 1 1 3 3 1 3 2\n",
       "[1185] 1 1 1 3 1 1 3 3 3 3 1 3 1 1 1 1 1 1 1 3 3 3 3 3 3 3 1 3 3 3 1 3 1 1 1 1 1\n",
       "[1222] 1 1 1 3 1 3 3 1 3 1 2 3 1 1 1 1 3 3 3 1 1 3 1 1 3 1 1 2 1 1 1 3 1 3 3 1 3\n",
       "[1259] 3 3 3 1 3 1 1 1 1 1 3 2 3 1 1 3 3 1 1 1 2 1 3 3 1 3 1 1 3 3 1 1 1 1 1 3 1\n",
       "[1296] 1 3 2 1 1 1 1 2 3 1 1 3 1 3 3 1 1 3 3 3 3 3 3 3 1 1 2 3 1 3 1 3 1 1 3 3 3\n",
       "[1333] 3 3 3 3 3 1 3 3 3 1 3 1 1 1 3 1 3 1 3 1 3 1 1 3 3 2 3 1 3 1 3 3 3 1 2 1 3\n",
       "[1370] 3 2 1 1 1 1 1 3 3 1 1 1 1 1 1 3 3 1 1 3 3 1 1 3 1 1 2 2 3 1 1 2 3 3 2 1 3\n",
       "[1407] 1 1 3 3 3 1 3 3 1 2 1 1 3 2 1 2 3 2 3 1 1 3 1 3 2 1 3 2 3 1 3 1 2 3 3 3 1\n",
       "[1444] 1 3 3 1 3 3 3 3 1 3 3 3 1 3 3 1 3 1 1 3 1 1 3 3 3 3 3 3 3 1 3 3 1 2 3 3 3\n",
       "[1481] 1 1 3 1 1 3 3 3 1 3 1 1 1 2 3 3 3 3 1 1 1 3 3 3 3 3 3 1 1 1 1 3 1 3 1 3 3\n",
       "[1518] 2 3 1 1 2 3 1 1 1 1 1 1 3 1 1 1 3 1 1 3 1 3 3 3 1 3 1 1 3 1 2 1 1 1 3 1 1\n",
       "[1555] 3 1 3 1 2 1 1 3 3 3 3 3 2 1 1 1 3 3 1 1 3 1 3 3 1 3 1 3 3 3 3 3 1 1 1 1 3\n",
       "[1592] 2 3 2 1 3 3 1 3 3 1 3 1 1 3 3 3 3 3 1 3 3 1 3 1 3 3 1 1 1 1 3 2 1 3 1 3 2\n",
       "[1629] 3 3 3 1 1 1 1 3 1 1 3 3 1 3 1 2 1 3 3 1 3 3 3 1 3 1 1 3 3 1 1 1 1 3 3 1 1\n",
       "[1666] 3 3 3 1 1 1 3 3 1 1 1 1 3 2 1 2 3 3 1 3 1 3 3 1 1 1 1 1 1 3 1 2 3 1 1 1 2\n",
       "[1703] 1 1 3 1 1 3 3 3 1 2 1 1 3 3 1 1 1 3 3 3 3 1 3 3 1 1 1 3 3 1 1 1 3 3 3 1 3\n",
       "[1740] 1 3 1 1 3 3 3 1 1 1 1 3 1 1 1 3 3 3 3 1 3 1 1 1 1 2 1 3 3 3 3 3 1 1 1 3 1\n",
       "[1777] 3 1 3 3 3 1 3 3 1 1 3 2 3 3 3 3 1 3 1 1 3 1 1 3 3 1 1 1 3 1 2 3 1 3 1 3 3\n",
       "[1814] 1 1 3 1 2 1 1 3 1 1 1 1 1 3 3 3 1 3 2 2 3 1 3 1 3 1 3 1 1 3 3 3 2 3 3 2 3\n",
       "[1851] 3 3 1 3 1 2 3 3 3 3 1 3 1 1 1 1 3 1 1 2 3 1 1 1 1 3 3 1 1 3 1 1 3 1 1 1 3\n",
       "[1888] 1 3 1 3 3 3 3 3 3 1 3 3 1 3 3 3 1 3 3 3 1 3 1 1 3 3 1 1 1 2 3 1 1 1 3 1 3\n",
       "[1925] 2 1 3 3 3 3 3 1 1 3 3 1 1 1 1 3 1 3 3 1 3 3 3 1 3 3 1 3 3 3 2 1 1 3 3 1 1\n",
       "[1962] 3 3 1 3 1 1 3 3 3 1 3 3 1 1 3 3 3 1 1 3 1 3 1 3 3 1 1 3 1 1 1 3 1 3 1 3 3\n",
       "[1999] 3 3 3\n",
       "\n",
       "Within cluster sum of squares by cluster:\n",
       "[1]  49.46336  12.99751 197.65088\n",
       " (between_SS / total_SS =  70.0 %)\n",
       "\n",
       "Available components:\n",
       "\n",
       "[1] \"cluster\"      \"centers\"      \"totss\"        \"withinss\"     \"tot.withinss\"\n",
       "[6] \"betweenss\"    \"size\"         \"iter\"         \"ifault\"      "
      ]
     },
     "metadata": {},
     "output_type": "display_data"
    }
   ],
   "source": [
    "k<-kmeans(new_data,3)\n",
    "k"
   ]
  },
  {
   "cell_type": "markdown",
   "metadata": {},
   "source": [
    "K=5"
   ]
  },
  {
   "cell_type": "code",
   "execution_count": 90,
   "metadata": {
    "collapsed": false
   },
   "outputs": [
    {
     "data": {
      "text/plain": [
       "K-means clustering with 5 clusters of sizes 839, 132, 472, 173, 385\n",
       "\n",
       "Cluster means:\n",
       "  sex       age        inc     eminuse   device1a\n",
       "1   1 0.4179579 0.03952713 0.019815256 0.05217852\n",
       "2   0 0.4916760 0.99628942 0.029356061 0.05218855\n",
       "3   0 0.5571249 0.04654531 0.029396186 0.04943503\n",
       "4   1 0.5654749 0.99593016 0.028179191 0.06615286\n",
       "5   0 0.1720378 0.04243308 0.007792208 0.01414141\n",
       "\n",
       "Clustering vector:\n",
       "   [1] 4 1 1 1 1 1 2 3 3 3 4 4 3 1 4 1 3 3 4 3 1 3 1 3 3 1 1 1 1 1 1 1 5 5 1 1 1\n",
       "  [38] 3 1 3 1 1 1 1 3 2 3 4 3 1 1 3 1 4 1 1 3 1 1 1 1 4 3 3 5 1 1 3 1 1 1 1 3 2\n",
       "  [75] 2 1 3 4 1 1 4 3 1 1 3 4 5 3 3 3 1 3 1 1 4 3 3 1 1 3 1 4 1 3 1 2 1 3 3 4 1\n",
       " [112] 1 1 4 1 2 5 1 2 1 3 3 1 4 4 3 1 4 2 3 1 3 3 1 2 3 1 4 4 1 1 1 3 4 3 1 1 1\n",
       " [149] 2 3 1 3 4 4 3 3 1 1 3 1 3 3 1 1 1 4 1 1 1 1 1 1 3 1 2 4 2 1 2 3 1 4 1 1 5\n",
       " [186] 2 2 4 4 2 1 3 1 3 2 1 2 1 3 1 4 3 1 2 1 1 4 3 1 4 3 1 3 1 1 3 1 3 3 1 3 1\n",
       " [223] 2 1 3 3 2 3 1 1 3 1 5 2 1 1 1 3 1 2 1 1 1 3 2 1 1 1 4 3 1 3 1 3 1 2 2 3 3\n",
       " [260] 1 3 2 3 1 3 1 1 1 1 4 3 1 3 1 3 3 3 3 4 3 2 3 1 1 1 1 4 1 1 1 3 1 5 5 1 1\n",
       " [297] 1 5 3 1 1 1 3 2 5 1 1 1 4 1 2 1 1 1 3 2 1 1 1 2 3 3 5 3 3 4 5 3 1 1 3 1 1\n",
       " [334] 2 5 4 3 3 1 4 3 1 2 1 1 1 1 4 1 4 3 3 3 1 3 2 1 1 4 3 3 1 3 1 3 3 1 4 5 1\n",
       " [371] 3 1 3 1 1 4 1 3 1 4 1 1 1 4 4 1 1 3 1 3 4 5 1 1 4 4 1 4 3 1 5 3 4 1 3 1 1\n",
       " [408] 5 2 3 1 3 5 5 1 1 1 3 4 4 3 5 1 5 5 1 1 5 1 4 3 1 2 1 1 5 1 1 1 4 3 3 1 1\n",
       " [445] 4 2 1 1 5 3 2 1 1 5 3 1 1 2 5 3 1 1 3 1 1 1 3 1 4 1 1 1 5 1 1 1 5 1 1 1 1\n",
       " [482] 1 4 5 1 3 1 3 4 1 3 1 1 2 1 3 1 1 1 3 1 4 3 4 1 3 5 1 4 1 1 1 1 1 1 4 3 4\n",
       " [519] 1 4 2 3 1 4 3 4 1 1 1 3 1 3 1 5 1 1 1 2 1 3 4 1 3 4 1 1 2 1 1 3 3 2 3 1 4\n",
       " [556] 4 1 2 4 4 1 1 1 3 1 1 3 3 3 3 3 5 3 1 1 3 1 4 3 1 1 3 3 4 3 4 4 3 5 1 1 1\n",
       " [593] 1 1 1 1 1 3 2 3 1 2 1 1 1 1 1 1 5 3 5 1 1 3 1 4 3 5 3 5 1 3 4 3 1 4 1 3 1\n",
       " [630] 2 1 1 1 1 4 1 1 1 1 3 4 1 1 3 3 1 1 1 1 3 1 5 1 4 5 1 1 1 1 1 1 4 1 1 3 3\n",
       " [667] 3 1 3 1 5 1 5 1 1 1 1 3 3 3 3 2 4 3 2 1 1 1 3 3 5 1 1 1 3 4 3 1 1 3 1 3 5\n",
       " [704] 3 5 1 1 1 5 1 3 1 3 1 5 5 5 3 1 2 3 3 5 5 5 3 5 3 3 1 5 5 5 5 5 1 3 3 3 1\n",
       " [741] 1 1 4 3 3 3 5 5 1 1 5 3 3 3 4 3 1 2 4 1 1 2 1 1 1 1 1 1 5 5 5 1 5 1 1 3 5\n",
       " [778] 5 5 1 1 1 5 3 4 5 5 5 1 3 5 3 3 5 3 5 1 5 5 1 5 3 1 3 1 1 4 5 5 5 5 1 3 2\n",
       " [815] 2 1 1 1 2 1 3 5 1 4 5 1 5 4 3 5 2 1 1 5 1 1 3 3 1 1 1 5 3 3 5 5 1 2 4 5 3\n",
       " [852] 4 5 1 5 2 1 3 5 5 5 5 1 1 1 3 1 3 3 3 1 5 5 2 1 2 3 5 1 1 1 4 5 1 5 5 5 1\n",
       " [889] 3 3 1 1 4 3 5 1 1 3 2 5 1 5 5 5 3 1 1 3 1 5 3 1 3 5 3 3 1 1 1 4 1 5 1 1 1\n",
       " [926] 1 2 5 2 5 1 5 5 1 3 3 1 3 1 4 5 5 4 5 4 3 5 5 1 2 1 1 1 1 3 5 5 3 2 1 1 5\n",
       " [963] 1 1 5 1 2 3 2 1 1 4 1 5 5 3 2 1 3 1 1 5 5 3 5 4 5 5 3 3 1 1 5 5 3 1 4 4 3\n",
       "[1000] 5 4 5 1 1 5 5 1 1 1 3 3 1 3 5 1 5 1 5 3 3 5 3 2 1 1 1 1 3 3 5 1 1 5 1 1 2\n",
       "[1037] 5 1 5 1 1 5 4 1 1 5 5 5 1 5 5 5 5 5 4 2 1 1 1 1 3 1 1 5 3 2 3 3 3 2 1 3 1\n",
       "[1074] 1 1 3 3 5 1 5 1 1 3 1 1 3 3 1 5 2 1 1 2 3 1 1 1 3 1 3 3 5 3 5 5 1 3 3 1 5\n",
       "[1111] 5 3 5 1 3 3 1 3 1 4 5 1 1 1 5 5 5 1 5 4 3 5 1 5 4 1 5 3 1 1 1 1 1 4 1 1 4\n",
       "[1148] 3 1 5 5 3 1 1 1 3 2 3 1 3 2 5 5 1 1 5 1 1 5 1 5 5 1 3 5 3 2 3 5 1 1 5 4 2\n",
       "[1185] 3 5 3 1 5 5 4 1 1 1 5 1 5 5 5 5 5 3 5 1 1 4 1 1 1 1 3 1 1 1 5 1 5 3 3 3 3\n",
       "[1222] 5 3 3 1 5 1 1 3 4 5 2 1 5 3 3 5 1 1 1 5 3 4 5 5 1 5 3 2 5 5 3 1 3 1 4 3 4\n",
       "[1259] 1 4 1 3 1 3 3 3 5 3 1 2 1 5 5 1 1 5 5 5 2 5 1 1 3 1 3 5 1 1 5 5 3 3 3 1 5\n",
       "[1296] 5 4 2 5 3 5 5 2 4 5 3 1 5 1 1 3 5 1 1 4 1 1 1 4 3 5 2 1 3 1 3 1 3 5 1 1 1\n",
       "[1333] 1 1 1 1 4 3 1 1 1 3 1 3 5 5 1 3 1 5 1 3 1 5 3 1 1 2 1 5 1 5 1 1 1 5 2 5 1\n",
       "[1370] 4 2 5 5 5 5 5 1 1 3 3 5 3 3 3 4 1 5 5 4 1 5 3 1 5 5 2 2 1 5 3 2 1 1 2 3 1\n",
       "[1407] 3 3 1 1 1 5 1 1 5 2 3 5 4 2 3 2 1 2 1 5 5 1 5 1 2 5 1 2 1 3 1 5 2 1 1 1 5\n",
       "[1444] 3 1 1 5 1 1 1 1 5 1 1 1 5 1 1 5 4 3 3 1 5 3 1 1 1 1 1 1 4 5 1 1 5 2 1 1 1\n",
       "[1481] 3 5 1 3 3 4 1 4 5 1 3 5 3 2 1 1 1 1 3 3 3 1 1 1 4 4 1 3 5 3 3 1 5 1 3 4 1\n",
       "[1518] 2 4 5 3 2 1 5 5 3 3 3 5 1 5 5 5 1 3 5 1 5 1 1 1 5 4 3 3 1 5 2 3 3 3 1 5 5\n",
       "[1555] 1 3 4 3 2 3 5 1 1 1 1 1 2 5 3 5 1 1 3 5 4 5 1 1 3 1 5 1 4 1 1 1 5 5 3 3 1\n",
       "[1592] 2 1 2 3 1 1 5 1 1 3 1 5 3 4 4 1 4 1 5 1 1 5 1 5 1 4 3 5 3 5 1 2 3 1 3 1 2\n",
       "[1629] 1 1 1 5 3 5 5 1 5 5 1 1 5 1 3 2 3 1 1 3 1 1 4 3 1 3 3 1 1 5 3 5 5 1 1 3 5\n",
       "[1666] 1 1 4 5 3 5 1 1 3 5 3 5 4 2 3 2 1 1 5 1 3 4 1 3 3 5 3 3 3 1 5 2 1 3 5 3 2\n",
       "[1703] 5 5 1 3 3 1 1 1 3 2 5 5 1 1 3 3 5 1 1 4 1 5 1 1 5 3 5 1 4 5 5 5 1 1 1 3 1\n",
       "[1740] 5 1 3 5 1 1 4 5 3 3 3 4 5 3 3 1 1 4 1 3 1 3 5 5 5 2 5 4 1 4 1 1 5 3 5 1 3\n",
       "[1777] 4 5 1 1 1 3 1 1 5 3 1 2 4 1 1 4 5 1 5 5 1 5 5 1 1 5 5 3 1 5 2 1 3 1 5 1 1\n",
       "[1814] 5 3 1 3 2 3 3 1 3 3 5 3 5 4 1 4 3 1 2 2 1 3 1 3 1 3 1 3 3 1 1 1 2 1 1 2 4\n",
       "[1851] 1 1 5 1 5 2 1 1 4 1 5 1 5 3 5 5 1 5 5 2 4 5 5 5 3 4 1 5 5 1 5 3 1 5 3 5 1\n",
       "[1888] 3 1 3 1 1 1 1 1 1 3 1 1 5 4 4 1 3 1 1 4 3 1 5 3 1 1 5 3 3 2 1 3 3 3 1 5 1\n",
       "[1925] 2 5 1 1 1 1 1 3 3 1 1 3 3 5 3 1 5 1 1 3 1 1 1 3 4 1 5 1 1 1 2 3 5 1 1 5 5\n",
       "[1962] 1 1 3 1 5 5 1 1 1 5 1 1 5 3 1 4 1 5 3 1 5 4 5 1 1 3 3 1 3 3 3 1 3 1 5 1 1\n",
       "[1999] 1 1 1\n",
       "\n",
       "Within cluster sum of squares by cluster:\n",
       "[1] 50.863129 12.997513 12.166114 12.435945  5.486419\n",
       " (between_SS / total_SS =  89.2 %)\n",
       "\n",
       "Available components:\n",
       "\n",
       "[1] \"cluster\"      \"centers\"      \"totss\"        \"withinss\"     \"tot.withinss\"\n",
       "[6] \"betweenss\"    \"size\"         \"iter\"         \"ifault\"      "
      ]
     },
     "metadata": {},
     "output_type": "display_data"
    }
   ],
   "source": [
    "k<-kmeans(new_data,5)\n",
    "k"
   ]
  },
  {
   "cell_type": "markdown",
   "metadata": {},
   "source": [
    "##### Observations:"
   ]
  },
  {
   "cell_type": "markdown",
   "metadata": {},
   "source": [
    "1. From my observations, I got 3 clusters of size  857, 132, 1012 when k=3. Thus for k=3 there was one cluster whose size was much smaller than the other two clusters, in this case it was cluster 2 of size 132.\n",
    "\n",
    "2. For k=5, I got clusters of sizes 839, 132, 472, 173, 385. Here I got two clusters of very small sizes (132,173). Thus the data was not uniformly clustered.\n",
    "\n",
    "3. The between_SS/total_SS ration gave me an accuracy of 70.00 % for k=3. This meant that the the distance between the cluster elements was small, and between elements belonging to other clusters were large. Thus this was a good fit. Clustering faired up pretty well.\n",
    "\n",
    "4. The between_SS/total_SS ration gave me an accuracy of 89.20 % for k=5. This was even better than for k=3. Thus k=5 gave me better results for clustering than k=3."
   ]
  },
  {
   "cell_type": "markdown",
   "metadata": {},
   "source": [
    "##### For understanding the best value of k, I will plot the average totalSS vs k-value graph just as we did in k-means analysis vignette."
   ]
  },
  {
   "cell_type": "code",
   "execution_count": 94,
   "metadata": {
    "collapsed": false
   },
   "outputs": [
    {
     "data": {
      "image/png": "[encoded data removed]",
      "text/plain": [
       "Plot with title “Total Within SS by Various K”"
      ]
     },
     "metadata": {},
     "output_type": "display_data"
    }
   ],
   "source": [
    "rng<-2:20 #K from 2 to 20\n",
    "tries <-100 #Run the K Means algorithm 100 times\n",
    "avg.totw.ss <-integer(length(rng)) #Set up an empty vector to hold all of points\n",
    "for(v in rng){ # For each value of the range variable\n",
    " v.totw.ss <-integer(tries) #Set up an empty vector to hold the 100 tries\n",
    " for(i in 1:tries){\n",
    " k.temp <-kmeans(new_data,centers=v) #Run kmeans\n",
    " v.totw.ss[i] <-k.temp$tot.withinss#Store the total withinss\n",
    " }\n",
    " avg.totw.ss[v-1] <-mean(v.totw.ss) #Average the 100 total withinss\n",
    "}\n",
    "plot(rng,avg.totw.ss,type=\"b\", main=\"Total Within SS by Various K\",\n",
    " ylab=\"Average Total Within Sum of Squares\",\n",
    " xlab=\"Value of K\")"
   ]
  },
  {
   "cell_type": "markdown",
   "metadata": {},
   "source": [
    "##### Observation\n",
    "\n",
    "From the above observation we can conclude that the value of AVG total SS doesn't decrease significantly after k=5 or even we can consider k=6. Hence the ideal value for k for the above data will be k=5 or k=6."
   ]
  },
  {
   "cell_type": "code",
   "execution_count": null,
   "metadata": {
    "collapsed": true
   },
   "outputs": [],
   "source": []
  }
 ],
 "metadata": {
  "kernelspec": {
   "display_name": "R",
   "language": "R",
   "name": "ir"
  },
  "language_info": {
   "codemirror_mode": "r",
   "file_extension": ".r",
   "mimetype": "text/x-r-source",
   "name": "R",
   "pygments_lexer": "r",
   "version": "3.3.2"
  }
 },
 "nbformat": 4,
 "nbformat_minor": 2
}
