{
 "cells": [
  {
   "cell_type": "markdown",
   "metadata": {},
   "source": [
    "Lab2 Activity 2 Part2\n",
    "-----------------"
   ]
  },
  {
   "cell_type": "markdown",
   "metadata": {},
   "source": [
    "##### Using dplyr"
   ]
  },
  {
   "cell_type": "code",
   "execution_count": 6,
   "metadata": {
    "collapsed": false
   },
   "outputs": [
    {
     "name": "stderr",
     "output_type": "stream",
     "text": [
      "\n",
      "Attaching package: ‘dplyr’\n",
      "\n",
      "The following objects are masked from ‘package:stats’:\n",
      "\n",
      "    filter, lag\n",
      "\n",
      "The following objects are masked from ‘package:base’:\n",
      "\n",
      "    intersect, setdiff, setequal, union\n",
      "\n"
     ]
    }
   ],
   "source": [
    "library(dplyr)"
   ]
  },
  {
   "cell_type": "markdown",
   "metadata": {},
   "source": [
    "#### Reading Player.csv"
   ]
  },
  {
   "cell_type": "code",
   "execution_count": 3,
   "metadata": {
    "collapsed": false
   },
   "outputs": [
    {
     "data": {
      "text/html": [
       "<table>\n",
       "<thead><tr><th scope=col>X</th><th scope=col>player_name</th><th scope=col>overall_rating</th><th scope=col>gk_rating</th><th scope=col>Number_of_appearances</th><th scope=col>Number_of_Leagues</th></tr></thead>\n",
       "<tbody>\n",
       "\t<tr><td> 1                    </td><td>Aaron Appindangoye    </td><td>67                    </td><td> 43                   </td><td>  8                   </td><td>1                     </td></tr>\n",
       "\t<tr><td> 2                    </td><td>Aaron Cresswell       </td><td>74                    </td><td> 51                   </td><td> 75                   </td><td>1                     </td></tr>\n",
       "\t<tr><td> 3                    </td><td>Aaron Doran           </td><td>71                    </td><td> 56                   </td><td>104                   </td><td>1                     </td></tr>\n",
       "\t<tr><td> 4                    </td><td>Aaron Galindo         </td><td>75                    </td><td>111                   </td><td> 10                   </td><td>1                     </td></tr>\n",
       "\t<tr><td> 5                    </td><td>Aaron Hughes          </td><td>78                    </td><td>129                   </td><td>162                   </td><td>1                     </td></tr>\n",
       "\t<tr><td> 6                    </td><td>Aaron Hunt            </td><td>79                    </td><td> 60                   </td><td>158                   </td><td>1                     </td></tr>\n",
       "\t<tr><td> 7                    </td><td>Aaron Kuhl            </td><td>61                    </td><td> 64                   </td><td>  5                   </td><td>1                     </td></tr>\n",
       "\t<tr><td> 8                    </td><td>Aaron Lennon          </td><td>84                    </td><td>146                   </td><td>181                   </td><td>1                     </td></tr>\n",
       "\t<tr><td> 9                    </td><td>Aaron Lennox          </td><td>48                    </td><td>237                   </td><td>  1                   </td><td>1                     </td></tr>\n",
       "\t<tr><td>10                    </td><td>Aaron Meijers         </td><td>69                    </td><td> 54                   </td><td>167                   </td><td>1                     </td></tr>\n",
       "\t<tr><td>11                    </td><td>Aaron Mokoena         </td><td>75                    </td><td>154                   </td><td> 30                   </td><td>1                     </td></tr>\n",
       "\t<tr><td>12                    </td><td>Aaron Mooy            </td><td>75                    </td><td> 54                   </td><td> 10                   </td><td>1                     </td></tr>\n",
       "\t<tr><td>13                    </td><td>Aaron Muirhead        </td><td>63                    </td><td> 38                   </td><td> 21                   </td><td>1                     </td></tr>\n",
       "\t<tr><td>14                    </td><td>Aaron Niguez          </td><td>71                    </td><td> 61                   </td><td> 27                   </td><td>2                     </td></tr>\n",
       "\t<tr><td>15                    </td><td>Aaron Ramsey          </td><td>83                    </td><td> 40                   </td><td>133                   </td><td>1                     </td></tr>\n",
       "\t<tr><td>16                    </td><td>Aaron Splaine         </td><td>55                    </td><td> 55                   </td><td>  2                   </td><td>1                     </td></tr>\n",
       "\t<tr><td>17                    </td><td>Aaron Taylor-Sinclair </td><td>65                    </td><td> 49                   </td><td> 36                   </td><td>1                     </td></tr>\n",
       "\t<tr><td>18                    </td><td>Aaron Wilbraham       </td><td>67                    </td><td> 54                   </td><td>  3                   </td><td>1                     </td></tr>\n",
       "\t<tr><td>19                    </td><td>Aatif Chahechouhe     </td><td>77                    </td><td> 50                   </td><td>  1                   </td><td>1                     </td></tr>\n",
       "\t<tr><td>20                    </td><td>Abasse Ba             </td><td>68                    </td><td>111                   </td><td> 16                   </td><td>1                     </td></tr>\n",
       "\t<tr><td>21                    </td><td>Abdelaziz Barrada     </td><td>76                    </td><td> 42                   </td><td> 75                   </td><td>2                     </td></tr>\n",
       "\t<tr><td>22                    </td><td>Abdelfettah Boukhriss </td><td>64                    </td><td> 51                   </td><td>  1                   </td><td>1                     </td></tr>\n",
       "\t<tr><td>23                    </td><td>Abdelhamid El Kaoutari</td><td>73                    </td><td> 47                   </td><td>144                   </td><td>2                     </td></tr>\n",
       "\t<tr><td>24                    </td><td>Abdelkader Ghezzal    </td><td>73                    </td><td> 40                   </td><td> 90                   </td><td>2                     </td></tr>\n",
       "\t<tr><td>25                    </td><td>Abdellah Zoubir       </td><td>59                    </td><td> 62                   </td><td>  3                   </td><td>1                     </td></tr>\n",
       "\t<tr><td>26                    </td><td>Abdelmajid Oulmers    </td><td>70                    </td><td>129                   </td><td> 32                   </td><td>1                     </td></tr>\n",
       "\t<tr><td>27                    </td><td>Abdelmalek Cherrad    </td><td>62                    </td><td> 49                   </td><td>  1                   </td><td>1                     </td></tr>\n",
       "\t<tr><td>28                    </td><td>Abdelmalek El Hasnaoui</td><td>63                    </td><td> 52                   </td><td>  5                   </td><td>1                     </td></tr>\n",
       "\t<tr><td>29                    </td><td>Abdelouahed Chakhsi   </td><td>56                    </td><td> 46                   </td><td> 74                   </td><td>1                     </td></tr>\n",
       "\t<tr><td>30                    </td><td>Abderrazak Jadid      </td><td>71                    </td><td> 59                   </td><td> 29                   </td><td>2                     </td></tr>\n",
       "\t<tr><td>⋮</td><td>⋮</td><td>⋮</td><td>⋮</td><td>⋮</td><td>⋮</td></tr>\n",
       "\t<tr><td>10819                      </td><td>Zhi-Gin Lam                </td><td>68                         </td><td> 58                        </td><td> 15                        </td><td>1                          </td></tr>\n",
       "\t<tr><td>10820                      </td><td>Zie Diabate                </td><td>65                         </td><td> 59                        </td><td> 15                        </td><td>2                          </td></tr>\n",
       "\t<tr><td>10821                      </td><td>Ziggy Gordon               </td><td>64                         </td><td> 51                        </td><td> 64                        </td><td>1                          </td></tr>\n",
       "\t<tr><td>10822                      </td><td>Ziguy Badibanga            </td><td>64                         </td><td> 50                        </td><td> 22                        </td><td>2                          </td></tr>\n",
       "\t<tr><td>10823                      </td><td>Zinedine Machach           </td><td>67                         </td><td> 52                        </td><td> 10                        </td><td>1                          </td></tr>\n",
       "\t<tr><td>10824                      </td><td>Zinho Gano                 </td><td>67                         </td><td> 53                        </td><td> 30                        </td><td>1                          </td></tr>\n",
       "\t<tr><td>10825                      </td><td>Ziri Hammar                </td><td>65                         </td><td> 60                        </td><td>  4                        </td><td>1                          </td></tr>\n",
       "\t<tr><td>10826                      </td><td>Zizo                       </td><td>63                         </td><td> 43                        </td><td> 28                        </td><td>1                          </td></tr>\n",
       "\t<tr><td>10827                      </td><td>Zlatan Bajramovic          </td><td>78                         </td><td>127                        </td><td>  7                        </td><td>1                          </td></tr>\n",
       "\t<tr><td>10828                      </td><td>Zlatan Ibrahimovic         </td><td>90                         </td><td> 59                        </td><td>235                        </td><td>3                          </td></tr>\n",
       "\t<tr><td>10829                      </td><td>Zlatan Ljubijankic         </td><td>72                         </td><td> 52                        </td><td> 65                        </td><td>1                          </td></tr>\n",
       "\t<tr><td>10830                      </td><td>Zlatko Dedic               </td><td>71                         </td><td> 60                        </td><td> 15                        </td><td>1                          </td></tr>\n",
       "\t<tr><td>10831                      </td><td>Zlatko Janjic              </td><td>66                         </td><td> 59                        </td><td>  1                        </td><td>1                          </td></tr>\n",
       "\t<tr><td>10832                      </td><td>Zlatko Junuzovic           </td><td>79                         </td><td> 58                        </td><td>127                        </td><td>1                          </td></tr>\n",
       "\t<tr><td>10833                      </td><td>Zola Matumona              </td><td>68                         </td><td> 50                        </td><td> 43                        </td><td>1                          </td></tr>\n",
       "\t<tr><td>10834                      </td><td>Zoltan Gera                </td><td>77                         </td><td>147                        </td><td> 71                        </td><td>1                          </td></tr>\n",
       "\t<tr><td>10835                      </td><td>Zoltan Stieber             </td><td>73                         </td><td> 44                        </td><td> 35                        </td><td>1                          </td></tr>\n",
       "\t<tr><td>10836                      </td><td>Zoltan Szelesi             </td><td>70                         </td><td>135                        </td><td> 11                        </td><td>1                          </td></tr>\n",
       "\t<tr><td>10837                      </td><td>Zoran Josipovic            </td><td>60                         </td><td> 46                        </td><td>  1                        </td><td>1                          </td></tr>\n",
       "\t<tr><td>10838                      </td><td>Zoran Rendulic             </td><td>66                         </td><td> 57                        </td><td>  6                        </td><td>1                          </td></tr>\n",
       "\t<tr><td>10839                      </td><td>Zoran Tosic                </td><td>80                         </td><td> 56                        </td><td>  9                        </td><td>1                          </td></tr>\n",
       "\t<tr><td>10840                      </td><td>Zouhaier Dhaouadhi         </td><td>64                         </td><td> 54                        </td><td>  1                        </td><td>1                          </td></tr>\n",
       "\t<tr><td>10841                      </td><td>Zouhair Feddal             </td><td>75                         </td><td> 57                        </td><td> 47                        </td><td>2                          </td></tr>\n",
       "\t<tr><td>10842                      </td><td>Zoumana Camara             </td><td>77                         </td><td>119                        </td><td>102                        </td><td>1                          </td></tr>\n",
       "\t<tr><td>10843                      </td><td>Zsolt Laczko               </td><td>68                         </td><td> 35                        </td><td>  7                        </td><td>1                          </td></tr>\n",
       "\t<tr><td>10844                      </td><td>Zsolt Low                  </td><td>68                         </td><td> 45                        </td><td> 15                        </td><td>1                          </td></tr>\n",
       "\t<tr><td>10845                      </td><td>Zurab Khizanishvili        </td><td>78                         </td><td> 89                        </td><td>  3                        </td><td>1                          </td></tr>\n",
       "\t<tr><td>10846                      </td><td>Zvjezdan Misimovic         </td><td>83                         </td><td>153                        </td><td> 64                        </td><td>1                          </td></tr>\n",
       "\t<tr><td>10847                      </td><td>de Oliveira Cleber Monteiro</td><td>69                         </td><td> 71                        </td><td> 64                        </td><td>1                          </td></tr>\n",
       "\t<tr><td>10848                      </td><td>dos Santos Fabio Junior    </td><td>70                         </td><td> 55                        </td><td> 28                        </td><td>1                          </td></tr>\n",
       "</tbody>\n",
       "</table>\n"
      ],
      "text/latex": [
       "\\begin{tabular}{r|llllll}\n",
       " X & player\\_name & overall\\_rating & gk\\_rating & Number\\_of\\_appearances & Number\\_of\\_Leagues\\\\\n",
       "\\hline\n",
       "\t  1                     & Aaron Appindangoye     & 67                     &  43                    &   8                    & 1                     \\\\\n",
       "\t  2                     & Aaron Cresswell        & 74                     &  51                    &  75                    & 1                     \\\\\n",
       "\t  3                     & Aaron Doran            & 71                     &  56                    & 104                    & 1                     \\\\\n",
       "\t  4                     & Aaron Galindo          & 75                     & 111                    &  10                    & 1                     \\\\\n",
       "\t  5                     & Aaron Hughes           & 78                     & 129                    & 162                    & 1                     \\\\\n",
       "\t  6                     & Aaron Hunt             & 79                     &  60                    & 158                    & 1                     \\\\\n",
       "\t  7                     & Aaron Kuhl             & 61                     &  64                    &   5                    & 1                     \\\\\n",
       "\t  8                     & Aaron Lennon           & 84                     & 146                    & 181                    & 1                     \\\\\n",
       "\t  9                     & Aaron Lennox           & 48                     & 237                    &   1                    & 1                     \\\\\n",
       "\t 10                     & Aaron Meijers          & 69                     &  54                    & 167                    & 1                     \\\\\n",
       "\t 11                     & Aaron Mokoena          & 75                     & 154                    &  30                    & 1                     \\\\\n",
       "\t 12                     & Aaron Mooy             & 75                     &  54                    &  10                    & 1                     \\\\\n",
       "\t 13                     & Aaron Muirhead         & 63                     &  38                    &  21                    & 1                     \\\\\n",
       "\t 14                     & Aaron Niguez           & 71                     &  61                    &  27                    & 2                     \\\\\n",
       "\t 15                     & Aaron Ramsey           & 83                     &  40                    & 133                    & 1                     \\\\\n",
       "\t 16                     & Aaron Splaine          & 55                     &  55                    &   2                    & 1                     \\\\\n",
       "\t 17                     & Aaron Taylor-Sinclair  & 65                     &  49                    &  36                    & 1                     \\\\\n",
       "\t 18                     & Aaron Wilbraham        & 67                     &  54                    &   3                    & 1                     \\\\\n",
       "\t 19                     & Aatif Chahechouhe      & 77                     &  50                    &   1                    & 1                     \\\\\n",
       "\t 20                     & Abasse Ba              & 68                     & 111                    &  16                    & 1                     \\\\\n",
       "\t 21                     & Abdelaziz Barrada      & 76                     &  42                    &  75                    & 2                     \\\\\n",
       "\t 22                     & Abdelfettah Boukhriss  & 64                     &  51                    &   1                    & 1                     \\\\\n",
       "\t 23                     & Abdelhamid El Kaoutari & 73                     &  47                    & 144                    & 2                     \\\\\n",
       "\t 24                     & Abdelkader Ghezzal     & 73                     &  40                    &  90                    & 2                     \\\\\n",
       "\t 25                     & Abdellah Zoubir        & 59                     &  62                    &   3                    & 1                     \\\\\n",
       "\t 26                     & Abdelmajid Oulmers     & 70                     & 129                    &  32                    & 1                     \\\\\n",
       "\t 27                     & Abdelmalek Cherrad     & 62                     &  49                    &   1                    & 1                     \\\\\n",
       "\t 28                     & Abdelmalek El Hasnaoui & 63                     &  52                    &   5                    & 1                     \\\\\n",
       "\t 29                     & Abdelouahed Chakhsi    & 56                     &  46                    &  74                    & 1                     \\\\\n",
       "\t 30                     & Abderrazak Jadid       & 71                     &  59                    &  29                    & 2                     \\\\\n",
       "\t ⋮ & ⋮ & ⋮ & ⋮ & ⋮ & ⋮\\\\\n",
       "\t 10819                       & Zhi-Gin Lam                 & 68                          &  58                         &  15                         & 1                          \\\\\n",
       "\t 10820                       & Zie Diabate                 & 65                          &  59                         &  15                         & 2                          \\\\\n",
       "\t 10821                       & Ziggy Gordon                & 64                          &  51                         &  64                         & 1                          \\\\\n",
       "\t 10822                       & Ziguy Badibanga             & 64                          &  50                         &  22                         & 2                          \\\\\n",
       "\t 10823                       & Zinedine Machach            & 67                          &  52                         &  10                         & 1                          \\\\\n",
       "\t 10824                       & Zinho Gano                  & 67                          &  53                         &  30                         & 1                          \\\\\n",
       "\t 10825                       & Ziri Hammar                 & 65                          &  60                         &   4                         & 1                          \\\\\n",
       "\t 10826                       & Zizo                        & 63                          &  43                         &  28                         & 1                          \\\\\n",
       "\t 10827                       & Zlatan Bajramovic           & 78                          & 127                         &   7                         & 1                          \\\\\n",
       "\t 10828                       & Zlatan Ibrahimovic          & 90                          &  59                         & 235                         & 3                          \\\\\n",
       "\t 10829                       & Zlatan Ljubijankic          & 72                          &  52                         &  65                         & 1                          \\\\\n",
       "\t 10830                       & Zlatko Dedic                & 71                          &  60                         &  15                         & 1                          \\\\\n",
       "\t 10831                       & Zlatko Janjic               & 66                          &  59                         &   1                         & 1                          \\\\\n",
       "\t 10832                       & Zlatko Junuzovic            & 79                          &  58                         & 127                         & 1                          \\\\\n",
       "\t 10833                       & Zola Matumona               & 68                          &  50                         &  43                         & 1                          \\\\\n",
       "\t 10834                       & Zoltan Gera                 & 77                          & 147                         &  71                         & 1                          \\\\\n",
       "\t 10835                       & Zoltan Stieber              & 73                          &  44                         &  35                         & 1                          \\\\\n",
       "\t 10836                       & Zoltan Szelesi              & 70                          & 135                         &  11                         & 1                          \\\\\n",
       "\t 10837                       & Zoran Josipovic             & 60                          &  46                         &   1                         & 1                          \\\\\n",
       "\t 10838                       & Zoran Rendulic              & 66                          &  57                         &   6                         & 1                          \\\\\n",
       "\t 10839                       & Zoran Tosic                 & 80                          &  56                         &   9                         & 1                          \\\\\n",
       "\t 10840                       & Zouhaier Dhaouadhi          & 64                          &  54                         &   1                         & 1                          \\\\\n",
       "\t 10841                       & Zouhair Feddal              & 75                          &  57                         &  47                         & 2                          \\\\\n",
       "\t 10842                       & Zoumana Camara              & 77                          & 119                         & 102                         & 1                          \\\\\n",
       "\t 10843                       & Zsolt Laczko                & 68                          &  35                         &   7                         & 1                          \\\\\n",
       "\t 10844                       & Zsolt Low                   & 68                          &  45                         &  15                         & 1                          \\\\\n",
       "\t 10845                       & Zurab Khizanishvili         & 78                          &  89                         &   3                         & 1                          \\\\\n",
       "\t 10846                       & Zvjezdan Misimovic          & 83                          & 153                         &  64                         & 1                          \\\\\n",
       "\t 10847                       & de Oliveira Cleber Monteiro & 69                          &  71                         &  64                         & 1                          \\\\\n",
       "\t 10848                       & dos Santos Fabio Junior     & 70                          &  55                         &  28                         & 1                          \\\\\n",
       "\\end{tabular}\n"
      ],
      "text/markdown": [
       "\n",
       "X | player_name | overall_rating | gk_rating | Number_of_appearances | Number_of_Leagues | \n",
       "|---|---|---|---|---|---|---|---|---|---|---|---|---|---|---|---|---|---|---|---|---|---|---|---|---|---|---|---|---|---|---|---|---|---|---|---|---|---|---|---|---|---|---|---|---|---|---|---|---|---|---|---|---|---|---|---|---|---|---|---|---|\n",
       "|  1                     | Aaron Appindangoye     | 67                     |  43                    |   8                    | 1                      | \n",
       "|  2                     | Aaron Cresswell        | 74                     |  51                    |  75                    | 1                      | \n",
       "|  3                     | Aaron Doran            | 71                     |  56                    | 104                    | 1                      | \n",
       "|  4                     | Aaron Galindo          | 75                     | 111                    |  10                    | 1                      | \n",
       "|  5                     | Aaron Hughes           | 78                     | 129                    | 162                    | 1                      | \n",
       "|  6                     | Aaron Hunt             | 79                     |  60                    | 158                    | 1                      | \n",
       "|  7                     | Aaron Kuhl             | 61                     |  64                    |   5                    | 1                      | \n",
       "|  8                     | Aaron Lennon           | 84                     | 146                    | 181                    | 1                      | \n",
       "|  9                     | Aaron Lennox           | 48                     | 237                    |   1                    | 1                      | \n",
       "| 10                     | Aaron Meijers          | 69                     |  54                    | 167                    | 1                      | \n",
       "| 11                     | Aaron Mokoena          | 75                     | 154                    |  30                    | 1                      | \n",
       "| 12                     | Aaron Mooy             | 75                     |  54                    |  10                    | 1                      | \n",
       "| 13                     | Aaron Muirhead         | 63                     |  38                    |  21                    | 1                      | \n",
       "| 14                     | Aaron Niguez           | 71                     |  61                    |  27                    | 2                      | \n",
       "| 15                     | Aaron Ramsey           | 83                     |  40                    | 133                    | 1                      | \n",
       "| 16                     | Aaron Splaine          | 55                     |  55                    |   2                    | 1                      | \n",
       "| 17                     | Aaron Taylor-Sinclair  | 65                     |  49                    |  36                    | 1                      | \n",
       "| 18                     | Aaron Wilbraham        | 67                     |  54                    |   3                    | 1                      | \n",
       "| 19                     | Aatif Chahechouhe      | 77                     |  50                    |   1                    | 1                      | \n",
       "| 20                     | Abasse Ba              | 68                     | 111                    |  16                    | 1                      | \n",
       "| 21                     | Abdelaziz Barrada      | 76                     |  42                    |  75                    | 2                      | \n",
       "| 22                     | Abdelfettah Boukhriss  | 64                     |  51                    |   1                    | 1                      | \n",
       "| 23                     | Abdelhamid El Kaoutari | 73                     |  47                    | 144                    | 2                      | \n",
       "| 24                     | Abdelkader Ghezzal     | 73                     |  40                    |  90                    | 2                      | \n",
       "| 25                     | Abdellah Zoubir        | 59                     |  62                    |   3                    | 1                      | \n",
       "| 26                     | Abdelmajid Oulmers     | 70                     | 129                    |  32                    | 1                      | \n",
       "| 27                     | Abdelmalek Cherrad     | 62                     |  49                    |   1                    | 1                      | \n",
       "| 28                     | Abdelmalek El Hasnaoui | 63                     |  52                    |   5                    | 1                      | \n",
       "| 29                     | Abdelouahed Chakhsi    | 56                     |  46                    |  74                    | 1                      | \n",
       "| 30                     | Abderrazak Jadid       | 71                     |  59                    |  29                    | 2                      | \n",
       "| ⋮ | ⋮ | ⋮ | ⋮ | ⋮ | ⋮ | \n",
       "| 10819                       | Zhi-Gin Lam                 | 68                          |  58                         |  15                         | 1                           | \n",
       "| 10820                       | Zie Diabate                 | 65                          |  59                         |  15                         | 2                           | \n",
       "| 10821                       | Ziggy Gordon                | 64                          |  51                         |  64                         | 1                           | \n",
       "| 10822                       | Ziguy Badibanga             | 64                          |  50                         |  22                         | 2                           | \n",
       "| 10823                       | Zinedine Machach            | 67                          |  52                         |  10                         | 1                           | \n",
       "| 10824                       | Zinho Gano                  | 67                          |  53                         |  30                         | 1                           | \n",
       "| 10825                       | Ziri Hammar                 | 65                          |  60                         |   4                         | 1                           | \n",
       "| 10826                       | Zizo                        | 63                          |  43                         |  28                         | 1                           | \n",
       "| 10827                       | Zlatan Bajramovic           | 78                          | 127                         |   7                         | 1                           | \n",
       "| 10828                       | Zlatan Ibrahimovic          | 90                          |  59                         | 235                         | 3                           | \n",
       "| 10829                       | Zlatan Ljubijankic          | 72                          |  52                         |  65                         | 1                           | \n",
       "| 10830                       | Zlatko Dedic                | 71                          |  60                         |  15                         | 1                           | \n",
       "| 10831                       | Zlatko Janjic               | 66                          |  59                         |   1                         | 1                           | \n",
       "| 10832                       | Zlatko Junuzovic            | 79                          |  58                         | 127                         | 1                           | \n",
       "| 10833                       | Zola Matumona               | 68                          |  50                         |  43                         | 1                           | \n",
       "| 10834                       | Zoltan Gera                 | 77                          | 147                         |  71                         | 1                           | \n",
       "| 10835                       | Zoltan Stieber              | 73                          |  44                         |  35                         | 1                           | \n",
       "| 10836                       | Zoltan Szelesi              | 70                          | 135                         |  11                         | 1                           | \n",
       "| 10837                       | Zoran Josipovic             | 60                          |  46                         |   1                         | 1                           | \n",
       "| 10838                       | Zoran Rendulic              | 66                          |  57                         |   6                         | 1                           | \n",
       "| 10839                       | Zoran Tosic                 | 80                          |  56                         |   9                         | 1                           | \n",
       "| 10840                       | Zouhaier Dhaouadhi          | 64                          |  54                         |   1                         | 1                           | \n",
       "| 10841                       | Zouhair Feddal              | 75                          |  57                         |  47                         | 2                           | \n",
       "| 10842                       | Zoumana Camara              | 77                          | 119                         | 102                         | 1                           | \n",
       "| 10843                       | Zsolt Laczko                | 68                          |  35                         |   7                         | 1                           | \n",
       "| 10844                       | Zsolt Low                   | 68                          |  45                         |  15                         | 1                           | \n",
       "| 10845                       | Zurab Khizanishvili         | 78                          |  89                         |   3                         | 1                           | \n",
       "| 10846                       | Zvjezdan Misimovic          | 83                          | 153                         |  64                         | 1                           | \n",
       "| 10847                       | de Oliveira Cleber Monteiro | 69                          |  71                         |  64                         | 1                           | \n",
       "| 10848                       | dos Santos Fabio Junior     | 70                          |  55                         |  28                         | 1                           | \n",
       "\n",
       "\n"
      ],
      "text/plain": [
       "      X     player_name                 overall_rating gk_rating\n",
       "1      1    Aaron Appindangoye          67              43      \n",
       "2      2    Aaron Cresswell             74              51      \n",
       "3      3    Aaron Doran                 71              56      \n",
       "4      4    Aaron Galindo               75             111      \n",
       "5      5    Aaron Hughes                78             129      \n",
       "6      6    Aaron Hunt                  79              60      \n",
       "7      7    Aaron Kuhl                  61              64      \n",
       "8      8    Aaron Lennon                84             146      \n",
       "9      9    Aaron Lennox                48             237      \n",
       "10    10    Aaron Meijers               69              54      \n",
       "11    11    Aaron Mokoena               75             154      \n",
       "12    12    Aaron Mooy                  75              54      \n",
       "13    13    Aaron Muirhead              63              38      \n",
       "14    14    Aaron Niguez                71              61      \n",
       "15    15    Aaron Ramsey                83              40      \n",
       "16    16    Aaron Splaine               55              55      \n",
       "17    17    Aaron Taylor-Sinclair       65              49      \n",
       "18    18    Aaron Wilbraham             67              54      \n",
       "19    19    Aatif Chahechouhe           77              50      \n",
       "20    20    Abasse Ba                   68             111      \n",
       "21    21    Abdelaziz Barrada           76              42      \n",
       "22    22    Abdelfettah Boukhriss       64              51      \n",
       "23    23    Abdelhamid El Kaoutari      73              47      \n",
       "24    24    Abdelkader Ghezzal          73              40      \n",
       "25    25    Abdellah Zoubir             59              62      \n",
       "26    26    Abdelmajid Oulmers          70             129      \n",
       "27    27    Abdelmalek Cherrad          62              49      \n",
       "28    28    Abdelmalek El Hasnaoui      63              52      \n",
       "29    29    Abdelouahed Chakhsi         56              46      \n",
       "30    30    Abderrazak Jadid            71              59      \n",
       "⋮     ⋮     ⋮                           ⋮              ⋮        \n",
       "10819 10819 Zhi-Gin Lam                 68              58      \n",
       "10820 10820 Zie Diabate                 65              59      \n",
       "10821 10821 Ziggy Gordon                64              51      \n",
       "10822 10822 Ziguy Badibanga             64              50      \n",
       "10823 10823 Zinedine Machach            67              52      \n",
       "10824 10824 Zinho Gano                  67              53      \n",
       "10825 10825 Ziri Hammar                 65              60      \n",
       "10826 10826 Zizo                        63              43      \n",
       "10827 10827 Zlatan Bajramovic           78             127      \n",
       "10828 10828 Zlatan Ibrahimovic          90              59      \n",
       "10829 10829 Zlatan Ljubijankic          72              52      \n",
       "10830 10830 Zlatko Dedic                71              60      \n",
       "10831 10831 Zlatko Janjic               66              59      \n",
       "10832 10832 Zlatko Junuzovic            79              58      \n",
       "10833 10833 Zola Matumona               68              50      \n",
       "10834 10834 Zoltan Gera                 77             147      \n",
       "10835 10835 Zoltan Stieber              73              44      \n",
       "10836 10836 Zoltan Szelesi              70             135      \n",
       "10837 10837 Zoran Josipovic             60              46      \n",
       "10838 10838 Zoran Rendulic              66              57      \n",
       "10839 10839 Zoran Tosic                 80              56      \n",
       "10840 10840 Zouhaier Dhaouadhi          64              54      \n",
       "10841 10841 Zouhair Feddal              75              57      \n",
       "10842 10842 Zoumana Camara              77             119      \n",
       "10843 10843 Zsolt Laczko                68              35      \n",
       "10844 10844 Zsolt Low                   68              45      \n",
       "10845 10845 Zurab Khizanishvili         78              89      \n",
       "10846 10846 Zvjezdan Misimovic          83             153      \n",
       "10847 10847 de Oliveira Cleber Monteiro 69              71      \n",
       "10848 10848 dos Santos Fabio Junior     70              55      \n",
       "      Number_of_appearances Number_of_Leagues\n",
       "1       8                   1                \n",
       "2      75                   1                \n",
       "3     104                   1                \n",
       "4      10                   1                \n",
       "5     162                   1                \n",
       "6     158                   1                \n",
       "7       5                   1                \n",
       "8     181                   1                \n",
       "9       1                   1                \n",
       "10    167                   1                \n",
       "11     30                   1                \n",
       "12     10                   1                \n",
       "13     21                   1                \n",
       "14     27                   2                \n",
       "15    133                   1                \n",
       "16      2                   1                \n",
       "17     36                   1                \n",
       "18      3                   1                \n",
       "19      1                   1                \n",
       "20     16                   1                \n",
       "21     75                   2                \n",
       "22      1                   1                \n",
       "23    144                   2                \n",
       "24     90                   2                \n",
       "25      3                   1                \n",
       "26     32                   1                \n",
       "27      1                   1                \n",
       "28      5                   1                \n",
       "29     74                   1                \n",
       "30     29                   2                \n",
       "⋮     ⋮                     ⋮                \n",
       "10819  15                   1                \n",
       "10820  15                   2                \n",
       "10821  64                   1                \n",
       "10822  22                   2                \n",
       "10823  10                   1                \n",
       "10824  30                   1                \n",
       "10825   4                   1                \n",
       "10826  28                   1                \n",
       "10827   7                   1                \n",
       "10828 235                   3                \n",
       "10829  65                   1                \n",
       "10830  15                   1                \n",
       "10831   1                   1                \n",
       "10832 127                   1                \n",
       "10833  43                   1                \n",
       "10834  71                   1                \n",
       "10835  35                   1                \n",
       "10836  11                   1                \n",
       "10837   1                   1                \n",
       "10838   6                   1                \n",
       "10839   9                   1                \n",
       "10840   1                   1                \n",
       "10841  47                   2                \n",
       "10842 102                   1                \n",
       "10843   7                   1                \n",
       "10844  15                   1                \n",
       "10845   3                   1                \n",
       "10846  64                   1                \n",
       "10847  64                   1                \n",
       "10848  28                   1                "
      ]
     },
     "metadata": {},
     "output_type": "display_data"
    }
   ],
   "source": [
    "play=read.csv(file=\"player.csv\",header=TRUE, sep=\",\")\n",
    "play"
   ]
  },
  {
   "cell_type": "markdown",
   "metadata": {},
   "source": [
    "#### Reading Team.csv"
   ]
  },
  {
   "cell_type": "code",
   "execution_count": 4,
   "metadata": {
    "collapsed": true
   },
   "outputs": [],
   "source": [
    "tm=read.csv(file=\"team.csv\",header=TRUE, sep=\",\")"
   ]
  },
  {
   "cell_type": "markdown",
   "metadata": {},
   "source": [
    "### Answering Questions !!"
   ]
  },
  {
   "cell_type": "markdown",
   "metadata": {},
   "source": [
    "##### Question 1: Which are the top 10 players by overall rating?"
   ]
  },
  {
   "cell_type": "code",
   "execution_count": 7,
   "metadata": {
    "collapsed": false
   },
   "outputs": [
    {
     "data": {
      "text/html": [
       "<table>\n",
       "<thead><tr><th scope=col>player_name</th><th scope=col>overall_rating</th></tr></thead>\n",
       "<tbody>\n",
       "\t<tr><td>Lionel Messi     </td><td>94               </td></tr>\n",
       "\t<tr><td>Cristiano Ronaldo</td><td>93               </td></tr>\n",
       "\t<tr><td>Gianluigi Buffon </td><td>93               </td></tr>\n",
       "\t<tr><td>Wayne Rooney     </td><td>93               </td></tr>\n",
       "\t<tr><td>Gregory Coupet   </td><td>92               </td></tr>\n",
       "\t<tr><td>Xavi Hernandez   </td><td>92               </td></tr>\n",
       "\t<tr><td>Alessandro Nesta </td><td>91               </td></tr>\n",
       "\t<tr><td>Andres Iniesta   </td><td>91               </td></tr>\n",
       "\t<tr><td>Fabio Cannavaro  </td><td>91               </td></tr>\n",
       "\t<tr><td>Iker Casillas    </td><td>91               </td></tr>\n",
       "</tbody>\n",
       "</table>\n"
      ],
      "text/latex": [
       "\\begin{tabular}{r|ll}\n",
       " player\\_name & overall\\_rating\\\\\n",
       "\\hline\n",
       "\t Lionel Messi      & 94               \\\\\n",
       "\t Cristiano Ronaldo & 93               \\\\\n",
       "\t Gianluigi Buffon  & 93               \\\\\n",
       "\t Wayne Rooney      & 93               \\\\\n",
       "\t Gregory Coupet    & 92               \\\\\n",
       "\t Xavi Hernandez    & 92               \\\\\n",
       "\t Alessandro Nesta  & 91               \\\\\n",
       "\t Andres Iniesta    & 91               \\\\\n",
       "\t Fabio Cannavaro   & 91               \\\\\n",
       "\t Iker Casillas     & 91               \\\\\n",
       "\\end{tabular}\n"
      ],
      "text/markdown": [
       "\n",
       "player_name | overall_rating | \n",
       "|---|---|---|---|---|---|---|---|---|---|\n",
       "| Lionel Messi      | 94                | \n",
       "| Cristiano Ronaldo | 93                | \n",
       "| Gianluigi Buffon  | 93                | \n",
       "| Wayne Rooney      | 93                | \n",
       "| Gregory Coupet    | 92                | \n",
       "| Xavi Hernandez    | 92                | \n",
       "| Alessandro Nesta  | 91                | \n",
       "| Andres Iniesta    | 91                | \n",
       "| Fabio Cannavaro   | 91                | \n",
       "| Iker Casillas     | 91                | \n",
       "\n",
       "\n"
      ],
      "text/plain": [
       "   player_name       overall_rating\n",
       "1  Lionel Messi      94            \n",
       "2  Cristiano Ronaldo 93            \n",
       "3  Gianluigi Buffon  93            \n",
       "4  Wayne Rooney      93            \n",
       "5  Gregory Coupet    92            \n",
       "6  Xavi Hernandez    92            \n",
       "7  Alessandro Nesta  91            \n",
       "8  Andres Iniesta    91            \n",
       "9  Fabio Cannavaro   91            \n",
       "10 Iker Casillas     91            "
      ]
     },
     "metadata": {},
     "output_type": "display_data"
    }
   ],
   "source": [
    "a1=arrange(play,desc(overall_rating),player_name)   #Question 1\n",
    "ans1=select(a1,player_name,overall_rating)\n",
    "head(ans1,10)"
   ]
  },
  {
   "cell_type": "markdown",
   "metadata": {},
   "source": [
    "##### Question 2: Which are the top 10 goalkeepers by sum of gk attributes?"
   ]
  },
  {
   "cell_type": "code",
   "execution_count": 9,
   "metadata": {
    "collapsed": false
   },
   "outputs": [
    {
     "data": {
      "text/html": [
       "<table>\n",
       "<thead><tr><th scope=col>player_name</th><th scope=col>gk_rating</th></tr></thead>\n",
       "<tbody>\n",
       "\t<tr><td>Gianluigi Buffon </td><td>449              </td></tr>\n",
       "\t<tr><td>Gregory Coupet   </td><td>447              </td></tr>\n",
       "\t<tr><td>Petr Cech        </td><td>445              </td></tr>\n",
       "\t<tr><td>Iker Casillas    </td><td>442              </td></tr>\n",
       "\t<tr><td>Manuel Neuer     </td><td>440              </td></tr>\n",
       "\t<tr><td>Sebastian Frey   </td><td>437              </td></tr>\n",
       "\t<tr><td>Edwin van der Sar</td><td>436              </td></tr>\n",
       "\t<tr><td>David De Gea     </td><td>429              </td></tr>\n",
       "\t<tr><td>Pepe Reina       </td><td>428              </td></tr>\n",
       "\t<tr><td>Paul Robinson    </td><td>426              </td></tr>\n",
       "</tbody>\n",
       "</table>\n"
      ],
      "text/latex": [
       "\\begin{tabular}{r|ll}\n",
       " player\\_name & gk\\_rating\\\\\n",
       "\\hline\n",
       "\t Gianluigi Buffon  & 449              \\\\\n",
       "\t Gregory Coupet    & 447              \\\\\n",
       "\t Petr Cech         & 445              \\\\\n",
       "\t Iker Casillas     & 442              \\\\\n",
       "\t Manuel Neuer      & 440              \\\\\n",
       "\t Sebastian Frey    & 437              \\\\\n",
       "\t Edwin van der Sar & 436              \\\\\n",
       "\t David De Gea      & 429              \\\\\n",
       "\t Pepe Reina        & 428              \\\\\n",
       "\t Paul Robinson     & 426              \\\\\n",
       "\\end{tabular}\n"
      ],
      "text/markdown": [
       "\n",
       "player_name | gk_rating | \n",
       "|---|---|---|---|---|---|---|---|---|---|\n",
       "| Gianluigi Buffon  | 449               | \n",
       "| Gregory Coupet    | 447               | \n",
       "| Petr Cech         | 445               | \n",
       "| Iker Casillas     | 442               | \n",
       "| Manuel Neuer      | 440               | \n",
       "| Sebastian Frey    | 437               | \n",
       "| Edwin van der Sar | 436               | \n",
       "| David De Gea      | 429               | \n",
       "| Pepe Reina        | 428               | \n",
       "| Paul Robinson     | 426               | \n",
       "\n",
       "\n"
      ],
      "text/plain": [
       "   player_name       gk_rating\n",
       "1  Gianluigi Buffon  449      \n",
       "2  Gregory Coupet    447      \n",
       "3  Petr Cech         445      \n",
       "4  Iker Casillas     442      \n",
       "5  Manuel Neuer      440      \n",
       "6  Sebastian Frey    437      \n",
       "7  Edwin van der Sar 436      \n",
       "8  David De Gea      429      \n",
       "9  Pepe Reina        428      \n",
       "10 Paul Robinson     426      "
      ]
     },
     "metadata": {},
     "output_type": "display_data"
    }
   ],
   "source": [
    "a2=arrange(play,desc(gk_rating),player_name)  #Question 2\n",
    "ans2=select(a2,player_name,gk_rating)\n",
    "head(ans2,10)"
   ]
  },
  {
   "cell_type": "markdown",
   "metadata": {},
   "source": [
    "##### Question 3: Which are the top 10 players by number of appearances (with any team they played with)?"
   ]
  },
  {
   "cell_type": "code",
   "execution_count": 10,
   "metadata": {
    "collapsed": false
   },
   "outputs": [
    {
     "data": {
      "text/html": [
       "<table>\n",
       "<thead><tr><th scope=col>player_name</th><th scope=col>Number_of_appearances</th></tr></thead>\n",
       "<tbody>\n",
       "\t<tr><td>Steve Mandanda      </td><td>300                 </td></tr>\n",
       "\t<tr><td>Stephane Ruffier    </td><td>294                 </td></tr>\n",
       "\t<tr><td>Gorka Iraizoz Moreno</td><td>286                 </td></tr>\n",
       "\t<tr><td>Samir Handanovic    </td><td>286                 </td></tr>\n",
       "\t<tr><td>Hugo Lloris         </td><td>282                 </td></tr>\n",
       "\t<tr><td>Tim Howard          </td><td>282                 </td></tr>\n",
       "\t<tr><td>Joe Hart            </td><td>275                 </td></tr>\n",
       "\t<tr><td>Cedric Carrasso     </td><td>268                 </td></tr>\n",
       "\t<tr><td>Daniel Congre       </td><td>262                 </td></tr>\n",
       "\t<tr><td>Moussa Sissoko      </td><td>260                 </td></tr>\n",
       "</tbody>\n",
       "</table>\n"
      ],
      "text/latex": [
       "\\begin{tabular}{r|ll}\n",
       " player\\_name & Number\\_of\\_appearances\\\\\n",
       "\\hline\n",
       "\t Steve Mandanda       & 300                 \\\\\n",
       "\t Stephane Ruffier     & 294                 \\\\\n",
       "\t Gorka Iraizoz Moreno & 286                 \\\\\n",
       "\t Samir Handanovic     & 286                 \\\\\n",
       "\t Hugo Lloris          & 282                 \\\\\n",
       "\t Tim Howard           & 282                 \\\\\n",
       "\t Joe Hart             & 275                 \\\\\n",
       "\t Cedric Carrasso      & 268                 \\\\\n",
       "\t Daniel Congre        & 262                 \\\\\n",
       "\t Moussa Sissoko       & 260                 \\\\\n",
       "\\end{tabular}\n"
      ],
      "text/markdown": [
       "\n",
       "player_name | Number_of_appearances | \n",
       "|---|---|---|---|---|---|---|---|---|---|\n",
       "| Steve Mandanda       | 300                  | \n",
       "| Stephane Ruffier     | 294                  | \n",
       "| Gorka Iraizoz Moreno | 286                  | \n",
       "| Samir Handanovic     | 286                  | \n",
       "| Hugo Lloris          | 282                  | \n",
       "| Tim Howard           | 282                  | \n",
       "| Joe Hart             | 275                  | \n",
       "| Cedric Carrasso      | 268                  | \n",
       "| Daniel Congre        | 262                  | \n",
       "| Moussa Sissoko       | 260                  | \n",
       "\n",
       "\n"
      ],
      "text/plain": [
       "   player_name          Number_of_appearances\n",
       "1  Steve Mandanda       300                  \n",
       "2  Stephane Ruffier     294                  \n",
       "3  Gorka Iraizoz Moreno 286                  \n",
       "4  Samir Handanovic     286                  \n",
       "5  Hugo Lloris          282                  \n",
       "6  Tim Howard           282                  \n",
       "7  Joe Hart             275                  \n",
       "8  Cedric Carrasso      268                  \n",
       "9  Daniel Congre        262                  \n",
       "10 Moussa Sissoko       260                  "
      ]
     },
     "metadata": {},
     "output_type": "display_data"
    }
   ],
   "source": [
    "a3=arrange(play,desc(Number_of_appearances),player_name) #Question 3\n",
    "ans3=select(a3,player_name,Number_of_appearances)\n",
    "head(ans3,10)"
   ]
  },
  {
   "cell_type": "markdown",
   "metadata": {},
   "source": [
    "##### Question 4: Which are the top 10 players by number of leagues they played in?"
   ]
  },
  {
   "cell_type": "code",
   "execution_count": 11,
   "metadata": {
    "collapsed": false
   },
   "outputs": [
    {
     "data": {
      "text/html": [
       "<table>\n",
       "<thead><tr><th scope=col>player_name</th><th scope=col>Number_of_Leagues</th></tr></thead>\n",
       "<tbody>\n",
       "\t<tr><td>Gelson Fernandes     </td><td>6                    </td></tr>\n",
       "\t<tr><td>Filip Djuricic       </td><td>5                    </td></tr>\n",
       "\t<tr><td>Ricky van Wolfswinkel</td><td>5                    </td></tr>\n",
       "\t<tr><td>Aleksandar Tonev     </td><td>4                    </td></tr>\n",
       "\t<tr><td>Alfred Finnbogason   </td><td>4                    </td></tr>\n",
       "\t<tr><td>Almen Abdi           </td><td>4                    </td></tr>\n",
       "\t<tr><td>Aly Cissokho         </td><td>4                    </td></tr>\n",
       "\t<tr><td>Angel Di Maria       </td><td>4                    </td></tr>\n",
       "\t<tr><td>Bojan Krkic          </td><td>4                    </td></tr>\n",
       "\t<tr><td>Bryan Ruiz           </td><td>4                    </td></tr>\n",
       "</tbody>\n",
       "</table>\n"
      ],
      "text/latex": [
       "\\begin{tabular}{r|ll}\n",
       " player\\_name & Number\\_of\\_Leagues\\\\\n",
       "\\hline\n",
       "\t Gelson Fernandes      & 6                    \\\\\n",
       "\t Filip Djuricic        & 5                    \\\\\n",
       "\t Ricky van Wolfswinkel & 5                    \\\\\n",
       "\t Aleksandar Tonev      & 4                    \\\\\n",
       "\t Alfred Finnbogason    & 4                    \\\\\n",
       "\t Almen Abdi            & 4                    \\\\\n",
       "\t Aly Cissokho          & 4                    \\\\\n",
       "\t Angel Di Maria        & 4                    \\\\\n",
       "\t Bojan Krkic           & 4                    \\\\\n",
       "\t Bryan Ruiz            & 4                    \\\\\n",
       "\\end{tabular}\n"
      ],
      "text/markdown": [
       "\n",
       "player_name | Number_of_Leagues | \n",
       "|---|---|---|---|---|---|---|---|---|---|\n",
       "| Gelson Fernandes      | 6                     | \n",
       "| Filip Djuricic        | 5                     | \n",
       "| Ricky van Wolfswinkel | 5                     | \n",
       "| Aleksandar Tonev      | 4                     | \n",
       "| Alfred Finnbogason    | 4                     | \n",
       "| Almen Abdi            | 4                     | \n",
       "| Aly Cissokho          | 4                     | \n",
       "| Angel Di Maria        | 4                     | \n",
       "| Bojan Krkic           | 4                     | \n",
       "| Bryan Ruiz            | 4                     | \n",
       "\n",
       "\n"
      ],
      "text/plain": [
       "   player_name           Number_of_Leagues\n",
       "1  Gelson Fernandes      6                \n",
       "2  Filip Djuricic        5                \n",
       "3  Ricky van Wolfswinkel 5                \n",
       "4  Aleksandar Tonev      4                \n",
       "5  Alfred Finnbogason    4                \n",
       "6  Almen Abdi            4                \n",
       "7  Aly Cissokho          4                \n",
       "8  Angel Di Maria        4                \n",
       "9  Bojan Krkic           4                \n",
       "10 Bryan Ruiz            4                "
      ]
     },
     "metadata": {},
     "output_type": "display_data"
    }
   ],
   "source": [
    "a4=arrange(play,desc(Number_of_Leagues),player_name) #Question 4\n",
    "ans4=select(a4,player_name,Number_of_Leagues)\n",
    "head(ans4,10)"
   ]
  },
  {
   "cell_type": "markdown",
   "metadata": {},
   "source": [
    "##### Question 5: Which are the top 10 teams by sum of build up play attributes?"
   ]
  },
  {
   "cell_type": "code",
   "execution_count": 12,
   "metadata": {
    "collapsed": false
   },
   "outputs": [
    {
     "data": {
      "text/html": [
       "<table>\n",
       "<thead><tr><th scope=col>team_long_name</th><th scope=col>buildUpPlay</th></tr></thead>\n",
       "<tbody>\n",
       "\t<tr><td>Torino                    </td><td>209                       </td></tr>\n",
       "\t<tr><td>Fortuna Düsseldorf        </td><td>198                       </td></tr>\n",
       "\t<tr><td>Podbeskidzie Bielsko-Biała</td><td>193                       </td></tr>\n",
       "\t<tr><td>Widzew Łódź               </td><td>190                       </td></tr>\n",
       "\t<tr><td>Carpi                     </td><td>190                       </td></tr>\n",
       "\t<tr><td>FC Nantes                 </td><td>189                       </td></tr>\n",
       "\t<tr><td>Sassuolo                  </td><td>188                       </td></tr>\n",
       "\t<tr><td>Lazio                     </td><td>188                       </td></tr>\n",
       "\t<tr><td>Chievo Verona             </td><td>187                       </td></tr>\n",
       "\t<tr><td>Blackburn Rovers          </td><td>185                       </td></tr>\n",
       "</tbody>\n",
       "</table>\n"
      ],
      "text/latex": [
       "\\begin{tabular}{r|ll}\n",
       " team\\_long\\_name & buildUpPlay\\\\\n",
       "\\hline\n",
       "\t Torino                     & 209                       \\\\\n",
       "\t Fortuna Düsseldorf         & 198                       \\\\\n",
       "\t Podbeskidzie Bielsko-Biała & 193                       \\\\\n",
       "\t Widzew Łódź                & 190                       \\\\\n",
       "\t Carpi                      & 190                       \\\\\n",
       "\t FC Nantes                  & 189                       \\\\\n",
       "\t Sassuolo                   & 188                       \\\\\n",
       "\t Lazio                      & 188                       \\\\\n",
       "\t Chievo Verona              & 187                       \\\\\n",
       "\t Blackburn Rovers           & 185                       \\\\\n",
       "\\end{tabular}\n"
      ],
      "text/markdown": [
       "\n",
       "team_long_name | buildUpPlay | \n",
       "|---|---|---|---|---|---|---|---|---|---|\n",
       "| Torino                     | 209                        | \n",
       "| Fortuna Düsseldorf         | 198                        | \n",
       "| Podbeskidzie Bielsko-Biała | 193                        | \n",
       "| Widzew Łódź                | 190                        | \n",
       "| Carpi                      | 190                        | \n",
       "| FC Nantes                  | 189                        | \n",
       "| Sassuolo                   | 188                        | \n",
       "| Lazio                      | 188                        | \n",
       "| Chievo Verona              | 187                        | \n",
       "| Blackburn Rovers           | 185                        | \n",
       "\n",
       "\n"
      ],
      "text/plain": [
       "   team_long_name             buildUpPlay\n",
       "1  Torino                     209        \n",
       "2  Fortuna Düsseldorf         198        \n",
       "3  Podbeskidzie Bielsko-Biała 193        \n",
       "4  Widzew Łódź                190        \n",
       "5  Carpi                      190        \n",
       "6  FC Nantes                  189        \n",
       "7  Sassuolo                   188        \n",
       "8  Lazio                      188        \n",
       "9  Chievo Verona              187        \n",
       "10 Blackburn Rovers           185        "
      ]
     },
     "metadata": {},
     "output_type": "display_data"
    }
   ],
   "source": [
    "a5=arrange(tm,desc(buildUpPlay))   # Question 5\n",
    "ans5=select(a5,team_long_name,buildUpPlay)\n",
    "ans5=na.omit(ans5)\n",
    "head(ans5,10)"
   ]
  },
  {
   "cell_type": "markdown",
   "metadata": {},
   "source": [
    "##### Question 6: Which are the top 10 teams by sum of chance creation attributes?"
   ]
  },
  {
   "cell_type": "code",
   "execution_count": 14,
   "metadata": {
    "collapsed": false
   },
   "outputs": [
    {
     "data": {
      "text/html": [
       "<table>\n",
       "<thead><tr><th scope=col>team_long_name</th><th scope=col>chanceCreation</th></tr></thead>\n",
       "<tbody>\n",
       "\t<tr><td>Lazio                  </td><td>220                    </td></tr>\n",
       "\t<tr><td>Napoli                 </td><td>215                    </td></tr>\n",
       "\t<tr><td>Burnley                </td><td>210                    </td></tr>\n",
       "\t<tr><td>Manchester City        </td><td>210                    </td></tr>\n",
       "\t<tr><td>Aberdeen               </td><td>210                    </td></tr>\n",
       "\t<tr><td>Rangers                </td><td>210                    </td></tr>\n",
       "\t<tr><td>Olympique de Marseille </td><td>210                    </td></tr>\n",
       "\t<tr><td>Wolverhampton Wanderers</td><td>210                    </td></tr>\n",
       "\t<tr><td>Birmingham City        </td><td>210                    </td></tr>\n",
       "\t<tr><td>Reading                </td><td>210                    </td></tr>\n",
       "</tbody>\n",
       "</table>\n"
      ],
      "text/latex": [
       "\\begin{tabular}{r|ll}\n",
       " team\\_long\\_name & chanceCreation\\\\\n",
       "\\hline\n",
       "\t Lazio                   & 220                    \\\\\n",
       "\t Napoli                  & 215                    \\\\\n",
       "\t Burnley                 & 210                    \\\\\n",
       "\t Manchester City         & 210                    \\\\\n",
       "\t Aberdeen                & 210                    \\\\\n",
       "\t Rangers                 & 210                    \\\\\n",
       "\t Olympique de Marseille  & 210                    \\\\\n",
       "\t Wolverhampton Wanderers & 210                    \\\\\n",
       "\t Birmingham City         & 210                    \\\\\n",
       "\t Reading                 & 210                    \\\\\n",
       "\\end{tabular}\n"
      ],
      "text/markdown": [
       "\n",
       "team_long_name | chanceCreation | \n",
       "|---|---|---|---|---|---|---|---|---|---|\n",
       "| Lazio                   | 220                     | \n",
       "| Napoli                  | 215                     | \n",
       "| Burnley                 | 210                     | \n",
       "| Manchester City         | 210                     | \n",
       "| Aberdeen                | 210                     | \n",
       "| Rangers                 | 210                     | \n",
       "| Olympique de Marseille  | 210                     | \n",
       "| Wolverhampton Wanderers | 210                     | \n",
       "| Birmingham City         | 210                     | \n",
       "| Reading                 | 210                     | \n",
       "\n",
       "\n"
      ],
      "text/plain": [
       "   team_long_name          chanceCreation\n",
       "1  Lazio                   220           \n",
       "2  Napoli                  215           \n",
       "3  Burnley                 210           \n",
       "4  Manchester City         210           \n",
       "5  Aberdeen                210           \n",
       "6  Rangers                 210           \n",
       "7  Olympique de Marseille  210           \n",
       "8  Wolverhampton Wanderers 210           \n",
       "9  Birmingham City         210           \n",
       "10 Reading                 210           "
      ]
     },
     "metadata": {},
     "output_type": "display_data"
    }
   ],
   "source": [
    "a6=arrange(tm,desc(chanceCreation))    # Question 6\n",
    "ans6=select(a6,team_long_name,chanceCreation)\n",
    "ans6=na.omit(ans6)\n",
    "head(ans6,10)"
   ]
  },
  {
   "cell_type": "markdown",
   "metadata": {},
   "source": [
    "##### Question 7: Which are the top 10 teams by sum of defense attributes?"
   ]
  },
  {
   "cell_type": "code",
   "execution_count": 17,
   "metadata": {
    "collapsed": false
   },
   "outputs": [
    {
     "data": {
      "text/html": [
       "<table>\n",
       "<thead><tr><th scope=col>team_long_name</th><th scope=col>defense</th></tr></thead>\n",
       "<tbody>\n",
       "\t<tr><td>Zagłębie Lubin         </td><td>210                    </td></tr>\n",
       "\t<tr><td>Leicester City         </td><td>210                    </td></tr>\n",
       "\t<tr><td>Southampton            </td><td>210                    </td></tr>\n",
       "\t<tr><td>AS Nancy-Lorraine      </td><td>210                    </td></tr>\n",
       "\t<tr><td>Blackpool              </td><td>210                    </td></tr>\n",
       "\t<tr><td>Wolverhampton Wanderers</td><td>210                    </td></tr>\n",
       "\t<tr><td>Birmingham City        </td><td>210                    </td></tr>\n",
       "\t<tr><td>West Bromwich Albion   </td><td>210                    </td></tr>\n",
       "\t<tr><td>Hull City              </td><td>210                    </td></tr>\n",
       "\t<tr><td>Bournemouth            </td><td>210                    </td></tr>\n",
       "</tbody>\n",
       "</table>\n"
      ],
      "text/latex": [
       "\\begin{tabular}{r|ll}\n",
       " team\\_long\\_name & defense\\\\\n",
       "\\hline\n",
       "\t Zagłębie Lubin          & 210                    \\\\\n",
       "\t Leicester City          & 210                    \\\\\n",
       "\t Southampton             & 210                    \\\\\n",
       "\t AS Nancy-Lorraine       & 210                    \\\\\n",
       "\t Blackpool               & 210                    \\\\\n",
       "\t Wolverhampton Wanderers & 210                    \\\\\n",
       "\t Birmingham City         & 210                    \\\\\n",
       "\t West Bromwich Albion    & 210                    \\\\\n",
       "\t Hull City               & 210                    \\\\\n",
       "\t Bournemouth             & 210                    \\\\\n",
       "\\end{tabular}\n"
      ],
      "text/markdown": [
       "\n",
       "team_long_name | defense | \n",
       "|---|---|---|---|---|---|---|---|---|---|\n",
       "| Zagłębie Lubin          | 210                     | \n",
       "| Leicester City          | 210                     | \n",
       "| Southampton             | 210                     | \n",
       "| AS Nancy-Lorraine       | 210                     | \n",
       "| Blackpool               | 210                     | \n",
       "| Wolverhampton Wanderers | 210                     | \n",
       "| Birmingham City         | 210                     | \n",
       "| West Bromwich Albion    | 210                     | \n",
       "| Hull City               | 210                     | \n",
       "| Bournemouth             | 210                     | \n",
       "\n",
       "\n"
      ],
      "text/plain": [
       "   team_long_name          defense\n",
       "1  Zagłębie Lubin          210    \n",
       "2  Leicester City          210    \n",
       "3  Southampton             210    \n",
       "4  AS Nancy-Lorraine       210    \n",
       "5  Blackpool               210    \n",
       "6  Wolverhampton Wanderers 210    \n",
       "7  Birmingham City         210    \n",
       "8  West Bromwich Albion    210    \n",
       "9  Hull City               210    \n",
       "10 Bournemouth             210    "
      ]
     },
     "metadata": {},
     "output_type": "display_data"
    }
   ],
   "source": [
    "a7=arrange(tm,desc(defense))    # Question 7\n",
    "ans7=select(a7,team_long_name,defense)\n",
    "ans7=na.omit(ans7)\n",
    "head(ans7,10)\n"
   ]
  },
  {
   "cell_type": "markdown",
   "metadata": {},
   "source": [
    "##### Question 8: Which are the top 10 teams by number of scored goals?"
   ]
  },
  {
   "cell_type": "code",
   "execution_count": 16,
   "metadata": {
    "collapsed": false
   },
   "outputs": [
    {
     "data": {
      "text/html": [
       "<table>\n",
       "<thead><tr><th scope=col>team_long_name</th><th scope=col>Goals</th></tr></thead>\n",
       "<tbody>\n",
       "\t<tr><td>FC Barcelona     </td><td>849              </td></tr>\n",
       "\t<tr><td>Real Madrid CF   </td><td>843              </td></tr>\n",
       "\t<tr><td>Celtic           </td><td>695              </td></tr>\n",
       "\t<tr><td>FC Bayern Munich </td><td>653              </td></tr>\n",
       "\t<tr><td>PSV              </td><td>652              </td></tr>\n",
       "\t<tr><td>Ajax             </td><td>647              </td></tr>\n",
       "\t<tr><td>FC Basel         </td><td>619              </td></tr>\n",
       "\t<tr><td>Manchester City  </td><td>606              </td></tr>\n",
       "\t<tr><td>Chelsea          </td><td>583              </td></tr>\n",
       "\t<tr><td>Manchester United</td><td>582              </td></tr>\n",
       "</tbody>\n",
       "</table>\n"
      ],
      "text/latex": [
       "\\begin{tabular}{r|ll}\n",
       " team\\_long\\_name & Goals\\\\\n",
       "\\hline\n",
       "\t FC Barcelona      & 849              \\\\\n",
       "\t Real Madrid CF    & 843              \\\\\n",
       "\t Celtic            & 695              \\\\\n",
       "\t FC Bayern Munich  & 653              \\\\\n",
       "\t PSV               & 652              \\\\\n",
       "\t Ajax              & 647              \\\\\n",
       "\t FC Basel          & 619              \\\\\n",
       "\t Manchester City   & 606              \\\\\n",
       "\t Chelsea           & 583              \\\\\n",
       "\t Manchester United & 582              \\\\\n",
       "\\end{tabular}\n"
      ],
      "text/markdown": [
       "\n",
       "team_long_name | Goals | \n",
       "|---|---|---|---|---|---|---|---|---|---|\n",
       "| FC Barcelona      | 849               | \n",
       "| Real Madrid CF    | 843               | \n",
       "| Celtic            | 695               | \n",
       "| FC Bayern Munich  | 653               | \n",
       "| PSV               | 652               | \n",
       "| Ajax              | 647               | \n",
       "| FC Basel          | 619               | \n",
       "| Manchester City   | 606               | \n",
       "| Chelsea           | 583               | \n",
       "| Manchester United | 582               | \n",
       "\n",
       "\n"
      ],
      "text/plain": [
       "   team_long_name    Goals\n",
       "1  FC Barcelona      849  \n",
       "2  Real Madrid CF    843  \n",
       "3  Celtic            695  \n",
       "4  FC Bayern Munich  653  \n",
       "5  PSV               652  \n",
       "6  Ajax              647  \n",
       "7  FC Basel          619  \n",
       "8  Manchester City   606  \n",
       "9  Chelsea           583  \n",
       "10 Manchester United 582  "
      ]
     },
     "metadata": {},
     "output_type": "display_data"
    }
   ],
   "source": [
    "a8=arrange(tm,desc(Goals))     # Question 8\n",
    "ans8=select(a8,team_long_name,Goals)\n",
    "ans8=na.omit(ans8)\n",
    "head(ans8,10)"
   ]
  }
 ],
 "metadata": {
  "kernelspec": {
   "display_name": "R",
   "language": "R",
   "name": "ir"
  },
  "language_info": {
   "codemirror_mode": "r",
   "file_extension": ".r",
   "mimetype": "text/x-r-source",
   "name": "R",
   "pygments_lexer": "r",
   "version": "3.3.2"
  }
 },
 "nbformat": 4,
 "nbformat_minor": 2
}
