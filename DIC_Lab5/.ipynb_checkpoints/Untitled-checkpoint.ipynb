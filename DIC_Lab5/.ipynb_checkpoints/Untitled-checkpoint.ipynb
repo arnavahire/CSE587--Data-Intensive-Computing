{
 "cells": [
  {
   "cell_type": "code",
   "execution_count": 12,
   "metadata": {
    "collapsed": true
   },
   "outputs": [],
   "source": [
    "fileToOpen=open(\"/home/arnav/Desktop/CSE_587_DIC/DIC_Lab5/new_lemmatizer.csv\",\"r\")"
   ]
  },
  {
   "cell_type": "code",
   "execution_count": 13,
   "metadata": {
    "collapsed": false
   },
   "outputs": [],
   "source": [
    "str=fileToOpen.readline()"
   ]
  },
  {
   "cell_type": "code",
   "execution_count": 16,
   "metadata": {
    "collapsed": false
   },
   "outputs": [],
   "source": [
    "str2=str.splitlines()[0]"
   ]
  },
  {
   "cell_type": "code",
   "execution_count": 17,
   "metadata": {
    "collapsed": false
   },
   "outputs": [
    {
     "name": "stdout",
     "output_type": "stream",
     "text": [
      "['a', 'ab', 'a', 'aulus', '', '', '', '', '']\n"
     ]
    }
   ],
   "source": [
    "newstr=str2.split(',')\n",
    "print newstr"
   ]
  },
  {
   "cell_type": "code",
   "execution_count": 18,
   "metadata": {
    "collapsed": false
   },
   "outputs": [
    {
     "name": "stdout",
     "output_type": "stream",
     "text": [
      "['a', 'ab', 'a', 'aulus']\n"
     ]
    }
   ],
   "source": [
    "newstr=filter(None,newstr)\n",
    "print newstr"
   ]
  },
  {
   "cell_type": "code",
   "execution_count": 25,
   "metadata": {
    "collapsed": false
   },
   "outputs": [
    {
     "name": "stdout",
     "output_type": "stream",
     "text": [
      "a,ab,a,aulus,,,,,\n"
     ]
    },
    {
     "data": {
      "text/plain": [
       "True"
      ]
     },
     "execution_count": 25,
     "metadata": {},
     "output_type": "execute_result"
    }
   ],
   "source": [
    "with open(\"/home/arnav/Desktop/CSE_587_DIC/DIC_Lab5/new_lemmatizer.csv\",\"r\") as f:\n",
    "    read_lines=f.readlines()\n",
    "    for line in read_lines:\n",
    "        str=line.splitlines()[0]\n",
    "        print str\n",
    "        break\n",
    "        \n",
    "        \n",
    "        #print line\n",
    "f.closed"
   ]
  },
  {
   "cell_type": "code",
   "execution_count": null,
   "metadata": {
    "collapsed": true
   },
   "outputs": [],
   "source": [
    "dict={}\n",
    "with open(\"/home/arnav/Desktop/CSE_587_DIC/DIC_Lab5/new_lemmatizer.csv\",\"r\") as f:\n",
    "    read_lines=f.readlines()\n",
    "    for line in read_lines:\n",
    "        str=line.splitlines()[0]  # removes \\r\\n from your line\n",
    "        str=str.split(',')        # splits your line on comma\n",
    "        newstr=filter(None,str)   # we remove all the blanks that are stored in you list of strings using this filter\n",
    "        print newstr\n",
    "        key=newstr[0]             # the first value in the line will be key, other's will be lemmas\n",
    "        print key\n",
    "        i=0\n",
    "        while i<len(newstr):      # for all the lines in newstr array of strings\n",
    "            print i   \n",
    "            if(i==0):             # ignore key\n",
    "                i=i+1\n",
    "                continue\n",
    "            if(dict.has_key(key)): # if the dictionary already has the key, update it\n",
    "                strg=dict.get(key)\n",
    "                newstrg=strg+\" \"+newstr[i]\n",
    "                print newstrg\n",
    "                dict[key]=newstrg\n",
    "                print \"Key's value: \"+dict[key]\n",
    "                i=i+1\n",
    "            else:                     # if a new entry is being made in the dictionary\n",
    "                newstrg=newstr[i]\n",
    "                print newstrg\n",
    "                dict[key]=newstrg\n",
    "                print \"Key's value: \"+dict[key]\n",
    "                i=i+1  \n",
    "            if(i==len(newstr)):       # when all the words in a line are over\n",
    "                break\n",
    "        print \"*\"\n",
    "f.closed"
   ]
  }
 ],
 "metadata": {
  "kernelspec": {
   "display_name": "Python 2",
   "language": "python",
   "name": "python2"
  },
  "language_info": {
   "codemirror_mode": {
    "name": "ipython",
    "version": 2
   },
   "file_extension": ".py",
   "mimetype": "text/x-python",
   "name": "python",
   "nbconvert_exporter": "python",
   "pygments_lexer": "ipython2",
   "version": "2.7.13"
  }
 },
 "nbformat": 4,
 "nbformat_minor": 2
}
